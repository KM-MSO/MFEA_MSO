{
 "cells": [
  {
   "cell_type": "code",
   "execution_count": 1,
   "metadata": {},
   "outputs": [],
   "source": [
    "from MFEA_lib.model import MFEA1\n",
    "from MFEA_lib.model.utils import *\n",
    "from MFEA_lib.operators.Crossover import SBX_Crossover\n",
    "from MFEA_lib.operators.Mutation import Polynomial_Mutation\n",
    "from MFEA_lib.operators.Selection import ElitismSelection\n",
    "from MFEA_lib.tasks.Benchmark.Funcs import CEC17_benchmark, GECCO20_benchmark_50tasks"
   ]
  },
  {
   "cell_type": "markdown",
   "metadata": {},
   "source": [
    "#### Benchmark"
   ]
  },
  {
   "cell_type": "markdown",
   "metadata": {},
   "source": [
    "##### CEC17"
   ]
  },
  {
   "cell_type": "code",
   "execution_count": 2,
   "metadata": {},
   "outputs": [],
   "source": [
    "cec17_10tasks, IndClass = CEC17_benchmark.get_10tasks_benchmark()"
   ]
  },
  {
   "cell_type": "markdown",
   "metadata": {},
   "source": [
    "1 time"
   ]
  },
  {
   "cell_type": "code",
   "execution_count": 3,
   "metadata": {},
   "outputs": [
    {
     "name": "stdout",
     "output_type": "stream",
     "text": [
      "Time: 00m 7.48s    2 % [>                   ]  Cost: 4.74E+04  5.37E+04  5.26E+04  2.30E+01  7.82E+08  2.11E+01  5.70E+01  1.55E+04  1.61E+01  1.26E+04  ,  "
     ]
    },
    {
     "ename": "KeyboardInterrupt",
     "evalue": "",
     "output_type": "error",
     "traceback": [
      "\u001b[0;31m---------------------------------------------------------------------------\u001b[0m",
      "\u001b[0;31mKeyboardInterrupt\u001b[0m                         Traceback (most recent call last)",
      "\u001b[0;32m/tmp/ipykernel_368584/2735099093.py\u001b[0m in \u001b[0;36m<module>\u001b[0;34m\u001b[0m\n\u001b[1;32m      9\u001b[0m solve = baseModel.fit(\n\u001b[1;32m     10\u001b[0m     \u001b[0mnb_generations\u001b[0m\u001b[0;34m=\u001b[0m \u001b[0;36m1000\u001b[0m\u001b[0;34m,\u001b[0m \u001b[0mnb_inds_each_task\u001b[0m\u001b[0;34m=\u001b[0m \u001b[0;36m100\u001b[0m\u001b[0;34m,\u001b[0m \u001b[0mrmp\u001b[0m \u001b[0;34m=\u001b[0m \u001b[0;36m0.3\u001b[0m\u001b[0;34m,\u001b[0m\u001b[0;34m\u001b[0m\u001b[0;34m\u001b[0m\u001b[0m\n\u001b[0;32m---> 11\u001b[0;31m     \u001b[0mbound\u001b[0m\u001b[0;34m=\u001b[0m \u001b[0;34m[\u001b[0m\u001b[0;36m0\u001b[0m\u001b[0;34m,\u001b[0m \u001b[0;36m1\u001b[0m\u001b[0;34m]\u001b[0m\u001b[0;34m,\u001b[0m \u001b[0mevaluate_initial_skillFactor\u001b[0m\u001b[0;34m=\u001b[0m \u001b[0;32mTrue\u001b[0m\u001b[0;34m\u001b[0m\u001b[0;34m\u001b[0m\u001b[0m\n\u001b[0m\u001b[1;32m     12\u001b[0m )\n",
      "\u001b[0;32m/mnt/ee1bd79c-6956-419b-951b-4699528687d7/MFEA_MSO/MFEA_lib/model/MFEA1.py\u001b[0m in \u001b[0;36mfit\u001b[0;34m(self, nb_generations, nb_inds_each_task, rmp, evaluate_initial_skillFactor, *args, **kwargs)\u001b[0m\n\u001b[1;32m     65\u001b[0m \u001b[0;34m\u001b[0m\u001b[0m\n\u001b[1;32m     66\u001b[0m                 \u001b[0;31m# eval and append # addIndividual already has eval\u001b[0m\u001b[0;34m\u001b[0m\u001b[0;34m\u001b[0m\u001b[0;34m\u001b[0m\u001b[0m\n\u001b[0;32m---> 67\u001b[0;31m                 \u001b[0moffspring\u001b[0m\u001b[0;34m.\u001b[0m\u001b[0m__addIndividual__\u001b[0m\u001b[0;34m(\u001b[0m\u001b[0moa\u001b[0m\u001b[0;34m)\u001b[0m\u001b[0;34m\u001b[0m\u001b[0;34m\u001b[0m\u001b[0m\n\u001b[0m\u001b[1;32m     68\u001b[0m                 \u001b[0moffspring\u001b[0m\u001b[0;34m.\u001b[0m\u001b[0m__addIndividual__\u001b[0m\u001b[0;34m(\u001b[0m\u001b[0mob\u001b[0m\u001b[0;34m)\u001b[0m\u001b[0;34m\u001b[0m\u001b[0;34m\u001b[0m\u001b[0m\n\u001b[1;32m     69\u001b[0m \u001b[0;34m\u001b[0m\u001b[0m\n",
      "\u001b[0;32m/mnt/ee1bd79c-6956-419b-951b-4699528687d7/MFEA_MSO/MFEA_lib/EA.py\u001b[0m in \u001b[0;36m__addIndividual__\u001b[0;34m(self, individual, update_rank)\u001b[0m\n\u001b[1;32m    305\u001b[0m \u001b[0;34m\u001b[0m\u001b[0m\n\u001b[1;32m    306\u001b[0m     \u001b[0;32mdef\u001b[0m \u001b[0m__addIndividual__\u001b[0m\u001b[0;34m(\u001b[0m\u001b[0mself\u001b[0m\u001b[0;34m,\u001b[0m \u001b[0mindividual\u001b[0m\u001b[0;34m:\u001b[0m\u001b[0mIndividual\u001b[0m\u001b[0;34m,\u001b[0m \u001b[0mupdate_rank\u001b[0m \u001b[0;34m=\u001b[0m \u001b[0;32mFalse\u001b[0m\u001b[0;34m)\u001b[0m\u001b[0;34m:\u001b[0m\u001b[0;34m\u001b[0m\u001b[0;34m\u001b[0m\u001b[0m\n\u001b[0;32m--> 307\u001b[0;31m         \u001b[0mself\u001b[0m\u001b[0;34m.\u001b[0m\u001b[0mls_subPop\u001b[0m\u001b[0;34m[\u001b[0m\u001b[0mindividual\u001b[0m\u001b[0;34m.\u001b[0m\u001b[0mskill_factor\u001b[0m\u001b[0;34m]\u001b[0m\u001b[0;34m.\u001b[0m\u001b[0m__addIndividual__\u001b[0m\u001b[0;34m(\u001b[0m\u001b[0mindividual\u001b[0m\u001b[0;34m,\u001b[0m \u001b[0mupdate_rank\u001b[0m\u001b[0;34m)\u001b[0m\u001b[0;34m\u001b[0m\u001b[0;34m\u001b[0m\u001b[0m\n\u001b[0m\u001b[1;32m    308\u001b[0m \u001b[0;34m\u001b[0m\u001b[0m\n\u001b[1;32m    309\u001b[0m     \u001b[0;32mdef\u001b[0m \u001b[0mget_solves\u001b[0m\u001b[0;34m(\u001b[0m\u001b[0mself\u001b[0m\u001b[0;34m)\u001b[0m\u001b[0;34m:\u001b[0m\u001b[0;34m\u001b[0m\u001b[0;34m\u001b[0m\u001b[0m\n",
      "\u001b[0;32m/mnt/ee1bd79c-6956-419b-951b-4699528687d7/MFEA_MSO/MFEA_lib/EA.py\u001b[0m in \u001b[0;36m__addIndividual__\u001b[0;34m(self, individual, update_rank)\u001b[0m\n\u001b[1;32m    139\u001b[0m     \u001b[0;32mdef\u001b[0m \u001b[0m__addIndividual__\u001b[0m\u001b[0;34m(\u001b[0m\u001b[0mself\u001b[0m\u001b[0;34m,\u001b[0m \u001b[0mindividual\u001b[0m\u001b[0;34m:\u001b[0m \u001b[0mIndividual\u001b[0m\u001b[0;34m,\u001b[0m \u001b[0mupdate_rank\u001b[0m \u001b[0;34m=\u001b[0m \u001b[0;32mFalse\u001b[0m\u001b[0;34m)\u001b[0m\u001b[0;34m:\u001b[0m\u001b[0;34m\u001b[0m\u001b[0;34m\u001b[0m\u001b[0m\n\u001b[1;32m    140\u001b[0m         \u001b[0;32mif\u001b[0m \u001b[0mindividual\u001b[0m\u001b[0;34m.\u001b[0m\u001b[0mfcost\u001b[0m \u001b[0;32mis\u001b[0m \u001b[0;32mNone\u001b[0m\u001b[0;34m:\u001b[0m\u001b[0;34m\u001b[0m\u001b[0;34m\u001b[0m\u001b[0m\n\u001b[0;32m--> 141\u001b[0;31m             \u001b[0mindividual\u001b[0m\u001b[0;34m.\u001b[0m\u001b[0mfcost\u001b[0m \u001b[0;34m=\u001b[0m \u001b[0mself\u001b[0m\u001b[0;34m.\u001b[0m\u001b[0mtask\u001b[0m\u001b[0;34m(\u001b[0m\u001b[0mindividual\u001b[0m\u001b[0;34m.\u001b[0m\u001b[0mgenes\u001b[0m\u001b[0;34m)\u001b[0m\u001b[0;34m\u001b[0m\u001b[0;34m\u001b[0m\u001b[0m\n\u001b[0m\u001b[1;32m    142\u001b[0m         \u001b[0mself\u001b[0m\u001b[0;34m.\u001b[0m\u001b[0mls_inds\u001b[0m\u001b[0;34m.\u001b[0m\u001b[0mappend\u001b[0m\u001b[0;34m(\u001b[0m\u001b[0mindividual\u001b[0m\u001b[0;34m)\u001b[0m\u001b[0;34m\u001b[0m\u001b[0;34m\u001b[0m\u001b[0m\n\u001b[1;32m    143\u001b[0m         \u001b[0;32mif\u001b[0m \u001b[0mupdate_rank\u001b[0m\u001b[0;34m:\u001b[0m\u001b[0;34m\u001b[0m\u001b[0;34m\u001b[0m\u001b[0m\n",
      "\u001b[0;32m/mnt/ee1bd79c-6956-419b-951b-4699528687d7/MFEA_MSO/MFEA_lib/tasks/function.py\u001b[0m in \u001b[0;36m__call__\u001b[0;34m(self, x)\u001b[0m\n\u001b[1;32m     60\u001b[0m     \u001b[0;32mdef\u001b[0m \u001b[0m__call__\u001b[0m\u001b[0;34m(\u001b[0m\u001b[0mself\u001b[0m\u001b[0;34m,\u001b[0m \u001b[0mx\u001b[0m\u001b[0;34m)\u001b[0m\u001b[0;34m:\u001b[0m\u001b[0;34m\u001b[0m\u001b[0;34m\u001b[0m\u001b[0m\n\u001b[1;32m     61\u001b[0m         \u001b[0mx\u001b[0m \u001b[0;34m=\u001b[0m \u001b[0mself\u001b[0m\u001b[0;34m.\u001b[0m\u001b[0mdecode\u001b[0m\u001b[0;34m(\u001b[0m\u001b[0mx\u001b[0m\u001b[0;34m)\u001b[0m\u001b[0;34m\u001b[0m\u001b[0;34m\u001b[0m\u001b[0m\n\u001b[0;32m---> 62\u001b[0;31m         \u001b[0;32mreturn\u001b[0m \u001b[0mself\u001b[0m\u001b[0;34m.\u001b[0m\u001b[0m__class__\u001b[0m\u001b[0;34m.\u001b[0m\u001b[0mfunc\u001b[0m\u001b[0;34m(\u001b[0m\u001b[0mx\u001b[0m\u001b[0;34m)\u001b[0m\u001b[0;34m\u001b[0m\u001b[0;34m\u001b[0m\u001b[0m\n\u001b[0m\u001b[1;32m     63\u001b[0m \u001b[0;34m\u001b[0m\u001b[0m\n\u001b[1;32m     64\u001b[0m     \u001b[0;34m@\u001b[0m\u001b[0mstaticmethod\u001b[0m\u001b[0;34m\u001b[0m\u001b[0;34m\u001b[0m\u001b[0m\n",
      "\u001b[0;31mKeyboardInterrupt\u001b[0m: "
     ]
    }
   ],
   "source": [
    "baseModel = MFEA1.model()\n",
    "baseModel.compile(\n",
    "    IndClass= IndClass,\n",
    "    tasks= cec17_10tasks,\n",
    "    crossover= SBX_Crossover(nc = 2),\n",
    "    mutation= Polynomial_Mutation(nm = 5),\n",
    "    selection= ElitismSelection()\n",
    ")\n",
    "solve = baseModel.fit(\n",
    "    nb_generations= 1000, nb_inds_each_task= 100, rmp = 0.3,\n",
    "    bound= [0, 1], evaluate_initial_skillFactor= True\n",
    ")"
   ]
  },
  {
   "cell_type": "markdown",
   "metadata": {},
   "source": [
    "30 times"
   ]
  },
  {
   "cell_type": "code",
   "execution_count": null,
   "metadata": {},
   "outputs": [],
   "source": [
    "baseModel = MultiTimeModel(model= MFEA1)\n",
    "baseModel.compile(\n",
    "    tasks= cec17_10tasks,\n",
    "    crossover= SBX_Crossover(nc = 2),\n",
    "    mutation= Polynomial_Mutation(nm = 5),\n",
    "    selection= ElitismSelection()\n",
    ")\n",
    "baseModel.fit(\n",
    "    nb_generations = 1000, rmp = 0.3, nb_inds_each_task= 100, \n",
    "    bound_pop= [0, 1], evaluate_initial_skillFactor= True\n",
    ")"
   ]
  },
  {
   "cell_type": "code",
   "execution_count": null,
   "metadata": {},
   "outputs": [],
   "source": [
    "# baseModel = loadModel('./RESULTS/mfea1_cec17.mso')"
   ]
  },
  {
   "cell_type": "code",
   "execution_count": null,
   "metadata": {},
   "outputs": [
    {
     "name": "stdout",
     "output_type": "stream",
     "text": [
      "Time: 03m 4.43s  100 % [====================>]  Cost: 3.08E-04  4.22E-05  1.89E-07  2.84E-13  4.37E-02  2.06E-03  1.62E-02  8.72E-04  4.55E-06  4.45E+01  ,  \n",
      "END!\n",
      "Time: 03m 4.70s  100 % [====================>]  Cost: 5.20E-04  4.40E-05  1.76E-05  6.39E-14  7.18E-02  1.59E-03  6.10E-02  8.75E-04  5.68E-06  3.88E+01  ,  \n",
      "END!\n",
      "Time: 03m 4.60s  100 % [====================>]  Cost: 1.86E-04  6.38E-05  3.05E-05  8.53E-14  3.13E-02  2.28E-03  7.48E-02  1.32E-03  2.41E-06  4.43E+01  ,  \n",
      "END!\n",
      "Time: 03m 4.22s  100 % [====================>]  Cost: 2.26E-04  4.63E-05  5.29E-06  1.49E-13  3.24E-02  2.24E-03  4.28E-02  8.52E-04  2.06E-06  4.89E+01  ,  \n",
      "END!\n",
      "Time: 03m 3.76s  100 % [====================>]  Cost: 6.17E-04  9.49E-05  3.07E-07  2.06E-13  6.88E-02  2.73E-03  1.67E-02  1.20E-03  3.09E-06  4.63E+01  ,  \n",
      "END!\n",
      "Time: 03m 3.31s  100 % [====================>]  Cost: 2.43E-04  4.87E-05  3.18E-07  2.98E-13  4.24E-02  1.74E-03  1.61E-02  1.02E-03  5.89E-06  2.56E+01  ,  \n",
      "END!\n",
      "Time: 03m 3.25s  100 % [====================>]  Cost: 3.61E-04  5.79E-05  2.63E-07  2.34E-13  6.45E-02  2.30E-03  1.60E-02  1.07E-03  3.82E-06  3.11E+01  ,  \n",
      "END!\n",
      "Time: 03m 6.00s  100 % [====================>]  Cost: 1.69E-04  7.54E-05  2.50E-07  5.68E-14  2.81E-02  2.52E-03  1.53E-02  8.64E-04  5.80E-06  3.09E+01  ,  \n",
      "END!\n",
      "Time: 03m 35.44s  100 % [====================>]  Cost: 3.56E-04  4.63E-05  3.30E-07  9.95E-14  4.48E-02  2.19E-03  1.69E-02  1.59E-03  3.46E-06  4.07E+01  ,  \n",
      "END!\n",
      "Time: 03m 21.96s  100 % [====================>]  Cost: 4.25E-04  3.41E-05  1.43E-07  1.85E-13  6.29E-02  1.74E-03  1.43E-02  7.89E-04  1.56E-06  3.24E+01  ,  \n",
      "END!\n",
      "Time: 03m 14.37s  100 % [====================>]  Cost: 5.82E-04  5.50E-05  4.46E-07  2.84E-14  9.04E-02  2.15E-03  1.78E-02  7.54E-04  6.36E-06  3.52E+01  ,  \n",
      "END!\n",
      "Time: 02m 59.21s  100 % [====================>]  Cost: 3.32E-04  6.12E-05  1.41E-07  1.92E-13  4.24E-02  2.07E-03  1.34E-02  9.91E-04  3.59E-06  3.57E+01  ,  \n",
      "END!\n",
      "Time: 02m 41.76s  100 % [====================>]  Cost: 5.75E-04  2.86E-05  2.32E-07  3.55E-14  9.24E-02  1.81E-03  1.53E-02  1.09E-03  4.72E-06  3.74E+01  ,  \n",
      "END!\n",
      "Time: 02m 41.54s  100 % [====================>]  Cost: 1.50E-04  3.52E-05  5.84E-07  4.26E-14  2.16E-02  2.01E-03  1.98E-02  2.95E-03  5.24E-06  2.53E+01  ,  \n",
      "END!\n",
      "Time: 02m 42.01s  100 % [====================>]  Cost: 4.37E-04  4.42E-05  3.54E-07  4.26E-14  5.01E-02  1.69E-03  1.73E-02  1.32E-03  2.67E-06  2.68E+01  ,  \n",
      "END!\n",
      "Time: 02m 42.34s  100 % [====================>]  Cost: 1.33E-04  6.39E-05  5.52E-07  2.70E-13  2.18E-02  1.96E-03  1.95E-02  1.17E-03  3.58E-06  4.75E+01  ,  \n",
      "END!\n",
      "Time: 02m 53.67s  100 % [====================>]  Cost: 3.49E-04  6.74E-05  3.74E-07  1.63E-13  5.73E-02  2.15E-03  1.77E-02  9.86E-04  3.69E-06  3.69E+01  ,  \n",
      "END!\n",
      "Time: 03m 3.43s  100 % [====================>]  Cost: 4.84E-04  7.35E-05  1.42E-07  1.56E-08  8.57E-02  2.35E-03  1.43E-02  1.16E-03  7.08E-06  2.63E+01  ,  \n",
      "END!\n",
      "Time: 03m 2.49s  100 % [====================>]  Cost: 5.56E-04  6.57E-05  2.78E-07  4.55E-13  9.95E+01  1.99E-03  1.69E-02  1.08E-03  4.06E-06  3.64E+01  ,  \n",
      "END!\n",
      "Time: 03m 2.54s  100 % [====================>]  Cost: 4.00E-04  3.15E-05  2.46E-07  8.53E-14  6.41E-02  1.73E-03  1.59E-02  8.27E-04  3.71E-06  2.44E+01  ,  \n",
      "END!\n",
      "Time: 03m 3.61s  100 % [====================>]  Cost: 2.83E-04  2.84E-05  6.02E-07  3.46E-09  4.31E-02  1.56E-03  2.04E-02  8.32E-04  2.65E-06  4.81E+01  ,  \n",
      "END!\n",
      "Time: 03m 20.15s  100 % [====================>]  Cost: 3.09E-04  5.26E-05  3.21E-07  1.56E-13  4.72E-02  2.17E-03  1.67E-02  1.43E-03  3.21E-06  2.93E+01  ,  \n",
      "END!\n",
      "Time: 03m 4.21s  100 % [====================>]  Cost: 2.17E-04  5.36E-05  1.60E-07  1.21E-13  3.12E-02  2.01E-03  1.46E-02  1.04E-03  8.21E-06  4.13E+01  ,  \n",
      "END!\n",
      "Time: 03m 8.18s  100 % [====================>]  Cost: 1.71E-04  3.91E-05  5.34E-07  2.20E-13  1.63E-02  2.06E-03  2.07E-02  8.98E-04  4.57E-06  3.29E+01  ,  \n",
      "END!\n",
      "Time: 03m 20.82s  100 % [====================>]  Cost: 3.71E-04  7.23E-05  1.09E-05  6.68E-13  6.64E-02  2.58E-03  4.81E-02  1.07E-03  7.55E-06  3.13E+01  ,  \n",
      "END!\n",
      "Time: 03m 2.06s  100 % [====================>]  Cost: 3.93E-04  3.38E-05  4.35E-07  2.06E-13  8.01E-02  1.52E-03  1.88E-02  8.48E-04  4.07E-06  5.15E+01  ,  \n",
      "END!\n",
      "Time: 03m 3.07s  100 % [====================>]  Cost: 2.84E-04  5.24E-05  1.05E-06  1.35E-13  4.42E-02  2.01E-03  2.43E-02  9.32E-04  2.40E-06  3.70E+01  ,  \n",
      "END!\n",
      "Time: 02m 51.67s  100 % [====================>]  Cost: 2.17E-04  7.38E-05  3.39E-07  1.85E-13  4.83E-02  2.70E-03  1.46E-02  8.61E-04  1.62E-06  3.85E+01  ,  \n",
      "END!\n",
      "Time: 02m 60.00s  100 % [====================>]  Cost: 2.87E-04  3.93E-05  2.33E-05  2.49E-13  4.38E+01  1.77E-03  7.03E-02  1.12E-03  3.53E-06  2.78E+01  ,  \n",
      "END!\n",
      "Time: 03m 3.66s  100 % [====================>]  Cost: 3.86E-04  2.74E-05  5.71E-07  4.97E-14  1.10E+02  1.58E-03  2.38E-02  1.07E-03  2.29E-06  3.31E+01  ,  \n",
      "END!\n",
      "DONE!\n",
      "Cannot Saved\n"
     ]
    }
   ],
   "source": [
    "baseModel.run(\n",
    "    nb_run= 30,\n",
    "    save_path= './RESULTS/mfea1_cec17.mso'\n",
    ")"
   ]
  },
  {
   "cell_type": "code",
   "execution_count": null,
   "metadata": {},
   "outputs": [
    {
     "data": {
      "text/plain": [
       "array([[1.04802318e+05, 2.80360659e+05, 2.81058425e+05, ...,\n",
       "        1.66070643e+04, 7.01687019e+01, 6.92871556e+04],\n",
       "       [1.00697190e+05, 2.66075796e+05, 2.62504094e+05, ...,\n",
       "        1.63546174e+04, 6.66300921e+01, 6.70094752e+04],\n",
       "       [9.75517037e+04, 2.43352953e+05, 2.49926122e+05, ...,\n",
       "        1.63024025e+04, 6.25966318e+01, 6.19085898e+04],\n",
       "       ...,\n",
       "       [3.48878115e-04, 5.32997747e-05, 3.43058573e-06, ...,\n",
       "        1.11135709e-03, 4.21152025e-06, 3.63196906e+01],\n",
       "       [3.46412122e-04, 5.26716489e-05, 3.24549912e-06, ...,\n",
       "        1.10350564e-03, 4.13699477e-06, 3.62601796e+01],\n",
       "       [3.44218273e-04, 5.17576020e-05, 3.22614371e-06, ...,\n",
       "        1.09625131e-03, 4.10405952e-06, 3.62066581e+01]])"
      ]
     },
     "execution_count": 19,
     "metadata": {},
     "output_type": "execute_result"
    }
   ],
   "source": [
    "baseModel.history_cost"
   ]
  },
  {
   "cell_type": "code",
   "execution_count": null,
   "metadata": {},
   "outputs": [
    {
     "data": {
      "text/plain": [
       "array([3.44218273e-04, 5.17576020e-05, 3.22614371e-06, 6.36293625e-10,\n",
       "       8.49658318e+00, 2.04203647e-03, 2.43480404e-02, 1.09625131e-03,\n",
       "       4.10405952e-06, 3.62066581e+01])"
      ]
     },
     "execution_count": 7,
     "metadata": {},
     "output_type": "execute_result"
    }
   ],
   "source": [
    "baseModel.history_cost[-1]"
   ]
  }
 ],
 "metadata": {
  "kernelspec": {
   "display_name": "Python 3.10.4 ('learnCS')",
   "language": "python",
   "name": "python3"
  },
  "language_info": {
   "codemirror_mode": {
    "name": "ipython",
    "version": 3
   },
   "file_extension": ".py",
   "mimetype": "text/x-python",
   "name": "python",
   "nbconvert_exporter": "python",
   "pygments_lexer": "ipython3",
   "version": "3.10.4"
  },
  "orig_nbformat": 4,
  "vscode": {
   "interpreter": {
    "hash": "d2d74ce3e99bc2d991502eaa9ff6878b69f13ebfe616751bd67e96721470575f"
   }
  }
 },
 "nbformat": 4,
 "nbformat_minor": 2
}
