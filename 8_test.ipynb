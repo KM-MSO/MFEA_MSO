{
 "cells": [
  {
   "cell_type": "code",
   "execution_count": 1,
   "metadata": {},
   "outputs": [],
   "source": [
    "from MFEA_lib.model import MFEA_HKT_v1, MFEA_anhHa_new_new ,MFEA1\n",
    "from MFEA_lib.model.utils import *\n",
    "from MFEA_lib.operators.Crossover import *\n",
    "from MFEA_lib.operators.Mutation import *\n",
    "from MFEA_lib.operators.Selection import *\n",
    "from MFEA_lib.operators.Search import *\n",
    "from MFEA_lib.tasks.Benchmark.Funcs import CEC17_benchmark, GECCO20_benchmark_50tasks, WCCI22_benchmark"
   ]
  },
  {
   "cell_type": "code",
   "execution_count": 2,
   "metadata": {},
   "outputs": [],
   "source": [
    "class IndividualDE(Individual):\n",
    "    def __init__(self, genes, dim= None) -> None:\n",
    "        super().__init__(genes, dim)\n",
    "        if genes is None:\n",
    "            self.genes: np.ndarray = np.random.rand(dim)\n",
    "        self.transfer =False"
   ]
  },
  {
   "cell_type": "code",
   "execution_count": 3,
   "metadata": {},
   "outputs": [
    {
     "data": {
      "text/plain": [
       "array([ 6,  7,  8,  9, 10])"
      ]
     },
     "execution_count": 3,
     "metadata": {},
     "output_type": "execute_result"
    }
   ],
   "source": [
    "import numpy as np \n",
    "x = np.array([1,2,3,4,5])\n",
    "y = [[1,2,3,4,5],[6,7,8,9,10]]\n",
    "u = np.amax(y,axis = 0)\n",
    "u"
   ]
  },
  {
   "cell_type": "code",
   "execution_count": 4,
   "metadata": {},
   "outputs": [],
   "source": [
    "ls_benchmark = []\n",
    "ls_IndClass = []\n",
    "\n",
    "for i in range(1, 11, 1):\n",
    "    t, ic = WCCI22_benchmark.get_complex_benchmark(i)\n",
    "    ls_benchmark.append(t)\n",
    "    ls_IndClass.append(IndividualDE)\n",
    "\n",
    "name_benchmark = np.arange(len(ls_benchmark)) + 1"
   ]
  },
  {
   "cell_type": "code",
   "execution_count": 5,
   "metadata": {},
   "outputs": [],
   "source": [
    "# t, ic = WCCI22_benchmark.get_complex_benchmark(2)\n",
    "# ls_benchmark =[t]\n",
    "# ls_IndClass = [ic]"
   ]
  },
  {
   "cell_type": "code",
   "execution_count": 6,
   "metadata": {},
   "outputs": [
    {
     "name": "stdout",
     "output_type": "stream",
     "text": [
      "Time: 00m 54.84s  100 % [====================>]  Pop_size: 8.00E+00  ,  Cost: 6.03E+02  6.01E+02  ,  DONE!\n",
      "Saved\n",
      "Time: 00m 38.15s  100 % [====================>]  Pop_size: 8.00E+00  ,  Cost: 7.00E+02  7.00E+02  ,  DONE!\n",
      "Saved\n",
      "Time: 00m 46.22s  100 % [====================>]  Pop_size: 8.00E+00  ,  Cost: 4.15E+03  6.25E+03  ,  DONE!\n",
      "Saved\n",
      "Time: 00m 29.06s  100 % [====================>]  Pop_size: 8.00E+00  ,  Cost: 1.30E+03  1.30E+03  ,  DONE!\n",
      "Saved\n",
      "Time: 00m 38.03s  100 % [====================>]  Pop_size: 8.00E+00  ,  Cost: 1.51E+03  1.51E+03  ,  DONE!\n",
      "Saved\n",
      "Time: 00m 43.96s  100 % [====================>]  Pop_size: 8.00E+00  ,  Cost: 9.02E+03  1.06E+04  ,  DONE!\n",
      "Saved\n",
      "Time: 00m 39.12s  100 % [====================>]  Pop_size: 8.00E+00  ,  Cost: 2.25E+03  2.60E+03  ,  DONE!\n",
      "Saved\n",
      "Time: 00m 27.68s  100 % [====================>]  Pop_size: 8.00E+00  ,  Cost: 5.21E+02  5.20E+02  ,  DONE!\n",
      "Saved\n",
      "Time: 00m 30.88s  100 % [====================>]  Pop_size: 8.00E+00  ,  Cost: 6.94E+03  1.62E+03  ,  DONE!\n",
      "Saved\n",
      "Time: 00m 50.15s  100 % [====================>]  Pop_size: 8.00E+00  ,  Cost: 2.25E+03  7.14E+03  ,  DONE!\n",
      "Saved\n"
     ]
    }
   ],
   "source": [
    "model = MultiBenchmark(\n",
    "    ls_benchmark= ls_benchmark,\n",
    "    name_benchmark= name_benchmark,\n",
    "    ls_IndClass= ls_IndClass,\n",
    "    # model= MFEA_HKT_v1\n",
    "    model = MFEA_anhHa_new_new\n",
    ")\n",
    "model.compile(\n",
    "    crossover= SBX_Crossover(nc = 2),\n",
    "    mutation = Polynomial_Mutation(nm = 5),\n",
    "    selection= ElitismSelection(random_percent= 0.),\n",
    ")\n",
    "model.fit(\n",
    "    nb_inds_each_task=100,\n",
    "    nb_inds_min=30,\n",
    "    nb_generations=1000,\n",
    "    LSA = True,\n",
    "    evaluate_initial_skillFactor= True\n",
    ")\n",
    "a = model.run(\n",
    "    nb_run= 1,\n",
    "    save_path= \"./RESULTS/__static__/WCCI22_complex/MFEA_anhHa_COMPLEX/MFEA_anhHa_id_\"\n",
    ")"
   ]
  },
  {
   "cell_type": "code",
   "execution_count": 7,
   "metadata": {},
   "outputs": [
    {
     "name": "stdout",
     "output_type": "stream",
     "text": [
      "1\n",
      "[6.03E+02 6.01E+02]\n",
      "2\n",
      "[7.00E+02 7.00E+02]\n",
      "3\n",
      "[4.15E+03 6.25E+03]\n",
      "4\n",
      "[1.30E+03 1.30E+03]\n",
      "5\n",
      "[1.51E+03 1.51E+03]\n",
      "6\n",
      "[9.02E+03 1.06E+04]\n",
      "7\n",
      "[2.25E+03 2.60E+03]\n",
      "8\n",
      "[5.21E+02 5.20E+02]\n",
      "9\n",
      "[6.94E+03 1.62E+03]\n",
      "10\n",
      "[2.25E+03 7.14E+03]\n"
     ]
    }
   ],
   "source": [
    "model.print_result([\"history_cost\"])"
   ]
  },
  {
   "cell_type": "code",
   "execution_count": 8,
   "metadata": {},
   "outputs": [
    {
     "name": "stdout",
     "output_type": "stream",
     "text": [
      "(0 : LSA_21)\n",
      "(1 : LSA_COMPLEX)\n",
      "(2 : MFEA1_COMPLEX)\n",
      "(3 : MFEA_anhHa_COMPLEX)\n",
      "(4 : MFEA_COMPLEX)\n",
      "(5 : SMP_COMPLEX_FINAL_CEC10)\n"
     ]
    }
   ],
   "source": [
    "compare = CompareResultBenchmark(path_folder=\"./RESULTS/__static__/WCCI22_complex\", ls_benchmark=[WCCI22_benchmark.get_complex_benchmark(i)[0] for i in range(1, 11)])"
   ]
  },
  {
   "cell_type": "code",
   "execution_count": 9,
   "metadata": {},
   "outputs": [
    {
     "data": {
      "text/html": [
       "<div>\n",
       "<style scoped>\n",
       "    .dataframe tbody tr th:only-of-type {\n",
       "        vertical-align: middle;\n",
       "    }\n",
       "\n",
       "    .dataframe tbody tr th {\n",
       "        vertical-align: top;\n",
       "    }\n",
       "\n",
       "    .dataframe thead th {\n",
       "        text-align: right;\n",
       "    }\n",
       "</style>\n",
       "<table border=\"1\" class=\"dataframe\">\n",
       "  <thead>\n",
       "    <tr style=\"text-align: right;\">\n",
       "      <th></th>\n",
       "      <th>Better</th>\n",
       "      <th>Equal</th>\n",
       "      <th>Worse</th>\n",
       "    </tr>\n",
       "  </thead>\n",
       "  <tbody>\n",
       "    <tr>\n",
       "      <th>MFEA_anhHa_COMPLEX vs LSA_21</th>\n",
       "      <td>9</td>\n",
       "      <td>0</td>\n",
       "      <td>11</td>\n",
       "    </tr>\n",
       "    <tr>\n",
       "      <th>MFEA_anhHa_COMPLEX vs LSA_COMPLEX</th>\n",
       "      <td>19</td>\n",
       "      <td>0</td>\n",
       "      <td>1</td>\n",
       "    </tr>\n",
       "    <tr>\n",
       "      <th>MFEA_anhHa_COMPLEX vs MFEA1_COMPLEX</th>\n",
       "      <td>20</td>\n",
       "      <td>0</td>\n",
       "      <td>0</td>\n",
       "    </tr>\n",
       "    <tr>\n",
       "      <th>MFEA_anhHa_COMPLEX vs MFEA_COMPLEX</th>\n",
       "      <td>19</td>\n",
       "      <td>0</td>\n",
       "      <td>1</td>\n",
       "    </tr>\n",
       "    <tr>\n",
       "      <th>MFEA_anhHa_COMPLEX vs SMP_COMPLEX_FINAL_CEC10</th>\n",
       "      <td>18</td>\n",
       "      <td>0</td>\n",
       "      <td>2</td>\n",
       "    </tr>\n",
       "  </tbody>\n",
       "</table>\n",
       "</div>"
      ],
      "text/plain": [
       "                                               Better  Equal  Worse\n",
       "MFEA_anhHa_COMPLEX vs LSA_21                        9      0     11\n",
       "MFEA_anhHa_COMPLEX vs LSA_COMPLEX                  19      0      1\n",
       "MFEA_anhHa_COMPLEX vs MFEA1_COMPLEX                20      0      0\n",
       "MFEA_anhHa_COMPLEX vs MFEA_COMPLEX                 19      0      1\n",
       "MFEA_anhHa_COMPLEX vs SMP_COMPLEX_FINAL_CEC10      18      0      2"
      ]
     },
     "execution_count": 9,
     "metadata": {},
     "output_type": "execute_result"
    }
   ],
   "source": [
    "compare.summarizing_compare_result(idx_main_algo= 3,min_value=1e-6)"
   ]
  },
  {
   "cell_type": "code",
   "execution_count": 10,
   "metadata": {},
   "outputs": [
    {
     "name": "stdout",
     "output_type": "stream",
     "text": [
      "Benchmark:  1\n",
      "         LSA_COMPLEX       LSA_21 MFEA1_COMPLEX MFEA_anhHa_COMPLEX MFEA_COMPLEX SMP_COMPLEX_FINAL_CEC10\n",
      "Tasks1   612.7801631  608.0086431   608.9087796     (+)603.4015275  641.2352856             621.3871001\n",
      "Tasks2   621.3176276   607.891374   608.9714738     (+)601.2820843   641.370391             621.3621177\n",
      "Compare          0/2          0/2           0/2                2/2          0/2                     0/2\n",
      "\n",
      "Benchmark:  2\n",
      "        LSA_COMPLEX       LSA_21 MFEA1_COMPLEX MFEA_anhHa_COMPLEX MFEA_COMPLEX SMP_COMPLEX_FINAL_CEC10\n",
      "Tasks1     (+)700.0  700.0025424   700.0063009           (+)700.0  700.0027845             700.0010682\n",
      "Tasks2   700.007396  700.0032844    700.005849           (+)700.0   700.001237                (+)700.0\n",
      "Compare         1/2          0/2           0/2                2/2          0/2                     1/2\n",
      "\n",
      "Benchmark:  3\n",
      "            LSA_COMPLEX        LSA_21    MFEA1_COMPLEX MFEA_anhHa_COMPLEX     MFEA_COMPLEX SMP_COMPLEX_FINAL_CEC10\n",
      "Tasks1   148596.7025722  5287.9502671   2667942.511899    (+)4146.0305852  1473540.8517308           886240.795951\n",
      "Tasks2    824972.563527  6475.5768689  2144260.9613253    (+)6250.1877756  1637396.3555822          828466.3333707\n",
      "Compare             0/2           0/2              0/2                2/2              0/2                     0/2\n",
      "\n",
      "Benchmark:  4\n",
      "          LSA_COMPLEX           LSA_21 MFEA1_COMPLEX MFEA_anhHa_COMPLEX  MFEA_COMPLEX SMP_COMPLEX_FINAL_CEC10\n",
      "Tasks1   1300.6157909  (+)1300.3010878  1300.5524327       1300.3706516  1300.5524938            1300.4614545\n",
      "Tasks2   1300.6169783  (+)1300.2617392  1300.5164847       1300.3368562   1300.455091            1300.4170891\n",
      "Compare           0/2              2/2           0/2                0/2           0/2                     0/2\n",
      "\n",
      "Benchmark:  5\n",
      "          LSA_COMPLEX           LSA_21 MFEA1_COMPLEX MFEA_anhHa_COMPLEX  MFEA_COMPLEX SMP_COMPLEX_FINAL_CEC10\n",
      "Tasks1   1531.6914409     1507.4175862  1530.8327039    (+)1505.8793275  1527.9293523            1514.2484546\n",
      "Tasks2   1512.9246297  (+)1508.0739541  1533.3755389        1508.287325  1524.1167259            1513.3338218\n",
      "Compare           0/2              1/2           0/2                1/2           0/2                     0/2\n",
      "\n",
      "Benchmark:  6\n",
      "            LSA_COMPLEX           LSA_21    MFEA1_COMPLEX MFEA_anhHa_COMPLEX    MFEA_COMPLEX SMP_COMPLEX_FINAL_CEC10\n",
      "Tasks1   514195.3213497  (+)6826.3974654  1587098.1875867       9019.4287635  892457.6297795          532655.4359684\n",
      "Tasks2   349307.1026893  (+)5556.1439513  1357188.7275766      10580.9195696  889275.7483019          306684.6913075\n",
      "Compare             0/2              2/2              0/2                0/2             0/2                     0/2\n",
      "\n",
      "Benchmark:  7\n",
      "          LSA_COMPLEX        LSA_21 MFEA1_COMPLEX MFEA_anhHa_COMPLEX  MFEA_COMPLEX SMP_COMPLEX_FINAL_CEC10\n",
      "Tasks1   3377.0683138  2562.7353261  2847.0482775    (+)2246.8784153  3342.0954685            3114.2007126\n",
      "Tasks2   2916.0571626  2605.3966137  2944.0066366    (+)2601.4686521  3435.4950158            3098.5615873\n",
      "Compare           0/2           0/2           0/2                2/2           0/2                     0/2\n",
      "\n",
      "Benchmark:  8\n",
      "         LSA_COMPLEX          LSA_21 MFEA1_COMPLEX MFEA_anhHa_COMPLEX MFEA_COMPLEX SMP_COMPLEX_FINAL_CEC10\n",
      "Tasks1   521.2183604  (+)520.0285553   521.1703212        520.7040495  520.1086076             520.0694281\n",
      "Tasks2   521.1938406  (+)520.0183064   521.1809227        520.0912555  520.0965385             520.0590493\n",
      "Compare          0/2             2/2           0/2                0/2          0/2                     0/2\n",
      "\n",
      "Benchmark:  9\n",
      "            LSA_COMPLEX           LSA_21 MFEA1_COMPLEX MFEA_anhHa_COMPLEX  MFEA_COMPLEX SMP_COMPLEX_FINAL_CEC10\n",
      "Tasks1   (+)6121.101655     6853.1433969   9109.897425       6935.3525152  8380.0250961            8062.2137656\n",
      "Tasks2     1622.4619819  (+)1619.9632322   1622.093927       1620.0302419  1621.4101959            1621.0819871\n",
      "Compare             1/2              1/2           0/2                0/2           0/2                     0/2\n",
      "\n",
      "Benchmark:  10\n",
      "            LSA_COMPLEX           LSA_21    MFEA1_COMPLEX MFEA_anhHa_COMPLEX     MFEA_COMPLEX SMP_COMPLEX_FINAL_CEC10\n",
      "Tasks1    28040.3825131  (+)2230.6117701     28933.308657       2245.5618381    31473.8143978           28182.1010766\n",
      "Tasks2   1218074.209938  (+)6263.2137061  2116756.6039427       7135.2769463  1413424.1309381          816039.9295899\n",
      "Compare             0/2              2/2              0/2                0/2              0/2                     0/2\n",
      "\n"
     ]
    }
   ],
   "source": [
    "compare.show_compare_detail(min_value=1e-6, round=7,idx_main_algo=1)"
   ]
  }
 ],
 "metadata": {
  "kernelspec": {
   "display_name": "Python 3.7.13 ('mfea')",
   "language": "python",
   "name": "python3"
  },
  "language_info": {
   "codemirror_mode": {
    "name": "ipython",
    "version": 3
   },
   "file_extension": ".py",
   "mimetype": "text/x-python",
   "name": "python",
   "nbconvert_exporter": "python",
   "pygments_lexer": "ipython3",
   "version": "3.7.13"
  },
  "orig_nbformat": 4,
  "vscode": {
   "interpreter": {
    "hash": "4edada56b92248170e10c115f7655f4c6f5b3f79a5836db2c7b2e80efd30f032"
   }
  }
 },
 "nbformat": 4,
 "nbformat_minor": 2
}
