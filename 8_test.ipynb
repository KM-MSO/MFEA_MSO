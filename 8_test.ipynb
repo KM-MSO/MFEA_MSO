{
 "cells": [
  {
   "cell_type": "code",
   "execution_count": 1,
   "metadata": {},
   "outputs": [],
   "source": [
    "from MFEA_lib.model import MFEA_HKT_v1, MFEA_anhHa_new_new ,MFEA1\n",
    "from MFEA_lib.model.utils import *\n",
    "from MFEA_lib.operators.Crossover import *\n",
    "from MFEA_lib.operators.Mutation import *\n",
    "from MFEA_lib.operators.Selection import *\n",
    "from MFEA_lib.operators.Search import *\n",
    "from MFEA_lib.tasks.Benchmark.Funcs import CEC17_benchmark, GECCO20_benchmark_50tasks, WCCI22_benchmark"
   ]
  },
  {
   "cell_type": "code",
   "execution_count": 2,
   "metadata": {},
   "outputs": [],
   "source": [
    "class IndClass(Individual):\n",
    "    def __init__(self, genes, dim= None) -> None:\n",
    "        super().__init__(genes, dim)\n",
    "        if genes is None:\n",
    "            self.genes: np.ndarray = np.random.rand(dim)\n",
    "        self.transfer =False"
   ]
  },
  {
   "cell_type": "code",
   "execution_count": 3,
   "metadata": {},
   "outputs": [],
   "source": [
    "# result = np.zeros((10,30,2))\n",
    "# for index in range(1,11):\n",
    "#     benchmark,_ = WCCI22_benchmark.get_complex_benchmark(index)\n",
    "#     for seed in range(1,31):\n",
    "#         baseModel = MFEA_anhHa_new_new.model(seed=seed)\n",
    "#         baseModel.compile(\n",
    "#             IndClass= IndClass,\n",
    "#             tasks= benchmark,\n",
    "#             crossover= SBX_Crossover(nc = 2),\n",
    "#             # mutation= Polynomial_Mutation(nm = 5),\n",
    "#             mutation= Directional_Mutation(),\n",
    "#             selection= ElitismSelection()\n",
    "#         )\n",
    "#         solve = baseModel.fit(\n",
    "#             nb_inds_each_task=100,\n",
    "#             nb_inds_min=40,\n",
    "#             nb_generations=1000,\n",
    "#             LSA = False\n",
    "#             )\n",
    "#         result[index-1][seed-1][0]= solve[0].fcost\n",
    "#         result[index-1][seed-1][1] =solve[1].fcost\n"
   ]
  },
  {
   "cell_type": "code",
   "execution_count": 4,
   "metadata": {},
   "outputs": [],
   "source": [
    "# mean = np.zeros((10,2))\n",
    "# for i in range(10):\n",
    "#     mean[i]=np.mean(result[i],axis=0)\n",
    "# mean"
   ]
  },
  {
   "cell_type": "code",
   "execution_count": 5,
   "metadata": {},
   "outputs": [],
   "source": [
    "# a = open(\"D:/Lab/CEC/Result/complex.txt\", \"w\")\n",
    "# for i in mean:\n",
    "#     np.savetxt(a,i)\n",
    "# a.close()"
   ]
  },
  {
   "cell_type": "code",
   "execution_count": 6,
   "metadata": {},
   "outputs": [],
   "source": [
    "ls_benchmark = []\n",
    "ls_IndClass = []\n",
    "\n",
    "for i in range(1, 10, 1):\n",
    "    t, ic = WCCI22_benchmark.get_complex_benchmark(i)\n",
    "    ls_benchmark.append(t)\n",
    "    ls_IndClass.append(IndClass)\n",
    "\n",
    "name_benchmark = np.arange(len(ls_benchmark)) + 1"
   ]
  },
  {
   "cell_type": "code",
   "execution_count": 7,
   "metadata": {},
   "outputs": [],
   "source": [
    "t, ic = WCCI22_benchmark.get_50tasks_benchmark(1)\n",
    "ls_benchmark =[t]\n",
    "ls_IndClass = [ic]"
   ]
  },
  {
   "cell_type": "code",
   "execution_count": 8,
   "metadata": {},
   "outputs": [
    {
     "name": "stdout",
     "output_type": "stream",
     "text": [
      "Time: 00m 14.19s    1 % [>                   ]  Pop_size: 5.00E+03  ,  Cost: 4.13E+04  2.83E+04  4.50E+04  4.21E+04  5.31E+04  4.78E+04  5.45E+04  4.89E+04  4.69E+04  5.04E+04  4.88E+04  4.89E+04  4.03E+04  5.11E+04  4.47E+04  4.05E+04  5.37E+04  4.67E+04  4.95E+04  5.09E+04  5.20E+04  4.05E+04  4.48E+04  4.24E+04  5.36E+04  4.38E+04  5.43E+04  5.11E+04  4.86E+04  5.53E+04  4.72E+04  5.10E+04  4.53E+04  4.77E+04  6.07E+04  4.57E+04  5.66E+04  5.70E+04  4.53E+04  3.36E+04  5.19E+04  4.77E+04  5.26E+04  5.21E+04  4.67E+04  4.28E+04  4.91E+04  4.46E+04  3.97E+04  4.39E+04  ,  "
     ]
    }
   ],
   "source": [
    "model = MultiBenchmark(\n",
    "    ls_benchmark= ls_benchmark,\n",
    "    name_benchmark= name_benchmark,\n",
    "    ls_IndClass= ls_IndClass,\n",
    "    model= MFEA_HKT_v1\n",
    ")\n",
    "model.compile(\n",
    "    crossover= SBX_Crossover(nc = 2),\n",
    "    # mutation = GaussMutation(scale= 0.1),\n",
    "    # mutation  =Directional_Mutation_v2(pm=1/50),\n",
    "    # mutation = Directional_Mutation(),\n",
    "    mutation = Polynomial_Mutation(nm = 5),\n",
    "    selection= ElitismSelection(random_percent= 0.),\n",
    "    search = L_SHADE(),\n",
    "\n",
    ")\n",
    "model.fit(\n",
    "    nb_inds_each_task=100,\n",
    "    nb_inds_min=30,\n",
    "    nb_generations=1000,\n",
    "    LSA = False,\n",
    "    evaluate_initial_skillFactor= True\n",
    ")\n",
    "a = model.run(\n",
    "    nb_run= 1,\n",
    "    save_path= \"./RESULTS/__static__/WCCI22_complex/MFEA_anhHa_COMPLEX/MFEA_anhHa_id_\"\n",
    ")"
   ]
  },
  {
   "cell_type": "code",
   "execution_count": null,
   "metadata": {},
   "outputs": [
    {
     "name": "stdout",
     "output_type": "stream",
     "text": [
      "1\n",
      "[6.08E+02 6.08E+02]\n",
      "2\n",
      "[7.00E+02 7.01E+02]\n",
      "3\n",
      "[2.57E+05 1.14E+05]\n",
      "4\n",
      "[1.30E+03 1.30E+03]\n",
      "5\n",
      "[1.51E+03 1.51E+03]\n",
      "6\n",
      "[1.88E+05 7.78E+04]\n",
      "7\n",
      "[2.48E+03 2.64E+03]\n",
      "8\n",
      "[5.21E+02 5.21E+02]\n",
      "9\n",
      "[8.96E+03 1.62E+03]\n"
     ]
    }
   ],
   "source": [
    "# model.print_result([\"history_cost\"])"
   ]
  },
  {
   "cell_type": "code",
   "execution_count": null,
   "metadata": {},
   "outputs": [],
   "source": [
    "# compare = CompareResultBenchmark(path_folder=\"./RESULTS/__static__/WCCI22_complex\", ls_benchmark=[WCCI22_benchmark.get_complex_benchmark(i)[0] for i in range(1, 11)])"
   ]
  },
  {
   "cell_type": "code",
   "execution_count": null,
   "metadata": {},
   "outputs": [],
   "source": [
    "# compare.summarizing_compare_result(idx_main_algo= 3,min_value=1e-6)"
   ]
  },
  {
   "cell_type": "code",
   "execution_count": null,
   "metadata": {},
   "outputs": [],
   "source": [
    "# compare.show_compare_detail(min_value=1e-6, round=7,idx_main_algo=1)"
   ]
  }
 ],
 "metadata": {
  "interpreter": {
   "hash": "0d591c6e422414675974e227c13f5382000c440fedd3c5006ef2be5d887f0ba7"
  },
  "kernelspec": {
   "display_name": "Python 3.9.4 64-bit",
   "language": "python",
   "name": "python3"
  },
  "language_info": {
   "codemirror_mode": {
    "name": "ipython",
    "version": 3
   },
   "file_extension": ".py",
   "mimetype": "text/x-python",
   "name": "python",
   "nbconvert_exporter": "python",
   "pygments_lexer": "ipython3",
   "version": "3.9.4"
  },
  "orig_nbformat": 4
 },
 "nbformat": 4,
 "nbformat_minor": 2
}
