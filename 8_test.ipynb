{
 "cells": [
  {
   "cell_type": "code",
   "execution_count": 1,
   "metadata": {},
   "outputs": [],
   "source": [
    "from MFEA_lib.model import MFEA_HKT_v1, MFEA_anhHa\n",
    "from MFEA_lib.operators.Crossover import SBX_Crossover\n",
    "from MFEA_lib.operators.Mutation import *\n",
    "from MFEA_lib.operators.Selection import ElitismSelection\n",
    "from MFEA_lib.tasks.Benchmark.Funcs import WCCI22_benchmark,CEC17_benchmark"
   ]
  },
  {
   "cell_type": "code",
   "execution_count": 2,
   "metadata": {},
   "outputs": [],
   "source": [
    "import numpy as np\n",
    "cec17_10tasks,_ = WCCI22_benchmark.get_complex_benchmark(1)\n"
   ]
  },
  {
   "cell_type": "code",
   "execution_count": 3,
   "metadata": {},
   "outputs": [
    {
     "data": {
      "text/plain": [
       "50"
      ]
     },
     "execution_count": 3,
     "metadata": {},
     "output_type": "execute_result"
    }
   ],
   "source": [
    "cec17_10tasks[0].dim"
   ]
  },
  {
   "cell_type": "code",
   "execution_count": 4,
   "metadata": {},
   "outputs": [],
   "source": [
    "class IndClass(Individual):\n",
    "    def __init__(self, genes, dim= None) -> None:\n",
    "        super().__init__(genes, dim)\n",
    "        if genes is None:\n",
    "            self.genes: np.ndarray = np.random.rand(dim)\n",
    "        self.transfer =False"
   ]
  },
  {
   "cell_type": "code",
   "execution_count": 5,
   "metadata": {},
   "outputs": [
    {
     "name": "stdout",
     "output_type": "stream",
     "text": [
      "Time: 00m 36.63s   99 % [===================>]  Pop_size: 1.00E+02  1.00E+02  ,  Cost: 6.38E+02  6.32E+02  ,  End\n"
     ]
    }
   ],
   "source": [
    "baseModel = MFEA_anhHa.model()\n",
    "baseModel.compile(\n",
    "    IndClass= IndClass,\n",
    "    tasks= cec17_10tasks,\n",
    "    crossover= SBX_Crossover(nc = 2),\n",
    "    mutation= Polynomial_Mutation(nm = 5),\n",
    "    selection= ElitismSelection()\n",
    ")\n",
    "solve = baseModel.fit(\n",
    "    nb_inds_each_task=100,\n",
    "    nb_inds_min=40,\n",
    "    nb_generations=1000,\n",
    "    LSA = False\n",
    "    )\n"
   ]
  }
 ],
 "metadata": {
  "interpreter": {
   "hash": "dcacb0086e9a4f4eabd41c33bf4faac5ea0a3337ed3f5eff0680afa930572c04"
  },
  "kernelspec": {
   "display_name": "Python 3.9.4 64-bit",
   "language": "python",
   "name": "python3"
  },
  "language_info": {
   "codemirror_mode": {
    "name": "ipython",
    "version": 3
   },
   "file_extension": ".py",
   "mimetype": "text/x-python",
   "name": "python",
   "nbconvert_exporter": "python",
   "pygments_lexer": "ipython3",
   "version": "3.9.6"
  },
  "orig_nbformat": 4
 },
 "nbformat": 4,
 "nbformat_minor": 2
}
