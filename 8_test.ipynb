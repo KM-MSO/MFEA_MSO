{
 "cells": [
  {
   "cell_type": "code",
   "execution_count": 1,
   "metadata": {},
   "outputs": [],
   "source": [
    "from MFEA_lib.model import MFEA_HKT_v1, MFEA_anhHa_new_new ,MFEA1\n",
    "from MFEA_lib.model.utils import *\n",
    "from MFEA_lib.operators.Crossover import *\n",
    "from MFEA_lib.operators.Mutation import *\n",
    "from MFEA_lib.operators.Selection import *\n",
    "from MFEA_lib.operators.Search import *\n",
    "from MFEA_lib.tasks.Benchmark.Funcs import CEC17_benchmark, GECCO20_benchmark_50tasks, WCCI22_benchmark"
   ]
  },
  {
   "cell_type": "code",
   "execution_count": 2,
   "metadata": {},
   "outputs": [],
   "source": [
    "class IndClass(Individual):\n",
    "    def __init__(self, genes, dim= None) -> None:\n",
    "        super().__init__(genes, dim)\n",
    "        if genes is None:\n",
    "            self.genes: np.ndarray = np.random.rand(dim)\n",
    "        self.transfer =False"
   ]
  },
  {
   "cell_type": "code",
   "execution_count": 3,
   "metadata": {},
   "outputs": [],
   "source": [
    "# result = np.zeros((10,30,2))\n",
    "# for index in range(1,11):\n",
    "#     benchmark,_ = WCCI22_benchmark.get_complex_benchmark(index)\n",
    "#     for seed in range(1,31):\n",
    "#         baseModel = MFEA_anhHa_new_new.model(seed=seed)\n",
    "#         baseModel.compile(\n",
    "#             IndClass= IndClass,\n",
    "#             tasks= benchmark,\n",
    "#             crossover= SBX_Crossover(nc = 2),\n",
    "#             # mutation= Polynomial_Mutation(nm = 5),\n",
    "#             mutation= Directional_Mutation(),\n",
    "#             selection= ElitismSelection()\n",
    "#         )\n",
    "#         solve = baseModel.fit(\n",
    "#             nb_inds_each_task=100,\n",
    "#             nb_inds_min=40,\n",
    "#             nb_generations=1000,\n",
    "#             LSA = False\n",
    "#             )\n",
    "#         result[index-1][seed-1][0]= solve[0].fcost\n",
    "#         result[index-1][seed-1][1] =solve[1].fcost\n"
   ]
  },
  {
   "cell_type": "code",
   "execution_count": 4,
   "metadata": {},
   "outputs": [],
   "source": [
    "# mean = np.zeros((10,2))\n",
    "# for i in range(10):\n",
    "#     mean[i]=np.mean(result[i],axis=0)\n",
    "# mean"
   ]
  },
  {
   "cell_type": "code",
   "execution_count": 5,
   "metadata": {},
   "outputs": [],
   "source": [
    "# a = open(\"D:/Lab/CEC/Result/complex.txt\", \"w\")\n",
    "# for i in mean:\n",
    "#     np.savetxt(a,i)\n",
    "# a.close()"
   ]
  },
  {
   "cell_type": "code",
   "execution_count": 6,
   "metadata": {},
   "outputs": [],
   "source": [
    "ls_benchmark = []\n",
    "ls_IndClass = []\n",
    "\n",
    "for i in range(1, 10, 1):\n",
    "    t, ic = WCCI22_benchmark.get_complex_benchmark(i)\n",
    "    ls_benchmark.append(t)\n",
    "    ls_IndClass.append(IndClass)\n",
    "\n",
    "name_benchmark = np.arange(len(ls_benchmark)) + 1"
   ]
  },
  {
   "cell_type": "code",
   "execution_count": 7,
   "metadata": {},
   "outputs": [],
   "source": [
    "t, ic = WCCI22_benchmark.get_50tasks_benchmark(1)\n",
    "ls_benchmark =[t]\n",
    "ls_IndClass = [ic]"
   ]
  },
  {
   "cell_type": "code",
   "execution_count": 8,
   "metadata": {},
   "outputs": [
    {
     "name": "stdout",
     "output_type": "stream",
     "text": [
      "Time: 11m 54.18s   47 % [=========>          ]  Pop_size: 5.00E+03  ,  Cost: 3.25E-11  8.83E-12  2.48E-11  1.43E-11  6.36E-12  6.03E-12  1.97E-11  9.48E-11  1.12E-10  2.23E-11  1.51E-11  2.84E-12  1.13E-11  2.88E-11  1.01E-11  2.62E-11  6.65E-12  1.14E-11  1.54E-11  8.50E-12  4.27E-11  1.48E-11  5.91E-12  4.47E-11  2.81E-11  1.23E-11  4.38E-11  1.14E-11  9.96E-12  7.48E-12  2.55E-11  3.55E-12  4.35E-12  2.51E-11  1.90E-12  1.50E-11  1.01E-11  1.33E-12  3.09E-11  4.07E-11  2.14E-11  5.84E-11  2.47E-11  1.62E-11  3.03E-11  2.23E-11  4.16E-11  1.98E-11  1.12E-11  1.20E-11  ,  "
     ]
    },
    {
     "ename": "AttributeError",
     "evalue": "'model' object has no attribute 'last_pop'",
     "output_type": "error",
     "traceback": [
      "\u001b[1;31m---------------------------------------------------------------------------\u001b[0m",
      "\u001b[1;31mKeyboardInterrupt\u001b[0m                         Traceback (most recent call last)",
      "File \u001b[1;32md:\\Lab\\MFEA_MSO\\MFEA_lib\\model\\utils.py:185\u001b[0m, in \u001b[0;36mMultiTimeModel.run\u001b[1;34m(self, nb_run, save_path, seed_arr, random_seed, replace_folder)\u001b[0m\n\u001b[0;32m    <a href='file:///d%3A/Lab/MFEA_MSO/MFEA_lib/model/utils.py?line=183'>184</a>\u001b[0m model\u001b[39m.\u001b[39mcompile(\u001b[39m*\u001b[39m\u001b[39m*\u001b[39m\u001b[39mself\u001b[39m\u001b[39m.\u001b[39mcompile_kwargs)\n\u001b[1;32m--> <a href='file:///d%3A/Lab/MFEA_MSO/MFEA_lib/model/utils.py?line=184'>185</a>\u001b[0m model\u001b[39m.\u001b[39mfit(\u001b[39m*\u001b[39m\u001b[39mself\u001b[39m\u001b[39m.\u001b[39margs, \u001b[39m*\u001b[39m\u001b[39m*\u001b[39m\u001b[39mself\u001b[39m\u001b[39m.\u001b[39mkwargs)\n\u001b[0;32m    <a href='file:///d%3A/Lab/MFEA_MSO/MFEA_lib/model/utils.py?line=186'>187</a>\u001b[0m \u001b[39mself\u001b[39m\u001b[39m.\u001b[39mtotal_time \u001b[39m+\u001b[39m\u001b[39m=\u001b[39m model\u001b[39m.\u001b[39mtime_end \u001b[39m-\u001b[39m model\u001b[39m.\u001b[39mtime_begin\n",
      "File \u001b[1;32md:\\Lab\\MFEA_MSO\\MFEA_lib\\model\\MFEA_HKT_v1.py:219\u001b[0m, in \u001b[0;36mmodel.fit\u001b[1;34m(self, nb_inds_each_task, nb_inds_min, nb_generations, bound, evaluate_initial_skillFactor, LSA, *args, **kwargs)\u001b[0m\n\u001b[0;32m    <a href='file:///d%3A/Lab/MFEA_MSO/MFEA_lib/model/MFEA_HKT_v1.py?line=217'>218</a>\u001b[0m \u001b[39melse\u001b[39;00m:\n\u001b[1;32m--> <a href='file:///d%3A/Lab/MFEA_MSO/MFEA_lib/model/MFEA_HKT_v1.py?line=218'>219</a>\u001b[0m     oa \u001b[39m=\u001b[39m \u001b[39mself\u001b[39;49m\u001b[39m.\u001b[39;49msearch(ind \u001b[39m=\u001b[39;49m population[k][inv],population\u001b[39m=\u001b[39;49mpopulation)\n\u001b[0;32m    <a href='file:///d%3A/Lab/MFEA_MSO/MFEA_lib/model/MFEA_HKT_v1.py?line=219'>220</a>\u001b[0m     offsprings\u001b[39m.\u001b[39m__addIndividual__(oa)\n",
      "File \u001b[1;32md:\\Lab\\MFEA_MSO\\MFEA_lib\\operators\\Search.py:88\u001b[0m, in \u001b[0;36mSHADE.__call__\u001b[1;34m(self, ind, population, *args, **kwargs)\u001b[0m\n\u001b[0;32m     <a href='file:///d%3A/Lab/MFEA_MSO/MFEA_lib/operators/Search.py?line=84'>85</a>\u001b[0m     ind_best \u001b[39m=\u001b[39m population\u001b[39m.\u001b[39m__getIndsTask__(ind\u001b[39m.\u001b[39mskill_factor, \u001b[39mtype\u001b[39m \u001b[39m=\u001b[39m \u001b[39mself\u001b[39m\u001b[39m.\u001b[39mp_best_type, p_ontop\u001b[39m=\u001b[39m \u001b[39mself\u001b[39m\u001b[39m.\u001b[39mp_ontop, tournament_size\u001b[39m=\u001b[39m \u001b[39mself\u001b[39m\u001b[39m.\u001b[39mtournament_size)\n\u001b[1;32m---> <a href='file:///d%3A/Lab/MFEA_MSO/MFEA_lib/operators/Search.py?line=87'>88</a>\u001b[0m k \u001b[39m=\u001b[39m np\u001b[39m.\u001b[39;49mrandom\u001b[39m.\u001b[39;49mchoice(\u001b[39mself\u001b[39;49m\u001b[39m.\u001b[39;49mlen_mem)\n\u001b[0;32m     <a href='file:///d%3A/Lab/MFEA_MSO/MFEA_lib/operators/Search.py?line=88'>89</a>\u001b[0m cr \u001b[39m=\u001b[39m np\u001b[39m.\u001b[39mclip(np\u001b[39m.\u001b[39mrandom\u001b[39m.\u001b[39mnormal(loc \u001b[39m=\u001b[39m \u001b[39mself\u001b[39m\u001b[39m.\u001b[39mM_cr[ind\u001b[39m.\u001b[39mskill_factor][k], scale \u001b[39m=\u001b[39m \u001b[39m0.1\u001b[39m), \u001b[39m0\u001b[39m, \u001b[39m1\u001b[39m)\n",
      "\u001b[1;31mKeyboardInterrupt\u001b[0m: ",
      "\nDuring handling of the above exception, another exception occurred:\n",
      "\u001b[1;31mAttributeError\u001b[0m                            Traceback (most recent call last)",
      "\u001b[1;32md:\\Lab\\MFEA_MSO\\8_test.ipynb Cell 8'\u001b[0m in \u001b[0;36m<cell line: 24>\u001b[1;34m()\u001b[0m\n\u001b[0;32m      <a href='vscode-notebook-cell:/d%3A/Lab/MFEA_MSO/8_test.ipynb#ch0000007?line=6'>7</a>\u001b[0m model\u001b[39m.\u001b[39mcompile(\n\u001b[0;32m      <a href='vscode-notebook-cell:/d%3A/Lab/MFEA_MSO/8_test.ipynb#ch0000007?line=7'>8</a>\u001b[0m     crossover\u001b[39m=\u001b[39m SBX_Crossover(nc \u001b[39m=\u001b[39m \u001b[39m2\u001b[39m),\n\u001b[0;32m      <a href='vscode-notebook-cell:/d%3A/Lab/MFEA_MSO/8_test.ipynb#ch0000007?line=8'>9</a>\u001b[0m     \u001b[39m# mutation = GaussMutation(scale= 0.1),\u001b[39;00m\n\u001b[1;32m   (...)\u001b[0m\n\u001b[0;32m     <a href='vscode-notebook-cell:/d%3A/Lab/MFEA_MSO/8_test.ipynb#ch0000007?line=14'>15</a>\u001b[0m \n\u001b[0;32m     <a href='vscode-notebook-cell:/d%3A/Lab/MFEA_MSO/8_test.ipynb#ch0000007?line=15'>16</a>\u001b[0m )\n\u001b[0;32m     <a href='vscode-notebook-cell:/d%3A/Lab/MFEA_MSO/8_test.ipynb#ch0000007?line=16'>17</a>\u001b[0m model\u001b[39m.\u001b[39mfit(\n\u001b[0;32m     <a href='vscode-notebook-cell:/d%3A/Lab/MFEA_MSO/8_test.ipynb#ch0000007?line=17'>18</a>\u001b[0m     nb_inds_each_task\u001b[39m=\u001b[39m\u001b[39m100\u001b[39m,\n\u001b[0;32m     <a href='vscode-notebook-cell:/d%3A/Lab/MFEA_MSO/8_test.ipynb#ch0000007?line=18'>19</a>\u001b[0m     nb_inds_min\u001b[39m=\u001b[39m\u001b[39m30\u001b[39m,\n\u001b[1;32m   (...)\u001b[0m\n\u001b[0;32m     <a href='vscode-notebook-cell:/d%3A/Lab/MFEA_MSO/8_test.ipynb#ch0000007?line=21'>22</a>\u001b[0m     evaluate_initial_skillFactor\u001b[39m=\u001b[39m \u001b[39mTrue\u001b[39;00m\n\u001b[0;32m     <a href='vscode-notebook-cell:/d%3A/Lab/MFEA_MSO/8_test.ipynb#ch0000007?line=22'>23</a>\u001b[0m )\n\u001b[1;32m---> <a href='vscode-notebook-cell:/d%3A/Lab/MFEA_MSO/8_test.ipynb#ch0000007?line=23'>24</a>\u001b[0m a \u001b[39m=\u001b[39m model\u001b[39m.\u001b[39;49mrun(\n\u001b[0;32m     <a href='vscode-notebook-cell:/d%3A/Lab/MFEA_MSO/8_test.ipynb#ch0000007?line=24'>25</a>\u001b[0m     nb_run\u001b[39m=\u001b[39;49m \u001b[39m1\u001b[39;49m,\n\u001b[0;32m     <a href='vscode-notebook-cell:/d%3A/Lab/MFEA_MSO/8_test.ipynb#ch0000007?line=25'>26</a>\u001b[0m     save_path\u001b[39m=\u001b[39;49m \u001b[39m\"\u001b[39;49m\u001b[39m./RESULTS/__static__/WCCI22_complex/MFEA_anhHa_COMPLEX/MFEA_anhHa_id_\u001b[39;49m\u001b[39m\"\u001b[39;49m\n\u001b[0;32m     <a href='vscode-notebook-cell:/d%3A/Lab/MFEA_MSO/8_test.ipynb#ch0000007?line=26'>27</a>\u001b[0m )\n",
      "File \u001b[1;32md:\\Lab\\MFEA_MSO\\MFEA_lib\\model\\utils.py:937\u001b[0m, in \u001b[0;36mMultiBenchmark.run\u001b[1;34m(self, nb_run, save_path)\u001b[0m\n\u001b[0;32m    <a href='file:///d%3A/Lab/MFEA_MSO/MFEA_lib/model/utils.py?line=934'>935</a>\u001b[0m model\u001b[39m.\u001b[39mcompile(\u001b[39m*\u001b[39m\u001b[39m*\u001b[39m\u001b[39mself\u001b[39m\u001b[39m.\u001b[39mcompile_kwargs) \n\u001b[0;32m    <a href='file:///d%3A/Lab/MFEA_MSO/MFEA_lib/model/utils.py?line=935'>936</a>\u001b[0m model\u001b[39m.\u001b[39mfit(\u001b[39m*\u001b[39m\u001b[39m*\u001b[39m\u001b[39mself\u001b[39m\u001b[39m.\u001b[39mfit_kwargs) \n\u001b[1;32m--> <a href='file:///d%3A/Lab/MFEA_MSO/MFEA_lib/model/utils.py?line=936'>937</a>\u001b[0m model\u001b[39m.\u001b[39;49mrun(nb_run \u001b[39m=\u001b[39;49m nb_run, save_path\u001b[39m=\u001b[39;49m save_path \u001b[39m+\u001b[39;49m \u001b[39mstr\u001b[39;49m(\u001b[39mself\u001b[39;49m\u001b[39m.\u001b[39;49mls_name_benchmark[idx]) \u001b[39m+\u001b[39;49m \u001b[39m\"\u001b[39;49m\u001b[39m.mso\u001b[39;49m\u001b[39m\"\u001b[39;49m) \n\u001b[0;32m    <a href='file:///d%3A/Lab/MFEA_MSO/MFEA_lib/model/utils.py?line=937'>938</a>\u001b[0m \u001b[39mself\u001b[39m\u001b[39m.\u001b[39mls_model\u001b[39m.\u001b[39mappend(model)\n",
      "File \u001b[1;32md:\\Lab\\MFEA_MSO\\MFEA_lib\\model\\utils.py:193\u001b[0m, in \u001b[0;36mMultiTimeModel.run\u001b[1;34m(self, nb_run, save_path, seed_arr, random_seed, replace_folder)\u001b[0m\n\u001b[0;32m    <a href='file:///d%3A/Lab/MFEA_MSO/MFEA_lib/model/utils.py?line=189'>190</a>\u001b[0m \u001b[39mself\u001b[39m\u001b[39m.\u001b[39mstatus \u001b[39m=\u001b[39m \u001b[39m'\u001b[39m\u001b[39mRunning\u001b[39m\u001b[39m'\u001b[39m\n\u001b[0;32m    <a href='file:///d%3A/Lab/MFEA_MSO/MFEA_lib/model/utils.py?line=190'>191</a>\u001b[0m \u001b[39mself\u001b[39m\u001b[39m.\u001b[39mset_attribute()\n\u001b[1;32m--> <a href='file:///d%3A/Lab/MFEA_MSO/MFEA_lib/model/utils.py?line=192'>193</a>\u001b[0m save_result \u001b[39m=\u001b[39m saveModel(\u001b[39mself\u001b[39;49m, save_path)\n\u001b[0;32m    <a href='file:///d%3A/Lab/MFEA_MSO/MFEA_lib/model/utils.py?line=193'>194</a>\u001b[0m \u001b[39mprint\u001b[39m(\u001b[39m'\u001b[39m\u001b[39m\\n\u001b[39;00m\u001b[39m\\n\u001b[39;00m\u001b[39mKeyboardInterrupt: \u001b[39m\u001b[39m'\u001b[39m \u001b[39m+\u001b[39m\n\u001b[0;32m    <a href='file:///d%3A/Lab/MFEA_MSO/MFEA_lib/model/utils.py?line=194'>195</a>\u001b[0m       save_result \u001b[39m+\u001b[39m \u001b[39m'\u001b[39m\u001b[39m model, model is not Done\u001b[39m\u001b[39m'\u001b[39m)\n\u001b[0;32m    <a href='file:///d%3A/Lab/MFEA_MSO/MFEA_lib/model/utils.py?line=195'>196</a>\u001b[0m traceback\u001b[39m.\u001b[39mprint_exc()\n",
      "File \u001b[1;32md:\\Lab\\MFEA_MSO\\MFEA_lib\\model\\utils.py:235\u001b[0m, in \u001b[0;36msaveModel\u001b[1;34m(model, PATH, remove_tasks)\u001b[0m\n\u001b[0;32m    <a href='file:///d%3A/Lab/MFEA_MSO/MFEA_lib/model/utils.py?line=232'>233</a>\u001b[0m \u001b[39mfor\u001b[39;00m submodel \u001b[39min\u001b[39;00m model\u001b[39m.\u001b[39mls_model:\n\u001b[0;32m    <a href='file:///d%3A/Lab/MFEA_MSO/MFEA_lib/model/utils.py?line=233'>234</a>\u001b[0m     submodel\u001b[39m.\u001b[39mtasks \u001b[39m=\u001b[39m \u001b[39mNone\u001b[39;00m\n\u001b[1;32m--> <a href='file:///d%3A/Lab/MFEA_MSO/MFEA_lib/model/utils.py?line=234'>235</a>\u001b[0m     submodel\u001b[39m.\u001b[39;49mlast_pop\u001b[39m.\u001b[39mls_tasks \u001b[39m=\u001b[39m \u001b[39mNone\u001b[39;00m\n\u001b[0;32m    <a href='file:///d%3A/Lab/MFEA_MSO/MFEA_lib/model/utils.py?line=235'>236</a>\u001b[0m     \u001b[39mfor\u001b[39;00m subpop \u001b[39min\u001b[39;00m submodel\u001b[39m.\u001b[39mlast_pop:\n\u001b[0;32m    <a href='file:///d%3A/Lab/MFEA_MSO/MFEA_lib/model/utils.py?line=236'>237</a>\u001b[0m         subpop\u001b[39m.\u001b[39mtask \u001b[39m=\u001b[39m \u001b[39mNone\u001b[39;00m\n",
      "\u001b[1;31mAttributeError\u001b[0m: 'model' object has no attribute 'last_pop'"
     ]
    }
   ],
   "source": [
    "model = MultiBenchmark(\n",
    "    ls_benchmark= ls_benchmark,\n",
    "    name_benchmark= name_benchmark,\n",
    "    ls_IndClass= ls_IndClass,\n",
    "    model= MFEA_HKT_v1\n",
    ")\n",
    "model.compile(\n",
    "    crossover= SBX_Crossover(nc = 2),\n",
    "    # mutation = GaussMutation(scale= 0.1),\n",
    "    # mutation  =Directional_Mutation_v2(pm=1/50),\n",
    "    # mutation = Directional_Mutation(),\n",
    "    mutation = Polynomial_Mutation(nm = 5),\n",
    "    selection= ElitismSelection(random_percent= 0.),\n",
    "    search = SHADE(),\n",
    "\n",
    ")\n",
    "model.fit(\n",
    "    nb_inds_each_task=100,\n",
    "    nb_inds_min=30,\n",
    "    nb_generations=1000,\n",
    "    LSA = False,\n",
    "    evaluate_initial_skillFactor= True\n",
    ")\n",
    "a = model.run(\n",
    "    nb_run= 1,\n",
    "    save_path= \"./RESULTS/__static__/WCCI22_complex/MFEA_anhHa_COMPLEX/MFEA_anhHa_id_\"\n",
    ")"
   ]
  },
  {
   "cell_type": "code",
   "execution_count": null,
   "metadata": {},
   "outputs": [
    {
     "name": "stdout",
     "output_type": "stream",
     "text": [
      "1\n",
      "[6.08E+02 6.08E+02]\n",
      "2\n",
      "[7.00E+02 7.01E+02]\n",
      "3\n",
      "[2.57E+05 1.14E+05]\n",
      "4\n",
      "[1.30E+03 1.30E+03]\n",
      "5\n",
      "[1.51E+03 1.51E+03]\n",
      "6\n",
      "[1.88E+05 7.78E+04]\n",
      "7\n",
      "[2.48E+03 2.64E+03]\n",
      "8\n",
      "[5.21E+02 5.21E+02]\n",
      "9\n",
      "[8.96E+03 1.62E+03]\n"
     ]
    }
   ],
   "source": [
    "# model.print_result([\"history_cost\"])"
   ]
  },
  {
   "cell_type": "code",
   "execution_count": null,
   "metadata": {},
   "outputs": [],
   "source": [
    "# compare = CompareResultBenchmark(path_folder=\"./RESULTS/__static__/WCCI22_complex\", ls_benchmark=[WCCI22_benchmark.get_complex_benchmark(i)[0] for i in range(1, 11)])"
   ]
  },
  {
   "cell_type": "code",
   "execution_count": null,
   "metadata": {},
   "outputs": [],
   "source": [
    "# compare.summarizing_compare_result(idx_main_algo= 3,min_value=1e-6)"
   ]
  },
  {
   "cell_type": "code",
   "execution_count": null,
   "metadata": {},
   "outputs": [],
   "source": [
    "# compare.show_compare_detail(min_value=1e-6, round=7,idx_main_algo=1)"
   ]
  }
 ],
 "metadata": {
  "interpreter": {
   "hash": "0d591c6e422414675974e227c13f5382000c440fedd3c5006ef2be5d887f0ba7"
  },
  "kernelspec": {
   "display_name": "Python 3.9.4 64-bit",
   "language": "python",
   "name": "python3"
  },
  "language_info": {
   "codemirror_mode": {
    "name": "ipython",
    "version": 3
   },
   "file_extension": ".py",
   "mimetype": "text/x-python",
   "name": "python",
   "nbconvert_exporter": "python",
   "pygments_lexer": "ipython3",
   "version": "3.9.4"
  },
  "orig_nbformat": 4
 },
 "nbformat": 4,
 "nbformat_minor": 2
}
