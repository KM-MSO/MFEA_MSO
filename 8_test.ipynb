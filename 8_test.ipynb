{
 "cells": [
  {
   "cell_type": "code",
   "execution_count": 1,
   "metadata": {},
   "outputs": [],
   "source": [
    "from MFEA_lib.model import MFEA_HKT_v1, MFEA_anhHa_new_new ,MFEA1\n",
    "from MFEA_lib.model.utils import *\n",
    "from MFEA_lib.operators.Crossover import *\n",
    "from MFEA_lib.operators.Mutation import *\n",
    "from MFEA_lib.operators.Selection import *\n",
    "from MFEA_lib.operators.Search import *\n",
    "from MFEA_lib.tasks.Benchmark.Funcs import CEC17_benchmark, GECCO20_benchmark_50tasks, WCCI22_benchmark"
   ]
  },
  {
   "cell_type": "code",
   "execution_count": 2,
   "metadata": {},
   "outputs": [],
   "source": [
    "class IndClass(Individual):\n",
    "    def __init__(self, genes, dim= None) -> None:\n",
    "        super().__init__(genes, dim)\n",
    "        if genes is None:\n",
    "            self.genes: np.ndarray = np.random.rand(dim)\n",
    "        self.transfer =False"
   ]
  },
  {
   "cell_type": "code",
   "execution_count": 3,
   "metadata": {},
   "outputs": [],
   "source": [
    "# result = np.zeros((10,30,2))\n",
    "# for index in range(1,11):\n",
    "#     benchmark,_ = WCCI22_benchmark.get_complex_benchmark(index)\n",
    "#     for seed in range(1,31):\n",
    "#         baseModel = MFEA_anhHa_new_new.model(seed=seed)\n",
    "#         baseModel.compile(\n",
    "#             IndClass= IndClass,\n",
    "#             tasks= benchmark,\n",
    "#             crossover= SBX_Crossover(nc = 2),\n",
    "#             # mutation= Polynomial_Mutation(nm = 5),\n",
    "#             mutation= Directional_Mutation(),\n",
    "#             selection= ElitismSelection()\n",
    "#         )\n",
    "#         solve = baseModel.fit(\n",
    "#             nb_inds_each_task=100,\n",
    "#             nb_inds_min=40,\n",
    "#             nb_generations=1000,\n",
    "#             LSA = False\n",
    "#             )\n",
    "#         result[index-1][seed-1][0]= solve[0].fcost\n",
    "#         result[index-1][seed-1][1] =solve[1].fcost\n"
   ]
  },
  {
   "cell_type": "code",
   "execution_count": 4,
   "metadata": {},
   "outputs": [],
   "source": [
    "# mean = np.zeros((10,2))\n",
    "# for i in range(10):\n",
    "#     mean[i]=np.mean(result[i],axis=0)\n",
    "# mean"
   ]
  },
  {
   "cell_type": "code",
   "execution_count": 5,
   "metadata": {},
   "outputs": [],
   "source": [
    "# a = open(\"D:/Lab/CEC/Result/complex.txt\", \"w\")\n",
    "# for i in mean:\n",
    "#     np.savetxt(a,i)\n",
    "# a.close()"
   ]
  },
  {
   "cell_type": "code",
   "execution_count": 6,
   "metadata": {},
   "outputs": [],
   "source": [
    "ls_benchmark = []\n",
    "ls_IndClass = []\n",
    "\n",
    "for i in range(1, 10, 1):\n",
    "    t, ic = WCCI22_benchmark.get_complex_benchmark(i)\n",
    "    ls_benchmark.append(t)\n",
    "    ls_IndClass.append(IndClass)\n",
    "\n",
    "name_benchmark = np.arange(len(ls_benchmark)) + 1"
   ]
  },
  {
   "cell_type": "code",
   "execution_count": 7,
   "metadata": {},
   "outputs": [
    {
     "name": "stdout",
     "output_type": "stream",
     "text": [
      "Time: 01m 5.29s  100 % [====================>]  Pop_size: 1.00E+02  1.00E+02  ,  Cost: 6.07E+02  6.07E+02  ,  End\n",
      "DONE!\n",
      "Saved\n",
      "Time: 00m 46.38s  100 % [====================>]  Pop_size: 1.00E+02  1.00E+02  ,  Cost: 7.00E+02  7.01E+02  ,  End\n",
      "DONE!\n",
      "Saved\n",
      "Time: 00m 53.05s  100 % [====================>]  Pop_size: 1.00E+02  1.00E+02  ,  Cost: 3.03E+05  1.41E+05  ,  End\n",
      "DONE!\n",
      "Saved\n",
      "Time: 00m 52.28s  100 % [====================>]  Pop_size: 1.00E+02  1.00E+02  ,  Cost: 1.30E+03  1.30E+03  ,  End\n",
      "DONE!\n",
      "Saved\n",
      "Time: 00m 51.58s  100 % [====================>]  Pop_size: 1.00E+02  1.00E+02  ,  Cost: 1.51E+03  1.51E+03  ,  End\n",
      "DONE!\n",
      "Saved\n",
      "Time: 01m 19.14s  100 % [====================>]  Pop_size: 1.00E+02  1.00E+02  ,  Cost: 2.81E+05  2.42E+05  ,  End\n",
      "DONE!\n",
      "Saved\n",
      "Time: 02m 26.03s  100 % [====================>]  Pop_size: 1.00E+02  1.00E+02  ,  Cost: 3.34E+03  2.97E+03  ,  End\n",
      "DONE!\n",
      "Saved\n",
      "Time: 01m 33.37s  100 % [====================>]  Pop_size: 1.00E+02  1.00E+02  ,  Cost: 5.21E+02  5.21E+02  ,  End\n",
      "DONE!\n",
      "Saved\n",
      "Time: 00m 34.62s   71 % [==============>     ]  Pop_size: 1.00E+02  1.00E+02  ,  Cost: 7.69E+03  1.62E+03  ,  "
     ]
    }
   ],
   "source": [
    "model = MultiBenchmark(\n",
    "    ls_benchmark= ls_benchmark,\n",
    "    name_benchmark= name_benchmark,\n",
    "    ls_IndClass= ls_IndClass,\n",
    "    model= MFEA_HKT_v1\n",
    ")\n",
    "model.compile(\n",
    "    crossover= SBX_Crossover(nc = 2),\n",
    "    # mutation = GaussMutation(scale= 0.1),\n",
    "    mutation  =Directional_Mutation_v2(pm=1/50),\n",
    "    # mutation = Directional_Mutation(),\n",
    "    # mutation = Polynomial_Mutation(nm = 5,pm = 1),\n",
    "    selection= ElitismSelection(random_percent= 0.),\n",
    "    search = L_SHADE(),\n",
    "\n",
    ")\n",
    "model.fit(\n",
    "    nb_inds_each_task=100,\n",
    "    nb_inds_min=30,\n",
    "    nb_generations=1000,\n",
    "    LSA = False,\n",
    "    evaluate_initial_skillFactor= True\n",
    ")\n",
    "a = model.run(\n",
    "    nb_run= 1,\n",
    "    save_path= \"./RESULTS/__static__/WCCI22_complex/MFEA_anhHa_COMPLEX/MFEA_anhHa_id_\"\n",
    ")"
   ]
  },
  {
   "cell_type": "code",
   "execution_count": null,
   "metadata": {},
   "outputs": [
    {
     "name": "stdout",
     "output_type": "stream",
     "text": [
      "1\n",
      "[6.12E+02 6.08E+02]\n",
      "2\n",
      "[7.00E+02 7.00E+02]\n",
      "3\n",
      "[5.55E+05 1.22E+05]\n",
      "4\n",
      "[1.30E+03 1.30E+03]\n",
      "5\n",
      "[1.52E+03 1.52E+03]\n",
      "6\n",
      "[3.94E+05 5.17E+05]\n",
      "7\n",
      "[2.68E+03 2.64E+03]\n",
      "8\n",
      "[5.21E+02 5.21E+02]\n",
      "9\n",
      "[9.92E+03 1.62E+03]\n"
     ]
    }
   ],
   "source": [
    "model.print_result([\"history_cost\"])"
   ]
  },
  {
   "cell_type": "code",
   "execution_count": null,
   "metadata": {},
   "outputs": [
    {
     "name": "stdout",
     "output_type": "stream",
     "text": [
      "(0 : LSA_21)\n",
      "(1 : LSA_COMPLEX)\n",
      "(2 : MFEA1_COMPLEX)\n",
      "(3 : MFEA_anhHa_COMPLEX)\n",
      "(4 : MFEA_COMPLEX)\n",
      "(5 : SMP_COMPLEX_FINAL_CEC10)\n"
     ]
    }
   ],
   "source": [
    "compare = CompareResultBenchmark(path_folder=\"./RESULTS/__static__/WCCI22_complex\", ls_benchmark=[WCCI22_benchmark.get_complex_benchmark(i)[0] for i in range(1, 11)])"
   ]
  },
  {
   "cell_type": "code",
   "execution_count": null,
   "metadata": {},
   "outputs": [
    {
     "name": "stdout",
     "output_type": "stream",
     "text": [
      "['LSA_21', 'LSA_COMPLEX', 'MFEA1_COMPLEX', 'MFEA_anhHa_COMPLEX', 'MFEA_COMPLEX', 'SMP_COMPLEX_FINAL_CEC10']\n"
     ]
    },
    {
     "data": {
      "text/html": [
       "<div>\n",
       "<style scoped>\n",
       "    .dataframe tbody tr th:only-of-type {\n",
       "        vertical-align: middle;\n",
       "    }\n",
       "\n",
       "    .dataframe tbody tr th {\n",
       "        vertical-align: top;\n",
       "    }\n",
       "\n",
       "    .dataframe thead th {\n",
       "        text-align: right;\n",
       "    }\n",
       "</style>\n",
       "<table border=\"1\" class=\"dataframe\">\n",
       "  <thead>\n",
       "    <tr style=\"text-align: right;\">\n",
       "      <th></th>\n",
       "      <th>Better</th>\n",
       "      <th>Equal</th>\n",
       "      <th>Worse</th>\n",
       "    </tr>\n",
       "  </thead>\n",
       "  <tbody>\n",
       "    <tr>\n",
       "      <th>MFEA_anhHa_COMPLEX vs LSA_21</th>\n",
       "      <td>2</td>\n",
       "      <td>0</td>\n",
       "      <td>16</td>\n",
       "    </tr>\n",
       "    <tr>\n",
       "      <th>MFEA_anhHa_COMPLEX vs LSA_COMPLEX</th>\n",
       "      <td>13</td>\n",
       "      <td>0</td>\n",
       "      <td>5</td>\n",
       "    </tr>\n",
       "    <tr>\n",
       "      <th>MFEA_anhHa_COMPLEX vs MFEA1_COMPLEX</th>\n",
       "      <td>15</td>\n",
       "      <td>0</td>\n",
       "      <td>3</td>\n",
       "    </tr>\n",
       "    <tr>\n",
       "      <th>MFEA_anhHa_COMPLEX vs MFEA_COMPLEX</th>\n",
       "      <td>14</td>\n",
       "      <td>0</td>\n",
       "      <td>4</td>\n",
       "    </tr>\n",
       "    <tr>\n",
       "      <th>MFEA_anhHa_COMPLEX vs SMP_COMPLEX_FINAL_CEC10</th>\n",
       "      <td>10</td>\n",
       "      <td>0</td>\n",
       "      <td>8</td>\n",
       "    </tr>\n",
       "  </tbody>\n",
       "</table>\n",
       "</div>"
      ],
      "text/plain": [
       "                                               Better  Equal  Worse\n",
       "MFEA_anhHa_COMPLEX vs LSA_21                        2      0     16\n",
       "MFEA_anhHa_COMPLEX vs LSA_COMPLEX                  13      0      5\n",
       "MFEA_anhHa_COMPLEX vs MFEA1_COMPLEX                15      0      3\n",
       "MFEA_anhHa_COMPLEX vs MFEA_COMPLEX                 14      0      4\n",
       "MFEA_anhHa_COMPLEX vs SMP_COMPLEX_FINAL_CEC10      10      0      8"
      ]
     },
     "execution_count": 10,
     "metadata": {},
     "output_type": "execute_result"
    }
   ],
   "source": [
    "compare.summarizing_compare_result(idx_main_algo= 3,min_value=1e-6)"
   ]
  },
  {
   "cell_type": "code",
   "execution_count": null,
   "metadata": {},
   "outputs": [
    {
     "name": "stdout",
     "output_type": "stream",
     "text": [
      "Benchmark:  1\n",
      "         LSA_COMPLEX          LSA_21 MFEA1_COMPLEX MFEA_anhHa_COMPLEX MFEA_COMPLEX SMP_COMPLEX_FINAL_CEC10\n",
      "Tasks1   612.7801631  (+)608.0086431   608.9087796        612.0568199  641.2352856             621.3871001\n",
      "Tasks2   621.3176276   (+)607.891374   608.9714738        608.3745865   641.370391             621.3621177\n",
      "Compare          0/2             2/2           0/2                0/2          0/2                     0/2\n",
      "\n",
      "Benchmark:  2\n",
      "             LSA_21  LSA_COMPLEX MFEA1_COMPLEX MFEA_anhHa_COMPLEX MFEA_COMPLEX SMP_COMPLEX_FINAL_CEC10\n",
      "Tasks1     (+)700.0  700.0025424   700.0063009        700.0571507  700.0027845             700.0010682\n",
      "Tasks2   700.007396  700.0032844    700.005849        700.0000262   700.001237                (+)700.0\n",
      "Compare         1/2          0/2           0/2                0/2          0/2                     1/2\n",
      "\n",
      "Benchmark:  3\n",
      "            LSA_COMPLEX           LSA_21    MFEA1_COMPLEX MFEA_anhHa_COMPLEX     MFEA_COMPLEX SMP_COMPLEX_FINAL_CEC10\n",
      "Tasks1   148596.7025722  (+)5287.9502671   2667942.511899     555435.6406499  1473540.8517308           886240.795951\n",
      "Tasks2    824972.563527  (+)6475.5768689  2144260.9613253     121572.9636779  1637396.3555822          828466.3333707\n",
      "Compare             0/2              2/2              0/2                0/2              0/2                     0/2\n",
      "\n",
      "Benchmark:  4\n",
      "               LSA_21      LSA_COMPLEX MFEA1_COMPLEX MFEA_anhHa_COMPLEX  MFEA_COMPLEX SMP_COMPLEX_FINAL_CEC10\n",
      "Tasks1   1300.6157909  (+)1300.3010878  1300.5524327       1300.3649324  1300.5524938            1300.4614545\n",
      "Tasks2   1300.6169783     1300.2617392  1300.5164847    (+)1300.2096577   1300.455091            1300.4170891\n",
      "Compare           0/2              1/2           0/2                1/2           0/2                     0/2\n",
      "\n",
      "Benchmark:  5\n",
      "          LSA_COMPLEX           LSA_21 MFEA1_COMPLEX MFEA_anhHa_COMPLEX  MFEA_COMPLEX SMP_COMPLEX_FINAL_CEC10\n",
      "Tasks1   1531.6914409  (+)1507.4175862  1530.8327039       1523.1001898  1527.9293523            1514.2484546\n",
      "Tasks2   1512.9246297  (+)1508.0739541  1533.3755389        1515.619207  1524.1167259            1513.3338218\n",
      "Compare           0/2              2/2           0/2                0/2           0/2                     0/2\n",
      "\n",
      "Benchmark:  6\n",
      "                 LSA_21      LSA_COMPLEX    MFEA1_COMPLEX MFEA_anhHa_COMPLEX    MFEA_COMPLEX SMP_COMPLEX_FINAL_CEC10\n",
      "Tasks1   514195.3213497  (+)6826.3974654  1587098.1875867     394123.8788629  892457.6297795          532655.4359684\n",
      "Tasks2   349307.1026893  (+)5556.1439513  1357188.7275766     516927.1771334  889275.7483019          306684.6913075\n",
      "Compare             0/2              2/2              0/2                0/2             0/2                     0/2\n",
      "\n",
      "Benchmark:  7\n",
      "          LSA_COMPLEX           LSA_21 MFEA1_COMPLEX MFEA_anhHa_COMPLEX  MFEA_COMPLEX SMP_COMPLEX_FINAL_CEC10\n",
      "Tasks1   3377.0683138  (+)2562.7353261  2847.0482775       2681.5328768  3342.0954685            3114.2007126\n",
      "Tasks2   2916.0571626  (+)2605.3966137  2944.0066366       2636.2304747  3435.4950158            3098.5615873\n",
      "Compare           0/2              2/2           0/2                0/2           0/2                     0/2\n",
      "\n",
      "Benchmark:  8\n",
      "              LSA_21     LSA_COMPLEX MFEA1_COMPLEX MFEA_anhHa_COMPLEX MFEA_COMPLEX SMP_COMPLEX_FINAL_CEC10\n",
      "Tasks1   521.2183604  (+)520.0285553   521.1703212        521.0430316  520.1086076             520.0694281\n",
      "Tasks2   521.1938406  (+)520.0183064   521.1809227        520.9329801  520.0965385             520.0590493\n",
      "Compare          0/2             2/2           0/2                0/2          0/2                     0/2\n",
      "\n",
      "Benchmark:  9\n",
      "            LSA_COMPLEX           LSA_21 MFEA1_COMPLEX MFEA_anhHa_COMPLEX  MFEA_COMPLEX SMP_COMPLEX_FINAL_CEC10\n",
      "Tasks1   (+)6121.101655     6853.1433969   9109.897425       9916.4360238  8380.0250961            8062.2137656\n",
      "Tasks2     1622.4619819  (+)1619.9632322   1622.093927       1620.6604665  1621.4101959            1621.0819871\n",
      "Compare             1/2              1/2           0/2                0/2           0/2                     0/2\n",
      "\n",
      "Benchmark:  10\n",
      "Cannot compare benchmark 10\n"
     ]
    }
   ],
   "source": [
    "compare.show_compare_detail(min_value=1e-6, round=7,idx_main_algo=1)"
   ]
  }
 ],
 "metadata": {
  "interpreter": {
   "hash": "0d591c6e422414675974e227c13f5382000c440fedd3c5006ef2be5d887f0ba7"
  },
  "kernelspec": {
   "display_name": "Python 3.9.4 64-bit",
   "language": "python",
   "name": "python3"
  },
  "language_info": {
   "codemirror_mode": {
    "name": "ipython",
    "version": 3
   },
   "file_extension": ".py",
   "mimetype": "text/x-python",
   "name": "python",
   "nbconvert_exporter": "python",
   "pygments_lexer": "ipython3",
   "version": "3.9.4"
  },
  "orig_nbformat": 4
 },
 "nbformat": 4,
 "nbformat_minor": 2
}
