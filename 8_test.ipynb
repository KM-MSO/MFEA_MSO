{
 "cells": [
  {
   "cell_type": "code",
   "execution_count": 1,
   "metadata": {},
   "outputs": [],
   "source": [
    "from MFEA_lib.model import MFEA_HKT_v1, MFEA_anhHa ,MFEA1\n",
    "from MFEA_lib.operators.Crossover import SBX_Crossover\n",
    "from MFEA_lib.operators.Mutation import *\n",
    "from MFEA_lib.operators.Selection import ElitismSelection\n",
    "from MFEA_lib.tasks.Benchmark.Funcs import WCCI22_benchmark,CEC17_benchmark"
   ]
  },
  {
   "cell_type": "code",
   "execution_count": 2,
   "metadata": {},
   "outputs": [],
   "source": [
    "import numpy as np\n",
    "Wccci_2_task,_ = WCCI22_benchmark.get_complex_benchmark(1)\n",
    "Wccci_50_task,_ = WCCI22_benchmark.get_50tasks_benchmark(1)\n"
   ]
  },
  {
   "cell_type": "code",
   "execution_count": 3,
   "metadata": {},
   "outputs": [],
   "source": [
    "class IndClass(Individual):\n",
    "    def __init__(self, genes, dim= None) -> None:\n",
    "        super().__init__(genes, dim)\n",
    "        if genes is None:\n",
    "            self.genes: np.ndarray = np.random.rand(dim)\n",
    "        self.transfer =False"
   ]
  },
  {
   "cell_type": "code",
   "execution_count": 4,
   "metadata": {},
   "outputs": [
    {
     "name": "stdout",
     "output_type": "stream",
     "text": [
      "Time: 00m 46.47s  100 % [====================>]  Pop_size: 1.00E+02  1.00E+02  ,  Cost: 6.02E+02  6.02E+02  ,  End\n",
      "Time: 00m 3.65s    9 % [=>                  ]  Pop_size: 1.00E+02  1.00E+02  ,  Cost: 6.29E+02  6.30E+02  ,  "
     ]
    }
   ],
   "source": [
    "result = np.zeros((10,30,2))\n",
    "for index in range(1,11):\n",
    "    benchmark,_ = WCCI22_benchmark.get_complex_benchmark(index)\n",
    "    for seed in range(1,31):\n",
    "        baseModel = MFEA_HKT_v1.model(seed=seed)\n",
    "        baseModel.compile(\n",
    "            IndClass= IndClass,\n",
    "            tasks= benchmark,\n",
    "            crossover= SBX_Crossover(nc = 2),\n",
    "            # mutation= PolynomialMutation(nm = 5),\n",
    "            mutation= Directional_Mutation(),\n",
    "            selection= ElitismSelection()\n",
    "        )\n",
    "        solve = baseModel.fit(\n",
    "            nb_inds_each_task=100,\n",
    "            nb_inds_min=40,\n",
    "            nb_generations=1000,\n",
    "            LSA = False\n",
    "            )\n",
    "        result[index-1][seed-1][0]= solve[0].fcost\n",
    "        result[index-1][seed-1][1] =solve[1].fcost\n"
   ]
  },
  {
   "cell_type": "code",
   "execution_count": null,
   "metadata": {},
   "outputs": [
    {
     "data": {
      "text/plain": [
       "array([[6.01987149e+02, 6.01837727e+02],\n",
       "       [7.00035449e+02, 7.00037589e+02],\n",
       "       [9.38259561e+05, 1.03078674e+06],\n",
       "       [1.30046537e+03, 1.30038138e+03],\n",
       "       [1.51327296e+03, 1.51413475e+03],\n",
       "       [6.26083536e+05, 6.49413974e+05],\n",
       "       [3.07879452e+03, 3.16006642e+03],\n",
       "       [5.20044116e+02, 5.20046924e+02],\n",
       "       [8.14485108e+03, 1.62076732e+03],\n",
       "       [2.89625586e+04, 1.40729739e+06]])"
      ]
     },
     "execution_count": 54,
     "metadata": {},
     "output_type": "execute_result"
    }
   ],
   "source": [
    "mean = np.zeros((10,2))\n",
    "for i in range(10):\n",
    "    mean[i]=np.mean(result[i],axis=0)\n",
    "mean"
   ]
  },
  {
   "cell_type": "code",
   "execution_count": null,
   "metadata": {},
   "outputs": [
    {
     "data": {
      "text/plain": [
       "array([601.98714878, 601.83772739])"
      ]
     },
     "execution_count": 64,
     "metadata": {},
     "output_type": "execute_result"
    }
   ],
   "source": [
    "mean[0]"
   ]
  },
  {
   "cell_type": "code",
   "execution_count": null,
   "metadata": {},
   "outputs": [],
   "source": [
    "a = open(\"D:/Lab/CEC/Result/complex.txt\", \"w\")\n",
    "for i in mean:\n",
    "    np.savetxt(a,i)\n",
    "a.close()"
   ]
  }
 ],
 "metadata": {
  "interpreter": {
   "hash": "dcacb0086e9a4f4eabd41c33bf4faac5ea0a3337ed3f5eff0680afa930572c04"
  },
  "kernelspec": {
   "display_name": "Python 3.9.4 64-bit",
   "language": "python",
   "name": "python3"
  },
  "language_info": {
   "codemirror_mode": {
    "name": "ipython",
    "version": 3
   },
   "file_extension": ".py",
   "mimetype": "text/x-python",
   "name": "python",
   "nbconvert_exporter": "python",
   "pygments_lexer": "ipython3",
   "version": "3.9.4"
  },
  "orig_nbformat": 4
 },
 "nbformat": 4,
 "nbformat_minor": 2
}
