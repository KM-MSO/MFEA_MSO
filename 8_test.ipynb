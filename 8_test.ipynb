{
 "cells": [
  {
   "cell_type": "code",
   "execution_count": 1,
   "metadata": {},
   "outputs": [],
   "source": [
    "from MFEA_lib.model import MFEA_HKT_v1, MFEA_anhHa ,MFEA1\n",
    "from MFEA_lib.operators.Crossover import SBX_Crossover\n",
    "from MFEA_lib.operators.Mutation import *\n",
    "from MFEA_lib.operators.Selection import ElitismSelection\n",
    "from MFEA_lib.tasks.Benchmark.Funcs import WCCI22_benchmark,CEC17_benchmark"
   ]
  },
  {
   "cell_type": "code",
   "execution_count": 2,
   "metadata": {},
   "outputs": [],
   "source": [
    "import numpy as np\n",
    "cec17_10tasks,_ = WCCI22_benchmark.get_complex_benchmark(1)\n",
    "Wccci_50_task,_ = WCCI22_benchmark.get_50tasks_benchmark(1)\n"
   ]
  },
  {
   "cell_type": "code",
   "execution_count": 3,
   "metadata": {},
   "outputs": [
    {
     "data": {
      "text/plain": [
       "7.38905609893065"
      ]
     },
     "execution_count": 3,
     "metadata": {},
     "output_type": "execute_result"
    }
   ],
   "source": [
    "np.exp(2)"
   ]
  },
  {
   "cell_type": "code",
   "execution_count": 4,
   "metadata": {},
   "outputs": [
    {
     "data": {
      "text/plain": [
       "4.923532599049864"
      ]
     },
     "execution_count": 4,
     "metadata": {},
     "output_type": "execute_result"
    }
   ],
   "source": [
    "np.random.normal(5,0.1)"
   ]
  },
  {
   "cell_type": "code",
   "execution_count": 5,
   "metadata": {},
   "outputs": [],
   "source": [
    "class IndClass(Individual):\n",
    "    def __init__(self, genes, dim= None) -> None:\n",
    "        super().__init__(genes, dim)\n",
    "        if genes is None:\n",
    "            self.genes: np.ndarray = np.random.rand(dim)\n",
    "        self.transfer =False"
   ]
  },
  {
   "cell_type": "code",
   "execution_count": 6,
   "metadata": {},
   "outputs": [
    {
     "name": "stdout",
     "output_type": "stream",
     "text": [
      "Time: 00m 43.32s    3 % [>                   ]  Cost: 2.91E+04  2.14E+04  2.70E+04  2.73E+04  2.95E+04  2.95E+04  2.58E+04  2.49E+04  2.51E+04  2.51E+04  3.08E+04  3.14E+04  2.69E+04  2.57E+04  2.84E+04  2.47E+04  2.60E+04  1.89E+04  3.18E+04  2.08E+04  2.83E+04  2.80E+04  2.63E+04  2.53E+04  2.88E+04  2.51E+04  2.64E+04  2.45E+04  2.40E+04  2.62E+04  2.96E+04  3.01E+04  2.50E+04  2.59E+04  3.18E+04  2.36E+04  2.73E+04  2.27E+04  2.70E+04  2.45E+04  2.84E+04  2.41E+04  2.74E+04  2.72E+04  2.08E+04  2.43E+04  2.58E+04  2.75E+04  2.49E+04  2.46E+04  ,  "
     ]
    },
    {
     "ename": "KeyboardInterrupt",
     "evalue": "",
     "output_type": "error",
     "traceback": [
      "\u001b[1;31m---------------------------------------------------------------------------\u001b[0m",
      "\u001b[1;31mKeyboardInterrupt\u001b[0m                         Traceback (most recent call last)",
      "\u001b[1;32md:\\Lab\\MFEA_MSO\\8_test.ipynb Cell 6'\u001b[0m in \u001b[0;36m<cell line: 10>\u001b[1;34m()\u001b[0m\n\u001b[0;32m      <a href='vscode-notebook-cell:/d%3A/Lab/MFEA_MSO/8_test.ipynb#ch0000006?line=0'>1</a>\u001b[0m baseModel \u001b[39m=\u001b[39m MFEA1\u001b[39m.\u001b[39mmodel()\n\u001b[0;32m      <a href='vscode-notebook-cell:/d%3A/Lab/MFEA_MSO/8_test.ipynb#ch0000006?line=1'>2</a>\u001b[0m baseModel\u001b[39m.\u001b[39mcompile(\n\u001b[0;32m      <a href='vscode-notebook-cell:/d%3A/Lab/MFEA_MSO/8_test.ipynb#ch0000006?line=2'>3</a>\u001b[0m     IndClass\u001b[39m=\u001b[39m IndClass,\n\u001b[0;32m      <a href='vscode-notebook-cell:/d%3A/Lab/MFEA_MSO/8_test.ipynb#ch0000006?line=3'>4</a>\u001b[0m     tasks\u001b[39m=\u001b[39m Wccci_50_task,\n\u001b[1;32m   (...)\u001b[0m\n\u001b[0;32m      <a href='vscode-notebook-cell:/d%3A/Lab/MFEA_MSO/8_test.ipynb#ch0000006?line=7'>8</a>\u001b[0m     selection\u001b[39m=\u001b[39m ElitismSelection()\n\u001b[0;32m      <a href='vscode-notebook-cell:/d%3A/Lab/MFEA_MSO/8_test.ipynb#ch0000006?line=8'>9</a>\u001b[0m )\n\u001b[1;32m---> <a href='vscode-notebook-cell:/d%3A/Lab/MFEA_MSO/8_test.ipynb#ch0000006?line=9'>10</a>\u001b[0m solve \u001b[39m=\u001b[39m baseModel\u001b[39m.\u001b[39;49mfit(\n\u001b[0;32m     <a href='vscode-notebook-cell:/d%3A/Lab/MFEA_MSO/8_test.ipynb#ch0000006?line=10'>11</a>\u001b[0m     nb_generations\u001b[39m=\u001b[39;49m \u001b[39m1000\u001b[39;49m, nb_inds_each_task\u001b[39m=\u001b[39;49m \u001b[39m100\u001b[39;49m, rmp \u001b[39m=\u001b[39;49m \u001b[39m0.3\u001b[39;49m,\n\u001b[0;32m     <a href='vscode-notebook-cell:/d%3A/Lab/MFEA_MSO/8_test.ipynb#ch0000006?line=11'>12</a>\u001b[0m     bound\u001b[39m=\u001b[39;49m [\u001b[39m0\u001b[39;49m, \u001b[39m1\u001b[39;49m], evaluate_initial_skillFactor\u001b[39m=\u001b[39;49m \u001b[39mTrue\u001b[39;49;00m\n\u001b[0;32m     <a href='vscode-notebook-cell:/d%3A/Lab/MFEA_MSO/8_test.ipynb#ch0000006?line=12'>13</a>\u001b[0m )\n",
      "File \u001b[1;32md:\\Lab\\MFEA_MSO\\MFEA_lib\\model\\MFEA1.py:50\u001b[0m, in \u001b[0;36mmodel.fit\u001b[1;34m(self, nb_generations, nb_inds_each_task, rmp, evaluate_initial_skillFactor, *args, **kwargs)\u001b[0m\n\u001b[0;32m     <a href='file:///d%3A/Lab/MFEA_MSO/MFEA_lib/model/MFEA1.py?line=47'>48</a>\u001b[0m \u001b[39mif\u001b[39;00m pa\u001b[39m.\u001b[39mskill_factor \u001b[39m==\u001b[39m pb\u001b[39m.\u001b[39mskill_factor \u001b[39mor\u001b[39;00m np\u001b[39m.\u001b[39mrandom\u001b[39m.\u001b[39mrand() \u001b[39m<\u001b[39m rmp: \n\u001b[0;32m     <a href='file:///d%3A/Lab/MFEA_MSO/MFEA_lib/model/MFEA1.py?line=48'>49</a>\u001b[0m     skf_oa, skf_ob \u001b[39m=\u001b[39m np\u001b[39m.\u001b[39mrandom\u001b[39m.\u001b[39mchoice([pa\u001b[39m.\u001b[39mskill_factor, pb\u001b[39m.\u001b[39mskill_factor], size\u001b[39m=\u001b[39m \u001b[39m2\u001b[39m, replace\u001b[39m=\u001b[39m \u001b[39mTrue\u001b[39;00m) \n\u001b[1;32m---> <a href='file:///d%3A/Lab/MFEA_MSO/MFEA_lib/model/MFEA1.py?line=49'>50</a>\u001b[0m     oa, ob \u001b[39m=\u001b[39m \u001b[39mself\u001b[39;49m\u001b[39m.\u001b[39;49mcrossover(pa, pb, skf_oa, skf_ob) \n\u001b[0;32m     <a href='file:///d%3A/Lab/MFEA_MSO/MFEA_lib/model/MFEA1.py?line=50'>51</a>\u001b[0m \u001b[39melse\u001b[39;00m: \n\u001b[0;32m     <a href='file:///d%3A/Lab/MFEA_MSO/MFEA_lib/model/MFEA1.py?line=51'>52</a>\u001b[0m     pa1 \u001b[39m=\u001b[39m population[pa\u001b[39m.\u001b[39mskill_factor]\u001b[39m.\u001b[39m__getRandomItems__()\n",
      "File \u001b[1;32md:\\Lab\\MFEA_MSO\\MFEA_lib\\operators\\Crossover.py:45\u001b[0m, in \u001b[0;36mSBX_Crossover.__call__\u001b[1;34m(self, pa, pb, skf_oa, skf_ob, *args, **kwargs)\u001b[0m\n\u001b[0;32m     <a href='file:///d%3A/Lab/MFEA_MSO/MFEA_lib/operators/Crossover.py?line=43'>44</a>\u001b[0m \u001b[39mdef\u001b[39;00m \u001b[39m__call__\u001b[39m(\u001b[39mself\u001b[39m, pa: Individual, pb: Individual, skf_oa\u001b[39m=\u001b[39m \u001b[39mNone\u001b[39;00m, skf_ob\u001b[39m=\u001b[39m \u001b[39mNone\u001b[39;00m, \u001b[39m*\u001b[39margs, \u001b[39m*\u001b[39m\u001b[39m*\u001b[39mkwargs) \u001b[39m-\u001b[39m\u001b[39m>\u001b[39m Tuple[Individual, Individual]:\n\u001b[1;32m---> <a href='file:///d%3A/Lab/MFEA_MSO/MFEA_lib/operators/Crossover.py?line=44'>45</a>\u001b[0m     u \u001b[39m=\u001b[39m np\u001b[39m.\u001b[39;49mrandom\u001b[39m.\u001b[39;49mrand(\u001b[39mself\u001b[39;49m\u001b[39m.\u001b[39;49mdim_uss)\n\u001b[0;32m     <a href='file:///d%3A/Lab/MFEA_MSO/MFEA_lib/operators/Crossover.py?line=46'>47</a>\u001b[0m     \u001b[39m# ~1 TODO\u001b[39;00m\n\u001b[0;32m     <a href='file:///d%3A/Lab/MFEA_MSO/MFEA_lib/operators/Crossover.py?line=47'>48</a>\u001b[0m     beta \u001b[39m=\u001b[39m np\u001b[39m.\u001b[39mwhere(u \u001b[39m<\u001b[39m \u001b[39m0.5\u001b[39m, (\u001b[39m2\u001b[39m\u001b[39m*\u001b[39mu)\u001b[39m*\u001b[39m\u001b[39m*\u001b[39m(\u001b[39m1\u001b[39m\u001b[39m/\u001b[39m(\u001b[39mself\u001b[39m\u001b[39m.\u001b[39mnc \u001b[39m+\u001b[39m\u001b[39m1\u001b[39m)), (\u001b[39m2\u001b[39m \u001b[39m*\u001b[39m (\u001b[39m1\u001b[39m \u001b[39m-\u001b[39m u))\u001b[39m*\u001b[39m\u001b[39m*\u001b[39m(\u001b[39m-\u001b[39m\u001b[39m1\u001b[39m \u001b[39m/\u001b[39m (\u001b[39m1\u001b[39m \u001b[39m+\u001b[39m \u001b[39mself\u001b[39m\u001b[39m.\u001b[39mnc)))\n",
      "\u001b[1;31mKeyboardInterrupt\u001b[0m: "
     ]
    }
   ],
   "source": [
    "baseModel = MFEA1.model()\n",
    "baseModel.compile(\n",
    "    IndClass= IndClass,\n",
    "    tasks= Wccci_50_task,\n",
    "    crossover= SBX_Crossover(nc = 2),\n",
    "    mutation= Polynomial_Mutation(nm = 5),\n",
    "    # mutation= Directional_Mutation(),\n",
    "    selection= ElitismSelection()\n",
    ")\n",
    "solve = baseModel.fit(\n",
    "    nb_generations= 1000, nb_inds_each_task= 100, rmp = 0.3,\n",
    "    bound= [0, 1], evaluate_initial_skillFactor= True\n",
    ")"
   ]
  },
  {
   "cell_type": "code",
   "execution_count": null,
   "metadata": {},
   "outputs": [
    {
     "name": "stdout",
     "output_type": "stream",
     "text": [
      "Time: 03m 18.70s  100 % [====================>]  Pop_size: 1.00E+02  1.00E+02  ,  Cost: 6.04E+02  6.01E+02  ,  End\n"
     ]
    }
   ],
   "source": [
    "baseModel = MFEA_HKT_v1.model()\n",
    "baseModel.compile(\n",
    "    IndClass= IndClass,\n",
    "    tasks= Wccci_50_task,\n",
    "    crossover= SBX_Crossover(nc = 2),\n",
    "    # mutation= Polynomial_Mutation(nm = 5),\n",
    "    mutation= Directional_Mutation(),\n",
    "    selection= ElitismSelection()\n",
    ")\n",
    "solve = baseModel.fit(\n",
    "    nb_inds_each_task=100,\n",
    "    nb_inds_min=40,\n",
    "    nb_generations=1000,\n",
    "    LSA = False\n",
    "    )\n",
    "\n"
   ]
  },
  {
   "cell_type": "code",
   "execution_count": null,
   "metadata": {},
   "outputs": [
    {
     "name": "stdout",
     "output_type": "stream",
     "text": [
      "Time: 02m 47.79s   99 % [===================>]  Pop_size: 1.00E+02  1.00E+02  ,  Cost: 6.24E+02  6.25E+02  ,  End\n"
     ]
    }
   ],
   "source": [
    "baseModel = MFEA_anhHa.model()\n",
    "baseModel.compile(\n",
    "    IndClass= IndClass,\n",
    "    tasks= Wccci_50_task,\n",
    "    crossover= SBX_Crossover(nc = 2),\n",
    "    # mutation= Polynomial_Mutation(nm = 5),\n",
    "    mutation= Directional_Mutation(),\n",
    "    selection= ElitismSelection()\n",
    ")\n",
    "solve = baseModel.fit(\n",
    "    nb_inds_each_task=100,\n",
    "    nb_inds_min=40,\n",
    "    nb_generations=1000,\n",
    "    LSA = False\n",
    "    )"
   ]
  }
 ],
 "metadata": {
  "interpreter": {
   "hash": "dcacb0086e9a4f4eabd41c33bf4faac5ea0a3337ed3f5eff0680afa930572c04"
  },
  "kernelspec": {
   "display_name": "Python 3.9.4 64-bit",
   "language": "python",
   "name": "python3"
  },
  "language_info": {
   "codemirror_mode": {
    "name": "ipython",
    "version": 3
   },
   "file_extension": ".py",
   "mimetype": "text/x-python",
   "name": "python",
   "nbconvert_exporter": "python",
   "pygments_lexer": "ipython3",
   "version": "3.9.4"
  },
  "orig_nbformat": 4
 },
 "nbformat": 4,
 "nbformat_minor": 2
}
