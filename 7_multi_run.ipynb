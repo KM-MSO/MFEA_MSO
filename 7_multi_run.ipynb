{
 "cells": [
  {
   "cell_type": "code",
   "execution_count": 1,
   "metadata": {},
   "outputs": [],
   "source": [
    "from MFEA_lib.model import AbstractModel, SMP_MFEA, MFEA_base\n",
    "from MFEA_lib.model.utils import *\n",
    "from MFEA_lib.model.utils import TuningModel\n",
    "import pandas as pd\n",
    "import numpy as np\n",
    "import scipy.io\n",
    "from MFEA_lib.tasks.Benchmark.Funcs import * \n",
    "from MFEA_lib.operators.Crossover import *\n",
    "from MFEA_lib.operators.Mutation import *\n",
    "from MFEA_lib.operators.Selection import *\n"
   ]
  },
  {
   "cell_type": "markdown",
   "metadata": {},
   "source": [
    "### Draft"
   ]
  },
  {
   "cell_type": "code",
   "execution_count": null,
   "metadata": {},
   "outputs": [
    {
     "name": "stdout",
     "output_type": "stream",
     "text": [
      "1\n",
      "5\n",
      "2\n",
      "6\n"
     ]
    }
   ],
   "source": [
    "a = [4,5,6] \n",
    "for idx, d in enumerate(a[1:], start= 1):\n",
    "    print(idx)\n",
    "    print(d)"
   ]
  },
  {
   "cell_type": "markdown",
   "metadata": {},
   "source": [
    "### Tuning Model\n"
   ]
  },
  {
   "cell_type": "code",
   "execution_count": null,
   "metadata": {},
   "outputs": [],
   "source": [
    "ls_benchmark = [] \n",
    "ls_IndClass = [] \n",
    "for id in range(1, 3): \n",
    "    b, i = CEC17_benchmark.get_2tasks_benchmark(id) \n",
    "    ls_benchmark.append(b) \n",
    "    ls_IndClass.append(i) \n",
    "\n",
    "b, i = CEC17_benchmark.get_10tasks_benchmark() \n",
    "ls_benchmark.append(b)\n",
    "ls_IndClass.append(i)"
   ]
  },
  {
   "cell_type": "code",
   "execution_count": null,
   "metadata": {},
   "outputs": [],
   "source": [
    "model = TuningModel(\n",
    "    model_name= SMP_MFEA, \n",
    "    list_parameter= [\n",
    "        ('crossover', {\n",
    "            'gamma': [0.4, 0.6]\n",
    "        }), \n",
    "        ('lr', [0.04, 0.05]),\n",
    "        ('crossover', {\n",
    "            'alpha': [5, 7]\n",
    "        }), \n",
    "    ],\n",
    ")\n",
    "model.compile(\n",
    "    ls_benchmark = ls_benchmark, \n",
    "    benchmark_weights = (np.ones(shape= (3,)) / 3).tolist(), \n",
    "    name_benchmark = [str(i) for i in range(1,4)],\n",
    "    ls_IndClass = ls_IndClass,\n",
    "\n",
    "    tasks = None,\n",
    "    IndClass= None,\n",
    "    # tasks = CEC17_benchmark.get_10tasks_benchmark(),\n",
    "    crossover= newSBX(nc = 2, gamma= 0.4, alpha = 6),\n",
    "    # crossover= SBX_Crossover(nc = 2),\n",
    "    mutation = GaussMutation(scale = 0.01),\n",
    "    selection= ElitismSelection(random_percent= 0.),\n",
    "    # search= SHADE(len_mem= 30, p_ontop= 0.1), \n",
    "    attr_tasks = ['crossover', 'mutation']\n",
    ")\n",
    "\n",
    "fit, com, result = model.run(\n",
    "    replace_folder=True,\n",
    "    nb_generations= 5, \n",
    "    nb_inds_each_task= 100, \n",
    "    nb_inds_min= 100,\n",
    "    lr = 0.05,  \n",
    "    p_const_intra= 0, \n",
    "    p_mutate= 0.1, \n",
    "    prob_search = 0.,\n",
    "    nb_epochs_stop= 1000, \n",
    "    swap_po= False,\n",
    "    evaluate_initial_skillFactor= True\n",
    ")"
   ]
  },
  {
   "cell_type": "markdown",
   "metadata": {},
   "source": [
    "### Show and compare result"
   ]
  },
  {
   "cell_type": "code",
   "execution_count": null,
   "metadata": {},
   "outputs": [],
   "source": [
    "MFEA_model = loadModel('./RESULTS/MFEA_cec17.mso')\n",
    "EBS_GA_model = loadModel('./RESULTS/EBS_GA_cec17.mso')\n",
    "MaTDE_model = loadModel('./RESULTS/MaTDE_cec17.mso')\n",
    "MaTGA_model = loadModel('./RESULTS/MaTGA_cec17.mso')\n",
    "MTEA_AD_model = loadModel('./RESULTS/MTEA_AD_cec17.mso')\n",
    "SA_model = loadModel('./RESULTS/SA_cec17.mso')\n",
    "LSA_model = loadModel('./RESULTS/LSA_cec17.mso')\n",
    "# SMP_NEWSBX = loadModel(\"./RESULTS/SMP_NEWSBX.mso\", ls_tasks= CEC17_benchmark.get_10tasks_benchmark())\n"
   ]
  },
  {
   "cell_type": "code",
   "execution_count": null,
   "metadata": {},
   "outputs": [],
   "source": [
    "compare = CompareModel(\n",
    "    models = [MFEA_model, EBS_GA_model, MaTDE_model, MaTGA_model, MTEA_AD_model, SA_model, LSA_model],\n",
    "    label= [...] * 7 ,\n",
    ")\n",
    "# compare.render(    \n",
    "#     shape = (2, 5),\n",
    "#     min_cost= 0,\n",
    "#     step= 100,\n",
    "#     yscale= 'log'\n",
    "# )"
   ]
  },
  {
   "cell_type": "code",
   "execution_count": null,
   "metadata": {},
   "outputs": [],
   "source": [
    "compare.summarizing_compare_result(path=\"./RESULTS/2tasks/\", idx_main_algo= 6, nb_task= 2, ls_benchmark= [CEC17_benchmark.get_2tasks_benchmark(id) for id in range(1,10)])"
   ]
  },
  {
   "cell_type": "code",
   "execution_count": null,
   "metadata": {},
   "outputs": [
    {
     "name": "stdout",
     "output_type": "stream",
     "text": [
      "['LSA_2021', 'EBS_GA', 'SBS_GA', 'LSA', 'SA', 'SBS_GA_poly', 'MaTDE', 'SMP_NEWSBX', 'MaTGA', 'MFEA']\n"
     ]
    },
    {
     "data": {
      "text/html": [
       "<div>\n",
       "<style scoped>\n",
       "    .dataframe tbody tr th:only-of-type {\n",
       "        vertical-align: middle;\n",
       "    }\n",
       "\n",
       "    .dataframe tbody tr th {\n",
       "        vertical-align: top;\n",
       "    }\n",
       "\n",
       "    .dataframe thead th {\n",
       "        text-align: right;\n",
       "    }\n",
       "</style>\n",
       "<table border=\"1\" class=\"dataframe\">\n",
       "  <thead>\n",
       "    <tr style=\"text-align: right;\">\n",
       "      <th></th>\n",
       "      <th>Better</th>\n",
       "      <th>Equal</th>\n",
       "      <th>Worse</th>\n",
       "    </tr>\n",
       "  </thead>\n",
       "  <tbody>\n",
       "    <tr>\n",
       "      <th>SA vs LSA_2021</th>\n",
       "      <td>124</td>\n",
       "      <td>67</td>\n",
       "      <td>309</td>\n",
       "    </tr>\n",
       "    <tr>\n",
       "      <th>SA vs EBS_GA</th>\n",
       "      <td>407</td>\n",
       "      <td>0</td>\n",
       "      <td>93</td>\n",
       "    </tr>\n",
       "    <tr>\n",
       "      <th>SA vs SBS_GA</th>\n",
       "      <td>389</td>\n",
       "      <td>0</td>\n",
       "      <td>111</td>\n",
       "    </tr>\n",
       "    <tr>\n",
       "      <th>SA vs LSA</th>\n",
       "      <td>193</td>\n",
       "      <td>49</td>\n",
       "      <td>258</td>\n",
       "    </tr>\n",
       "    <tr>\n",
       "      <th>SA vs SBS_GA_poly</th>\n",
       "      <td>62</td>\n",
       "      <td>67</td>\n",
       "      <td>371</td>\n",
       "    </tr>\n",
       "    <tr>\n",
       "      <th>SA vs MaTDE</th>\n",
       "      <td>308</td>\n",
       "      <td>67</td>\n",
       "      <td>125</td>\n",
       "    </tr>\n",
       "    <tr>\n",
       "      <th>SA vs SMP_NEWSBX</th>\n",
       "      <td>173</td>\n",
       "      <td>67</td>\n",
       "      <td>260</td>\n",
       "    </tr>\n",
       "    <tr>\n",
       "      <th>SA vs MaTGA</th>\n",
       "      <td>286</td>\n",
       "      <td>0</td>\n",
       "      <td>214</td>\n",
       "    </tr>\n",
       "    <tr>\n",
       "      <th>SA vs MFEA</th>\n",
       "      <td>500</td>\n",
       "      <td>0</td>\n",
       "      <td>0</td>\n",
       "    </tr>\n",
       "  </tbody>\n",
       "</table>\n",
       "</div>"
      ],
      "text/plain": [
       "                   Better  Equal  Worse\n",
       "SA vs LSA_2021        124     67    309\n",
       "SA vs EBS_GA          407      0     93\n",
       "SA vs SBS_GA          389      0    111\n",
       "SA vs LSA             193     49    258\n",
       "SA vs SBS_GA_poly      62     67    371\n",
       "SA vs MaTDE           308     67    125\n",
       "SA vs SMP_NEWSBX      173     67    260\n",
       "SA vs MaTGA           286      0    214\n",
       "SA vs MFEA            500      0      0"
      ]
     },
     "execution_count": 5,
     "metadata": {},
     "output_type": "execute_result"
    }
   ],
   "source": [
    "compare.summarizing_compare_result(path=\"./RESULTS/50tasks/\", idx_main_algo= 4, nb_task= 50, ls_benchmark= [GECCO20_benchmark_50tasks.get_items(id) for id in range(1,11)],min_value= 1e-6)"
   ]
  },
  {
   "cell_type": "code",
   "execution_count": null,
   "metadata": {},
   "outputs": [],
   "source": [
    "from plyer import notification\n",
    "notification.notify(\n",
    "    title='TM',\n",
    "    message='xong :)))',\n",
    "    app_icon=None,  # e.g. 'C:\\\\icon_32x32.ico'\n",
    "    timeout=10,  # seconds\n",
    ")"
   ]
  },
  {
   "cell_type": "markdown",
   "metadata": {},
   "source": [
    "### Multi Time Model"
   ]
  },
  {
   "cell_type": "code",
   "execution_count": 2,
   "metadata": {},
   "outputs": [
    {
     "name": "stdout",
     "output_type": "stream",
     "text": [
      "Time: 00m 2.09s  100 % [====================>]  Pop_size: 2.20E+01  ,  Cost: 2.11E+01  1.42E+04  ,  \n",
      "[0.5 0.5]\n",
      "[1024.  990.]\n",
      "END!\n",
      "DONE!\n",
      "Saved\n",
      "\n",
      "\n",
      "Result\n",
      "[   21.11465473 14210.37432437]\n"
     ]
    }
   ],
   "source": [
    "tasks, IndClass= CEC17_benchmark.get_2tasks_benchmark(2) \n",
    "\n",
    "smpModel = MultiTimeModel(model= SMP_MFEA)\n",
    "smpModel.compile(\n",
    "    # ls_benchmark = [], \n",
    "    # ls_IndClass = [],\n",
    "\n",
    "    tasks= tasks,\n",
    "    IndClass = IndClass,\n",
    "    crossover= newSBX(nc = 2, gamma= 0.4, alpha = 6),\n",
    "    mutation= GaussMutation(scale= 0.1),\n",
    "    # mutation = GMMScale(alpha = 3, lenMem= 20, default_scale= 0.5),\n",
    "    selection= ElitismSelection(random_percent= 0.),\n",
    "    attr_tasks = ['crossover', 'mutation'],\n",
    "    \n",
    ")\n",
    "smpModel.fit(\n",
    "    nb_generations= 10, nb_inds_each_task= 100, nb_inds_min= 20,\n",
    "    lr = 0.15, p_const_intra= 0., p_mutate= 0.,\n",
    "    nb_epochs_stop= 50, \n",
    "    evaluate_initial_skillFactor= True\n",
    ")\n",
    "smpModel.run(\n",
    "    nb_run= 1,\n",
    "    save_path= './RESULTS/result/smpMFEA_cec17.mso'\n",
    ")"
   ]
  },
  {
   "cell_type": "code",
   "execution_count": 3,
   "metadata": {},
   "outputs": [
    {
     "name": "stdout",
     "output_type": "stream",
     "text": [
      "total time: 00m 2.09s\n",
      "history_cost avg: \n",
      "[2.11E+01 1.42E+04]\n"
     ]
    }
   ],
   "source": [
    "smpModel.print_result(['history_cost'])"
   ]
  }
 ],
 "metadata": {
  "interpreter": {
   "hash": "8da01e5a71448ea74f54d88afa8911010d1d12e23bc7e103d40d5def4a09152c"
  },
  "kernelspec": {
   "display_name": "Python 3.9.5 64-bit",
   "language": "python",
   "name": "python3"
  },
  "language_info": {
   "codemirror_mode": {
    "name": "ipython",
    "version": 3
   },
   "file_extension": ".py",
   "mimetype": "text/x-python",
   "name": "python",
   "nbconvert_exporter": "python",
   "pygments_lexer": "ipython3",
   "version": "3.10.4"
  },
  "orig_nbformat": 4
 },
 "nbformat": 4,
 "nbformat_minor": 2
}
