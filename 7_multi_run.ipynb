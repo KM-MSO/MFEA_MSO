{
 "cells": [
  {
   "cell_type": "code",
   "execution_count": null,
   "metadata": {},
   "outputs": [],
   "source": [
    "from MFEA_lib.model import AbstractModel, SMP_MFEA, MFEA_base, SMP_DE\n",
    "from MFEA_lib.model.utils import *\n",
    "from MFEA_lib.model.utils import TuningModel\n",
    "import pandas as pd\n",
    "import numpy as np\n",
    "import scipy.io\n",
    "from MFEA_lib.tasks.Benchmark.Funcs import * \n",
    "from MFEA_lib.operators.Crossover import *\n",
    "from MFEA_lib.operators.Mutation import *\n",
    "from MFEA_lib.operators.Selection import *\n"
   ]
  },
  {
   "cell_type": "markdown",
   "metadata": {},
   "source": [
    "### Draft"
   ]
  },
  {
   "cell_type": "code",
   "execution_count": null,
   "metadata": {},
   "outputs": [],
   "source": [
    "a = [4,5,6] \n",
    "for idx, d in enumerate(a[1:], start= 1):\n",
    "    print(idx)\n",
    "    print(d)"
   ]
  },
  {
   "cell_type": "markdown",
   "metadata": {},
   "source": [
    "### Tuning Model\n"
   ]
  },
  {
   "cell_type": "code",
   "execution_count": null,
   "metadata": {},
   "outputs": [],
   "source": [
    "ls_benchmark = [] \n",
    "ls_IndClass = [] \n",
    "name_benchmarks = []\n",
    "for id in range(1, 10):\n",
    "    # print(id) \n",
    "    b, i = WCCI22_benchmark.get_complex_benchmark(4)\n",
    "    name_benchmarks.append(\"wcci_2tasks_\" + str(id))\n",
    "    ls_benchmark.append(b) \n",
    "    ls_IndClass.append(i) \n",
    "\n",
    "b, i = CEC17_benchmark.get_10tasks_benchmark() \n",
    "ls_benchmark.append(b)\n",
    "ls_IndClass.append(i)\n",
    "name_benchmarks.append(\"CEC_10_\")"
   ]
  },
  {
   "cell_type": "code",
   "execution_count": null,
   "metadata": {},
   "outputs": [],
   "source": [
    "ls_benchmark = [] \n",
    "ls_IndClass = [] \n",
    "for id in range(1, 3): \n",
    "    b, i = CEC17_benchmark.get_2tasks_benchmark(id) \n",
    "    ls_benchmark.append(b) \n",
    "    ls_IndClass.append(i) \n",
    "\n",
    "b, i = CEC17_benchmark.get_10tasks_benchmark() \n",
    "ls_benchmark.append(b)\n",
    "ls_IndClass.append(i)"
   ]
  },
  {
   "cell_type": "code",
   "execution_count": null,
   "metadata": {},
   "outputs": [],
   "source": [
    "model = TuningModel(\n",
    "    model_name= SMP_MFEA, \n",
    "    list_parameter= [\n",
    "        ('crossover', {\n",
    "            'gamma': [0.4, 0.6]\n",
    "        }), \n",
    "        ('lr', [0.04, 0.05]),\n",
    "        ('crossover', {\n",
    "            'alpha': [5, 7]\n",
    "        }), \n",
    "    ],\n",
    ")\n",
    "model.compile(\n",
    "    ls_benchmark = ls_benchmark, \n",
    "    benchmark_weights = (np.ones(shape= (3,)) / 3).tolist(), \n",
    "    name_benchmark = [str(i) for i in range(1,4)],\n",
    "    ls_IndClass = ls_IndClass,\n",
    "\n",
    "    # tasks = None,\n",
    "    # IndClass= None,\n",
    "    # tasks = CEC17_benchmark.get_10tasks_benchmark(),\n",
    "    crossover= newSBX(nc = 2, gamma= 0.4, alpha = 6),\n",
    "    # crossover= SBX_Crossover(nc = 2),\n",
    "    mutation = GaussMutation(scale = 0.01),\n",
    "    selection= ElitismSelection(random_percent= 0.),\n",
    "    # search= SHADE(len_mem= 30, p_ontop= 0.1), \n",
    "    attr_tasks = ['crossover', 'mutation']\n",
    ")\n",
    "\n",
    "fit, com, result = model.run(\n",
    "    replace_folder=True,\n",
    "    min_value = 1e-6,\n",
    "    \n",
    "    nb_generations= 5, \n",
    "    nb_inds_each_task= 100, \n",
    "    nb_inds_min= 100,\n",
    "    lr = 0.05,  \n",
    "    p_const_intra= 0, \n",
    "    p_mutate= 0.1, \n",
    "    prob_search = 0.,\n",
    "    nb_epochs_stop= 1000, \n",
    "    swap_po= False,\n",
    "    evaluate_initial_skillFactor= True\n",
    ")"
   ]
  },
  {
   "cell_type": "markdown",
   "metadata": {},
   "source": [
    "### Show and compare result"
   ]
  },
  {
   "cell_type": "code",
   "execution_count": null,
   "metadata": {},
   "outputs": [],
   "source": [
    "for id in range(1, 11): \n",
    "    SMP = loadModel(\"./RESULTS/50tasks/SMP_NEWSBX_TUN_50/Gecco_id_\"+ str(id) + \".mso\", GECCO20_benchmark_50tasks.get_items(id)[0])\n",
    "    SA = loadModel(\"./RESULTS/50tasks/SA/SA_Benchmark_\"+str(id) + \".mso\", GECCO20_benchmark_50tasks.get_items(id)[0])\n",
    "    LSA_21 = loadModel(\"./RESULTS/50tasks/LSA_2021/LSA_2021_MTOMSO_Benchmark_\"+str(id) + \".mso\", GECCO20_benchmark_50tasks.get_items(id)[0])\n",
    "    com = CompareModel([SMP, SA, LSA_21])\n",
    "    print(com.detail_compare_result(min_value= 1e-6, round = 7))"
   ]
  },
  {
   "cell_type": "code",
   "execution_count": null,
   "metadata": {},
   "outputs": [],
   "source": [
    "MFEA_model = loadModel('./RESULTS/MFEA_cec17.mso')\n",
    "EBS_GA_model = loadModel('./RESULTS/EBS_GA_cec17.mso')\n",
    "MaTDE_model = loadModel('./RESULTS/MaTDE_cec17.mso')\n",
    "MaTGA_model = loadModel('./RESULTS/MaTGA_cec17.mso')\n",
    "MTEA_AD_model = loadModel('./RESULTS/MTEA_AD_cec17.mso')\n",
    "SA_model = loadModel('./RESULTS/SA_cec17.mso')\n",
    "LSA_model = loadModel('./RESULTS/LSA_cec17.mso')\n",
    "# SMP_NEWSBX = loadModel(\"./RESULTS/SMP_NEWSBX.mso\", ls_tasks= CEC17_benchmark.get_10tasks_benchmark())\n"
   ]
  },
  {
   "cell_type": "code",
   "execution_count": null,
   "metadata": {},
   "outputs": [],
   "source": [
    "compare = CompareModel(\n",
    "    models = [MFEA_model, EBS_GA_model, MaTDE_model, MaTGA_model, MTEA_AD_model, SA_model, LSA_model],\n",
    "    label= [...] * 7 ,\n",
    ")\n",
    "# compare.render(    \n",
    "#     shape = (2, 5),\n",
    "#     min_cost= 0,\n",
    "#     step= 100,\n",
    "#     yscale= 'log'\n",
    "# )"
   ]
  },
  {
   "cell_type": "code",
   "execution_count": null,
   "metadata": {},
   "outputs": [],
   "source": []
  },
  {
   "cell_type": "code",
   "execution_count": null,
   "metadata": {},
   "outputs": [],
   "source": [
    "compare.detail_compare_result()"
   ]
  },
  {
   "cell_type": "code",
   "execution_count": null,
   "metadata": {},
   "outputs": [],
   "source": [
    "compare.summarizing_compare_result(path=None , idx_main_algo= 2, nb_task= 2, ls_benchmark= [CEC17_benchmark.get_2tasks_benchmark(id) for id in range(1,10)])"
   ]
  },
  {
   "cell_type": "code",
   "execution_count": null,
   "metadata": {},
   "outputs": [],
   "source": [
    "model = loadModel(\"./RESULTS/50tasks/SMP_NEWSBX/lan2_2s_newsbx_50task_1.mso\")"
   ]
  },
  {
   "cell_type": "code",
   "execution_count": null,
   "metadata": {},
   "outputs": [],
   "source": [
    "compare.summarizing_compare_result(path=\"./RESULTS/complex_2tasks/\", idx_main_algo= 0, nb_task= 2, ls_benchmark= [WCCI22_benchmark.get_complex_benchmark(id)[0] for id in range(1,10)],min_value= 1e-6, combine= True)"
   ]
  },
  {
   "cell_type": "code",
   "execution_count": null,
   "metadata": {},
   "outputs": [],
   "source": [
    "compare.summarizing_compare_result(path=\"./RESULTS/50tasks/\", idx_main_algo= 7, nb_task= 50, ls_benchmark= [GECCO20_benchmark_50tasks.get_items(id) for id in range(1,11)],min_value= 1e-6, combine= False)"
   ]
  },
  {
   "cell_type": "markdown",
   "metadata": {},
   "source": [
    "### Multi Time Model"
   ]
  },
  {
   "cell_type": "code",
   "execution_count": null,
   "metadata": {},
   "outputs": [],
   "source": [
    "tasks, IndClass= CEC17_benchmark.get_10tasks_benchmark()\n",
    "\n",
    "smpModel = MultiTimeModel(model= SMP_MFEA)\n",
    "smpModel.compile(\n",
    "    tasks= tasks,\n",
    "    IndClass = IndClass,\n",
    "    crossover= newSBX(nc = 2, gamma= 0.6, alpha = 7),\n",
    "    mutation= GaussMutation(scale= 0.1),\n",
    "    # mutation = GMMScale(alpha = 3, lenMem= 20, default_scale= 0.5),\n",
    "    selection= ElitismSelection(random_percent= 0.),\n",
    "    attr_tasks = ['crossover', 'mutation'],\n",
    "    \n",
    ")\n",
    "smpModel.fit(\n",
    "    nb_generations= 1000, nb_inds_each_task= 100, nb_inds_min= 100,\n",
    "    lr = 0.1, p_const_intra= 0.0, p_mutate= 0.1,prob_search = 0.0,\n",
    "    nb_epochs_stop= 50, \n",
    "    evaluate_initial_skillFactor= True\n",
    ")\n",
    "smpModel.run(\n",
    "    nb_run= 2,\n",
    "    save_path= './RESULTS/result/smpMFEA_cec17.mso'\n",
    ")"
   ]
  },
  {
   "cell_type": "code",
   "execution_count": null,
   "metadata": {},
   "outputs": [],
   "source": [
    "smpModel.print_result(['history_cost'])"
   ]
  },
  {
   "cell_type": "code",
   "execution_count": null,
   "metadata": {},
   "outputs": [],
   "source": [
    "ls_benchmark = [] \n",
    "ls_IndClass = [] \n",
    "for id in range(1, 3): \n",
    "    b, i = CEC17_benchmark.get_2tasks_benchmark(id) \n",
    "    ls_benchmark.append(b) \n",
    "    ls_IndClass.append(i) \n",
    "\n",
    "b, i = CEC17_benchmark.get_10tasks_benchmark() \n",
    "ls_benchmark.append(b)\n",
    "ls_IndClass.append(i)\n",
    "\n",
    "smpModel = MultiBenchmark(\n",
    "    ls_benchmark = ls_benchmark, \n",
    "    name_benchmark = [str(i) for i in range(1,4)],\n",
    "    ls_IndClass = ls_IndClass,\n",
    "    model= SMP_MFEA\n",
    "    )\n",
    "\n",
    "smpModel.compile(\n",
    "    crossover= newSBX(nc = 2, gamma= 0.6, alpha = 7),\n",
    "    mutation= GaussMutation(scale= 0.1),\n",
    "    # mutation = GMMScale(alpha = 3, lenMem= 20, default_scale= 0.5),\n",
    "    selection= ElitismSelection(random_percent= 0.),\n",
    "    attr_tasks = ['crossover', 'mutation'],\n",
    "    \n",
    ")\n",
    "smpModel.fit(\n",
    "    nb_generations= 10, nb_inds_each_task= 100, nb_inds_min= 100,\n",
    "    lr = 0.1, p_const_intra= 0.0, p_mutate= 0.1,prob_search = 0.0,\n",
    "    nb_epochs_stop= 50, \n",
    "    evaluate_initial_skillFactor= True\n",
    ")\n",
    "smpModel.run(\n",
    "    nb_run= 2,\n",
    "    save_path= './RESULTS/result/smpMFEA_cec17.mso'\n",
    ")"
   ]
  },
  {
   "cell_type": "code",
   "execution_count": null,
   "metadata": {},
   "outputs": [],
   "source": [
    "smpModel.print_result(['history_cost'])"
   ]
  },
  {
   "cell_type": "markdown",
   "metadata": {},
   "source": [
    "### SMP DE"
   ]
  },
  {
   "cell_type": "code",
   "execution_count": null,
   "metadata": {},
   "outputs": [],
   "source": [
    "tasks, IndClass= CEC17_benchmark.get_10tasks_benchmark()\n",
    "\n",
    "smpModel = MultiTimeModel(model= SMP_DE)\n",
    "smpModel.compile(\n",
    "    tasks= tasks,\n",
    "    IndClass = IndClass,\n",
    "    crossover= newSBX(nc = 2, gamma= 0.6, alpha = 7),\n",
    "    mutation= GaussMutation(scale= 0.1),\n",
    "    # mutation = GMMScale(alpha = 3, lenMem= 20, default_scale= 0.5),\n",
    "    selection= ElitismSelection(random_percent= 0.),\n",
    "    search = SHADE(len_mem=30, p_ontop= 0.1),\n",
    "    attr_tasks = ['crossover', 'mutation', 'search'],\n",
    "    \n",
    ")\n",
    "smpModel.fit(\n",
    "    nb_generations= 10, nb_inds_each_task= 100, nb_inds_min= 100,\n",
    "    lr = 0.1, p_const_intra= 0.0, p_mutate= 0.1,prob_search = 0.2,\n",
    "    nb_epochs_stop= 50, \n",
    "    evaluate_initial_skillFactor= True\n",
    ")\n",
    "smpModel.run(\n",
    "    nb_run= 2,\n",
    "    save_path= './RESULTS/result/smpMFEA_cec17.mso'\n",
    ")"
   ]
  }
 ],
 "metadata": {
  "interpreter": {
   "hash": "8da01e5a71448ea74f54d88afa8911010d1d12e23bc7e103d40d5def4a09152c"
  },
  "kernelspec": {
   "display_name": "Python 3.9.5 64-bit",
   "language": "python",
   "name": "python3"
  },
  "language_info": {
   "codemirror_mode": {
    "name": "ipython",
    "version": 3
   },
   "file_extension": ".py",
   "mimetype": "text/x-python",
   "name": "python",
   "nbconvert_exporter": "python",
   "pygments_lexer": "ipython3",
   "version": "3.10.4"
  },
  "orig_nbformat": 4
 },
 "nbformat": 4,
 "nbformat_minor": 2
}
