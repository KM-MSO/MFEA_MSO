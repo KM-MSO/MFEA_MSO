{
 "cells": [
  {
   "cell_type": "code",
   "execution_count": 1,
   "metadata": {},
   "outputs": [],
   "source": [
    "from MFEA_lib.tasks.Benchmark.IDPC_EDU import IDPC_EDU_benchmark\n",
    "from MFEA_lib.model import MFEA_base, MFEA_surrogate\n",
    "from MFEA_lib.model.utils import *\n",
    "from MFEA_lib.operators.Crossover import *\n",
    "from MFEA_lib.operators.Mutation import *\n",
    "from MFEA_lib.operators.Selection import *\n"
   ]
  },
  {
   "cell_type": "code",
   "execution_count": 2,
   "metadata": {},
   "outputs": [
    {
     "name": "stdout",
     "output_type": "stream",
     "text": [
      "Reading data...\n"
     ]
    },
    {
     "name": "stderr",
     "output_type": "stream",
     "text": [
      "100%|██████████| 1/1 [00:02<00:00,  2.52s/it]\n"
     ]
    },
    {
     "name": "stdout",
     "output_type": "stream",
     "text": [
      "Time: 00m 0.91s  100 % [====================>]  Cost: 1.30E+01  ,  \n",
      "END!\n"
     ]
    }
   ],
   "source": [
    "tasks, IndClass = IDPC_EDU_benchmark.get_tasks(1)\n",
    "\n",
    "\n",
    "baseModel = MFEA_surrogate.model()\n",
    "baseModel.compile(\n",
    "    IndClass= IndClass,\n",
    "    tasks= tasks,\n",
    "    # crossover= newSBX(nc = 2, gamma= 0.4, alpha= 6),\n",
    "    crossover= IDPCEDU_Crossover(),\n",
    "    mutation= IDPCEDU_Mutation(),\n",
    "    selection= ElitismSelection()\n",
    ")\n",
    "solve = baseModel.fit(\n",
    "    nb_generations = 1, rmp = 0.3, nb_inds_each_task= 1000, \n",
    "    bound_pop= [0, 1], evaluate_initial_skillFactor= True\n",
    ")"
   ]
  },
  {
   "cell_type": "markdown",
   "metadata": {},
   "source": [
    "# Create dataset"
   ]
  },
  {
   "cell_type": "code",
   "execution_count": 22,
   "metadata": {},
   "outputs": [],
   "source": [
    "ls_inds = baseModel.populations[0].ls_subPop[0].ls_inds"
   ]
  },
  {
   "cell_type": "code",
   "execution_count": 21,
   "metadata": {},
   "outputs": [
    {
     "data": {
      "text/plain": [
       "dict_keys(['file', 'datas', 'num_edges', 'dim', 'name', 'use_surrogate', 'num_nodes', 'num_domains', 'edges', 'source', 'target', 'count_paths'])"
      ]
     },
     "execution_count": 21,
     "metadata": {},
     "output_type": "execute_result"
    }
   ],
   "source": [
    "tasks[0].__dict__.keys()"
   ]
  },
  {
   "cell_type": "code",
   "execution_count": 29,
   "metadata": {},
   "outputs": [],
   "source": [
    "task = tasks[0]\n",
    "source = task.source\n",
    "target = task.target\n",
    "count_paths = task.count_paths\n",
    "edges = task.edges\n",
    "num_nodes = task.num_nodes\n",
    "num_edges = task.num_edges"
   ]
  },
  {
   "cell_type": "code",
   "execution_count": 30,
   "metadata": {},
   "outputs": [],
   "source": [
    "import torch\n",
    "import torch.nn as nn"
   ]
  },
  {
   "cell_type": "code",
   "execution_count": 33,
   "metadata": {},
   "outputs": [],
   "source": [
    "src_trg = [0 for i in range(num_nodes)]\n",
    "edge_index = []\n",
    "edge_attribute = []\n",
    "\n",
    "src_trg[source] = -1\n",
    "src_trg[target] = 1\n",
    "\n",
    "for i in range(count_paths.shape[0]):\n",
    "    for j in range(count_paths.shape[1]):\n",
    "        n = count_paths[i][j]\n",
    "\n",
    "        edge_index.extend( [[i , j] for _ in range(n)] )\n",
    "        edge_attribute.extend( [edges.get(f'{i}_{j}_{k}') for k in range(n)] )\n",
    "        \n",
    "src_trg = torch.tensor(src_trg, dtype = torch.float)\n",
    "edge_index = torch.tensor(edge_index, dtype= torch.long).reshape(2, -1)\n",
    "edge_attribute = torch.tensor(edge_attribute, dtype= torch.long)"
   ]
  },
  {
   "cell_type": "code",
   "execution_count": 110,
   "metadata": {},
   "outputs": [
    {
     "data": {
      "text/plain": [
       "9223372036854775807"
      ]
     },
     "execution_count": 110,
     "metadata": {},
     "output_type": "execute_result"
    }
   ],
   "source": [
    "sys.maxsize"
   ]
  },
  {
   "cell_type": "code",
   "execution_count": 39,
   "metadata": {},
   "outputs": [],
   "source": [
    "datasets = []\n",
    "labels = []\n",
    "for ind in ls_inds:\n",
    "    datasets.append(ind.genes)\n",
    "    labels.append(ind.fcost)"
   ]
  },
  {
   "cell_type": "markdown",
   "metadata": {},
   "source": [
    "# Model - GCNConv"
   ]
  },
  {
   "cell_type": "code",
   "execution_count": 163,
   "metadata": {},
   "outputs": [
    {
     "ename": "ImportError",
     "evalue": "cannot import name 'Datasets' from 'torch.utils.data' (c:\\Users\\Admin\\AppData\\Local\\Programs\\Python\\Python39\\lib\\site-packages\\torch\\utils\\data\\__init__.py)",
     "output_type": "error",
     "traceback": [
      "\u001b[1;31m---------------------------------------------------------------------------\u001b[0m",
      "\u001b[1;31mImportError\u001b[0m                               Traceback (most recent call last)",
      "\u001b[1;32md:\\OneDrive - Hanoi University of Science and Technology\\Documents_from_PC\\MSOLab\\Surrogate\\MFEA_MSO\\main.ipynb Cell 12\u001b[0m in \u001b[0;36m<module>\u001b[1;34m\u001b[0m\n\u001b[0;32m      <a href='vscode-notebook-cell:/d%3A/OneDrive%20-%20Hanoi%20University%20of%20Science%20and%20Technology/Documents_from_PC/MSOLab/Surrogate/MFEA_MSO/main.ipynb#X32sZmlsZQ%3D%3D?line=2'>3</a>\u001b[0m \u001b[39mimport\u001b[39;00m \u001b[39mtorch\u001b[39;00m\u001b[39m.\u001b[39;00m\u001b[39mnn\u001b[39;00m\u001b[39m.\u001b[39;00m\u001b[39mfunctional\u001b[39;00m \u001b[39mas\u001b[39;00m \u001b[39mF\u001b[39;00m \n\u001b[0;32m      <a href='vscode-notebook-cell:/d%3A/OneDrive%20-%20Hanoi%20University%20of%20Science%20and%20Technology/Documents_from_PC/MSOLab/Surrogate/MFEA_MSO/main.ipynb#X32sZmlsZQ%3D%3D?line=3'>4</a>\u001b[0m \u001b[39mimport\u001b[39;00m \u001b[39mtorch_geometric\u001b[39;00m\u001b[39m.\u001b[39;00m\u001b[39mnn\u001b[39;00m \u001b[39mas\u001b[39;00m \u001b[39mgnn_nn\u001b[39;00m\n\u001b[1;32m----> <a href='vscode-notebook-cell:/d%3A/OneDrive%20-%20Hanoi%20University%20of%20Science%20and%20Technology/Documents_from_PC/MSOLab/Surrogate/MFEA_MSO/main.ipynb#X32sZmlsZQ%3D%3D?line=4'>5</a>\u001b[0m \u001b[39mfrom\u001b[39;00m \u001b[39mtorch\u001b[39;00m\u001b[39m.\u001b[39;00m\u001b[39mutils\u001b[39;00m\u001b[39m.\u001b[39;00m\u001b[39mdata\u001b[39;00m \u001b[39mimport\u001b[39;00m Datasets, DataLoaders\n",
      "\u001b[1;31mImportError\u001b[0m: cannot import name 'Datasets' from 'torch.utils.data' (c:\\Users\\Admin\\AppData\\Local\\Programs\\Python\\Python39\\lib\\site-packages\\torch\\utils\\data\\__init__.py)"
     ]
    }
   ],
   "source": [
    "import torch\n",
    "import torch.nn as nn\n",
    "import torch.nn.functional as F \n",
    "import torch_geometric.nn as gnn_nn\n",
    "from torch.utils.data import Datasets   , DataLoaders"
   ]
  },
  {
   "cell_type": "code",
   "execution_count": 64,
   "metadata": {},
   "outputs": [],
   "source": [
    "src_trg = [0 for i in range(num_nodes)]\n",
    "edge_index = []\n",
    "edge_weight = []\n",
    "edge_attribute = []\n",
    "\n",
    "src_trg[source] = -1\n",
    "src_trg[target] = 1\n",
    "\n",
    "for i in range(count_paths.shape[0]):\n",
    "    for j in range(count_paths.shape[1]):\n",
    "        n = count_paths[i][j]\n",
    "        if(n == 0):\n",
    "            continue\n",
    "        weight = [edges.get(f'{i}_{j}_{k}')[0] for k in range(n)]\n",
    "        edge_index.append([i , j])\n",
    "        edge_weight.append(sum(weight))\n",
    "        #edge_attribute.extend( [edges.get(f'{i}_{j}_{k}') for k in range(n)] )\n",
    "        \n",
    "src_trg = torch.tensor(src_trg, dtype = torch.float)\n",
    "edge_index = torch.tensor(edge_index, dtype= torch.long).t().contiguous()\n",
    "edge_weight = torch.tensor(edge_weight, dtype = torch.float)\n",
    "#edge_attribute = torch.tensor(edge_attribute, dtype= torch.long)"
   ]
  },
  {
   "cell_type": "code",
   "execution_count": 140,
   "metadata": {},
   "outputs": [],
   "source": [
    "datasets = []\n",
    "labels = []\n",
    "MAX_INT = sys.maxsize\n",
    "for i in range(len(ls_inds)):\n",
    "    x_genes = torch.Tensor(ls_inds[i].genes)\n",
    "    x_src_trg = src_trg.unsqueeze(0)\n",
    "    _x = torch.cat((x_genes, x_src_trg)).permute(1,0)\n",
    "    datasets.append(_x)\n",
    "    labels.append(ls_inds[i].fcost if ls_inds[i].fcost < MAX_INT else 100)\n",
    "    \n",
    "labels = torch.Tensor(labels).unsqueeze(1)\n",
    "#datasets"
   ]
  },
  {
   "cell_type": "code",
   "execution_count": 100,
   "metadata": {},
   "outputs": [],
   "source": [
    "class GNN_GCN(nn.Module):\n",
    "    def __init__(self, in_channels, hid_channels, num_nodes):\n",
    "        super(GNN_GCN, self).__init__()\n",
    "        self.gc1 = gnn_nn.GCNConv(in_channels, hid_channels)\n",
    "        self.gc2 = gnn_nn.GCNConv(hid_channels, 1)\n",
    "        self.fc = nn.Linear(num_nodes, 1)\n",
    "\n",
    "    def forward(self, x, edge_index, edge_weight):\n",
    "        x = F.relu(self.gc1(x, edge_index, edge_weight))\n",
    "        x = self.gc2(x, edge_index, edge_weight)\n",
    "        x = x.squeeze(1)\n",
    "        x = self.fc(x)\n",
    "        return x"
   ]
  },
  {
   "cell_type": "code",
   "execution_count": 148,
   "metadata": {},
   "outputs": [
    {
     "data": {
      "text/plain": [
       "tensor([13.])"
      ]
     },
     "execution_count": 148,
     "metadata": {},
     "output_type": "execute_result"
    }
   ],
   "source": [
    "labels[2]"
   ]
  },
  {
   "cell_type": "code",
   "execution_count": 192,
   "metadata": {},
   "outputs": [],
   "source": [
    "class SurrogatePipeline():\n",
    "    def __init__(self, input_dim, hidden_dim, num_nodes, learning_rate, device= None):\n",
    "        self.device = device if device else 'cpu'\n",
    "        self.model = GNN_GCN(input_dim, hidden_dim, num_nodes).to(self.device)\n",
    "        self.optimizer = torch.optim.Adam(self.model.parameters(), lr=learning_rate)\n",
    "        self.criteria = nn.RMSELoss()\n",
    "        self.learning_rate = learning_rate\n",
    "        \n",
    "    def train(self, datasets, outputs, edge_index, edge_weight, epochs = 5):\n",
    "        for epoch in range(epochs):\n",
    "            losses = []\n",
    "            for i in range(len(datasets)):\n",
    "                x = datasets[i].to(self.device)\n",
    "                edge_index = edge_index.to(self.device)\n",
    "                edge_weight = edge_weight.to(self.device)\n",
    "\n",
    "                output = outputs[i].to(self.device)\n",
    "                pred = self.model(x, edge_index, edge_weight)\n",
    "                loss = self.criteria(pred, output)\n",
    "                losses.append(loss.item())\n",
    "                # if i % 100 == 0:\n",
    "                #     print(f'Loss: {loss}')\n",
    "                \n",
    "                self.optimizer.zero_grad()\n",
    "                loss.backward()\n",
    "                self.optimizer.step()\n",
    "            print(f'Epoch {epoch} - Loss: {np.mean(losses)}')\n",
    "\n",
    "    def predict(self, input):\n",
    "        with torch.no_grad():\n",
    "            input = torch.Tensor(input.flatten()).to(self.device)\n",
    "            return self.model(input)\n",
    "\n",
    "    def save_pipeline(self, path):\n",
    "        pass"
   ]
  },
  {
   "cell_type": "code",
   "execution_count": 194,
   "metadata": {},
   "outputs": [
    {
     "name": "stdout",
     "output_type": "stream",
     "text": [
      "Epoch 0 - Loss: 107.2180230628816\n",
      "Epoch 1 - Loss: 303.03579158806434\n",
      "Epoch 2 - Loss: 311.2269177397946\n",
      "Epoch 3 - Loss: 312.65274710823735\n",
      "Epoch 4 - Loss: 312.4519780803384\n",
      "Epoch 5 - Loss: 311.8659458040227\n",
      "Epoch 6 - Loss: 311.4074625868327\n",
      "Epoch 7 - Loss: 311.4145655324133\n",
      "Epoch 8 - Loss: 312.0714562056883\n",
      "Epoch 9 - Loss: 313.87060741694324\n",
      "Epoch 10 - Loss: 317.957814127397\n",
      "Epoch 11 - Loss: 324.58463878014453\n",
      "Epoch 12 - Loss: 329.19024681980534\n",
      "Epoch 13 - Loss: 331.70607549006587\n",
      "Epoch 14 - Loss: 333.64689503167153\n"
     ]
    },
    {
     "ename": "KeyboardInterrupt",
     "evalue": "",
     "output_type": "error",
     "traceback": [
      "\u001b[1;31m---------------------------------------------------------------------------\u001b[0m",
      "\u001b[1;31mKeyboardInterrupt\u001b[0m                         Traceback (most recent call last)",
      "\u001b[1;32md:\\OneDrive - Hanoi University of Science and Technology\\Documents_from_PC\\MSOLab\\Surrogate\\MFEA_MSO\\main.ipynb Cell 19\u001b[0m in \u001b[0;36m<module>\u001b[1;34m\u001b[0m\n\u001b[0;32m      <a href='vscode-notebook-cell:/d%3A/OneDrive%20-%20Hanoi%20University%20of%20Science%20and%20Technology/Documents_from_PC/MSOLab/Surrogate/MFEA_MSO/main.ipynb#X64sZmlsZQ%3D%3D?line=0'>1</a>\u001b[0m sr_pp \u001b[39m=\u001b[39m SurrogatePipeline(\u001b[39m3\u001b[39m, \u001b[39m10\u001b[39m, num_nodes\u001b[39m=\u001b[39m\u001b[39m10\u001b[39m, learning_rate\u001b[39m=\u001b[39m\u001b[39m1e-3\u001b[39m, device\u001b[39m=\u001b[39m\u001b[39m'\u001b[39m\u001b[39mcuda\u001b[39m\u001b[39m'\u001b[39m)\n\u001b[1;32m----> <a href='vscode-notebook-cell:/d%3A/OneDrive%20-%20Hanoi%20University%20of%20Science%20and%20Technology/Documents_from_PC/MSOLab/Surrogate/MFEA_MSO/main.ipynb#X64sZmlsZQ%3D%3D?line=1'>2</a>\u001b[0m sr_pp\u001b[39m.\u001b[39;49mtrain(datasets, labels, edge_index, edge_weight, epochs\u001b[39m=\u001b[39;49m\u001b[39m100\u001b[39;49m)\n",
      "\u001b[1;32md:\\OneDrive - Hanoi University of Science and Technology\\Documents_from_PC\\MSOLab\\Surrogate\\MFEA_MSO\\main.ipynb Cell 19\u001b[0m in \u001b[0;36mSurrogatePipeline.train\u001b[1;34m(self, datasets, outputs, edge_index, edge_weight, epochs)\u001b[0m\n\u001b[0;32m     <a href='vscode-notebook-cell:/d%3A/OneDrive%20-%20Hanoi%20University%20of%20Science%20and%20Technology/Documents_from_PC/MSOLab/Surrogate/MFEA_MSO/main.ipynb#X64sZmlsZQ%3D%3D?line=14'>15</a>\u001b[0m edge_weight \u001b[39m=\u001b[39m edge_weight\u001b[39m.\u001b[39mto(\u001b[39mself\u001b[39m\u001b[39m.\u001b[39mdevice)\n\u001b[0;32m     <a href='vscode-notebook-cell:/d%3A/OneDrive%20-%20Hanoi%20University%20of%20Science%20and%20Technology/Documents_from_PC/MSOLab/Surrogate/MFEA_MSO/main.ipynb#X64sZmlsZQ%3D%3D?line=16'>17</a>\u001b[0m output \u001b[39m=\u001b[39m outputs[i]\u001b[39m.\u001b[39mto(\u001b[39mself\u001b[39m\u001b[39m.\u001b[39mdevice)\n\u001b[1;32m---> <a href='vscode-notebook-cell:/d%3A/OneDrive%20-%20Hanoi%20University%20of%20Science%20and%20Technology/Documents_from_PC/MSOLab/Surrogate/MFEA_MSO/main.ipynb#X64sZmlsZQ%3D%3D?line=17'>18</a>\u001b[0m pred \u001b[39m=\u001b[39m \u001b[39mself\u001b[39;49m\u001b[39m.\u001b[39;49mmodel(x, edge_index, edge_weight)\n\u001b[0;32m     <a href='vscode-notebook-cell:/d%3A/OneDrive%20-%20Hanoi%20University%20of%20Science%20and%20Technology/Documents_from_PC/MSOLab/Surrogate/MFEA_MSO/main.ipynb#X64sZmlsZQ%3D%3D?line=18'>19</a>\u001b[0m loss \u001b[39m=\u001b[39m \u001b[39mself\u001b[39m\u001b[39m.\u001b[39mcriteria(pred, output)\n\u001b[0;32m     <a href='vscode-notebook-cell:/d%3A/OneDrive%20-%20Hanoi%20University%20of%20Science%20and%20Technology/Documents_from_PC/MSOLab/Surrogate/MFEA_MSO/main.ipynb#X64sZmlsZQ%3D%3D?line=19'>20</a>\u001b[0m losses\u001b[39m.\u001b[39mappend(loss\u001b[39m.\u001b[39mitem())\n",
      "File \u001b[1;32mc:\\Users\\Admin\\AppData\\Local\\Programs\\Python\\Python39\\lib\\site-packages\\torch\\nn\\modules\\module.py:1110\u001b[0m, in \u001b[0;36mModule._call_impl\u001b[1;34m(self, *input, **kwargs)\u001b[0m\n\u001b[0;32m   1106\u001b[0m \u001b[39m# If we don't have any hooks, we want to skip the rest of the logic in\u001b[39;00m\n\u001b[0;32m   1107\u001b[0m \u001b[39m# this function, and just call forward.\u001b[39;00m\n\u001b[0;32m   1108\u001b[0m \u001b[39mif\u001b[39;00m \u001b[39mnot\u001b[39;00m (\u001b[39mself\u001b[39m\u001b[39m.\u001b[39m_backward_hooks \u001b[39mor\u001b[39;00m \u001b[39mself\u001b[39m\u001b[39m.\u001b[39m_forward_hooks \u001b[39mor\u001b[39;00m \u001b[39mself\u001b[39m\u001b[39m.\u001b[39m_forward_pre_hooks \u001b[39mor\u001b[39;00m _global_backward_hooks\n\u001b[0;32m   1109\u001b[0m         \u001b[39mor\u001b[39;00m _global_forward_hooks \u001b[39mor\u001b[39;00m _global_forward_pre_hooks):\n\u001b[1;32m-> 1110\u001b[0m     \u001b[39mreturn\u001b[39;00m forward_call(\u001b[39m*\u001b[39m\u001b[39minput\u001b[39m, \u001b[39m*\u001b[39m\u001b[39m*\u001b[39mkwargs)\n\u001b[0;32m   1111\u001b[0m \u001b[39m# Do not call functions when jit is used\u001b[39;00m\n\u001b[0;32m   1112\u001b[0m full_backward_hooks, non_full_backward_hooks \u001b[39m=\u001b[39m [], []\n",
      "\u001b[1;32md:\\OneDrive - Hanoi University of Science and Technology\\Documents_from_PC\\MSOLab\\Surrogate\\MFEA_MSO\\main.ipynb Cell 19\u001b[0m in \u001b[0;36mGNN_GCN.forward\u001b[1;34m(self, x, edge_index, edge_weight)\u001b[0m\n\u001b[0;32m      <a href='vscode-notebook-cell:/d%3A/OneDrive%20-%20Hanoi%20University%20of%20Science%20and%20Technology/Documents_from_PC/MSOLab/Surrogate/MFEA_MSO/main.ipynb#X64sZmlsZQ%3D%3D?line=7'>8</a>\u001b[0m \u001b[39mdef\u001b[39;00m \u001b[39mforward\u001b[39m(\u001b[39mself\u001b[39m, x, edge_index, edge_weight):\n\u001b[0;32m      <a href='vscode-notebook-cell:/d%3A/OneDrive%20-%20Hanoi%20University%20of%20Science%20and%20Technology/Documents_from_PC/MSOLab/Surrogate/MFEA_MSO/main.ipynb#X64sZmlsZQ%3D%3D?line=8'>9</a>\u001b[0m     x \u001b[39m=\u001b[39m F\u001b[39m.\u001b[39mrelu(\u001b[39mself\u001b[39m\u001b[39m.\u001b[39mgc1(x, edge_index, edge_weight))\n\u001b[1;32m---> <a href='vscode-notebook-cell:/d%3A/OneDrive%20-%20Hanoi%20University%20of%20Science%20and%20Technology/Documents_from_PC/MSOLab/Surrogate/MFEA_MSO/main.ipynb#X64sZmlsZQ%3D%3D?line=9'>10</a>\u001b[0m     x \u001b[39m=\u001b[39m \u001b[39mself\u001b[39;49m\u001b[39m.\u001b[39;49mgc2(x, edge_index, edge_weight)\n\u001b[0;32m     <a href='vscode-notebook-cell:/d%3A/OneDrive%20-%20Hanoi%20University%20of%20Science%20and%20Technology/Documents_from_PC/MSOLab/Surrogate/MFEA_MSO/main.ipynb#X64sZmlsZQ%3D%3D?line=10'>11</a>\u001b[0m     x \u001b[39m=\u001b[39m x\u001b[39m.\u001b[39msqueeze(\u001b[39m1\u001b[39m)\n\u001b[0;32m     <a href='vscode-notebook-cell:/d%3A/OneDrive%20-%20Hanoi%20University%20of%20Science%20and%20Technology/Documents_from_PC/MSOLab/Surrogate/MFEA_MSO/main.ipynb#X64sZmlsZQ%3D%3D?line=11'>12</a>\u001b[0m     x \u001b[39m=\u001b[39m \u001b[39mself\u001b[39m\u001b[39m.\u001b[39mfc(x)\n",
      "File \u001b[1;32mc:\\Users\\Admin\\AppData\\Local\\Programs\\Python\\Python39\\lib\\site-packages\\torch\\nn\\modules\\module.py:1110\u001b[0m, in \u001b[0;36mModule._call_impl\u001b[1;34m(self, *input, **kwargs)\u001b[0m\n\u001b[0;32m   1106\u001b[0m \u001b[39m# If we don't have any hooks, we want to skip the rest of the logic in\u001b[39;00m\n\u001b[0;32m   1107\u001b[0m \u001b[39m# this function, and just call forward.\u001b[39;00m\n\u001b[0;32m   1108\u001b[0m \u001b[39mif\u001b[39;00m \u001b[39mnot\u001b[39;00m (\u001b[39mself\u001b[39m\u001b[39m.\u001b[39m_backward_hooks \u001b[39mor\u001b[39;00m \u001b[39mself\u001b[39m\u001b[39m.\u001b[39m_forward_hooks \u001b[39mor\u001b[39;00m \u001b[39mself\u001b[39m\u001b[39m.\u001b[39m_forward_pre_hooks \u001b[39mor\u001b[39;00m _global_backward_hooks\n\u001b[0;32m   1109\u001b[0m         \u001b[39mor\u001b[39;00m _global_forward_hooks \u001b[39mor\u001b[39;00m _global_forward_pre_hooks):\n\u001b[1;32m-> 1110\u001b[0m     \u001b[39mreturn\u001b[39;00m forward_call(\u001b[39m*\u001b[39m\u001b[39minput\u001b[39m, \u001b[39m*\u001b[39m\u001b[39m*\u001b[39mkwargs)\n\u001b[0;32m   1111\u001b[0m \u001b[39m# Do not call functions when jit is used\u001b[39;00m\n\u001b[0;32m   1112\u001b[0m full_backward_hooks, non_full_backward_hooks \u001b[39m=\u001b[39m [], []\n",
      "File \u001b[1;32mc:\\Users\\Admin\\AppData\\Local\\Programs\\Python\\Python39\\lib\\site-packages\\torch_geometric\\nn\\conv\\gcn_conv.py:175\u001b[0m, in \u001b[0;36mGCNConv.forward\u001b[1;34m(self, x, edge_index, edge_weight)\u001b[0m\n\u001b[0;32m    173\u001b[0m cache \u001b[39m=\u001b[39m \u001b[39mself\u001b[39m\u001b[39m.\u001b[39m_cached_edge_index\n\u001b[0;32m    174\u001b[0m \u001b[39mif\u001b[39;00m cache \u001b[39mis\u001b[39;00m \u001b[39mNone\u001b[39;00m:\n\u001b[1;32m--> 175\u001b[0m     edge_index, edge_weight \u001b[39m=\u001b[39m gcn_norm(  \u001b[39m# yapf: disable\u001b[39;49;00m\n\u001b[0;32m    176\u001b[0m         edge_index, edge_weight, x\u001b[39m.\u001b[39;49msize(\u001b[39mself\u001b[39;49m\u001b[39m.\u001b[39;49mnode_dim),\n\u001b[0;32m    177\u001b[0m         \u001b[39mself\u001b[39;49m\u001b[39m.\u001b[39;49mimproved, \u001b[39mself\u001b[39;49m\u001b[39m.\u001b[39;49madd_self_loops, \u001b[39mself\u001b[39;49m\u001b[39m.\u001b[39;49mflow)\n\u001b[0;32m    178\u001b[0m     \u001b[39mif\u001b[39;00m \u001b[39mself\u001b[39m\u001b[39m.\u001b[39mcached:\n\u001b[0;32m    179\u001b[0m         \u001b[39mself\u001b[39m\u001b[39m.\u001b[39m_cached_edge_index \u001b[39m=\u001b[39m (edge_index, edge_weight)\n",
      "File \u001b[1;32mc:\\Users\\Admin\\AppData\\Local\\Programs\\Python\\Python39\\lib\\site-packages\\torch_geometric\\nn\\conv\\gcn_conv.py:60\u001b[0m, in \u001b[0;36mgcn_norm\u001b[1;34m(edge_index, edge_weight, num_nodes, improved, add_self_loops, flow, dtype)\u001b[0m\n\u001b[0;32m     56\u001b[0m     edge_weight \u001b[39m=\u001b[39m torch\u001b[39m.\u001b[39mones((edge_index\u001b[39m.\u001b[39msize(\u001b[39m1\u001b[39m), ), dtype\u001b[39m=\u001b[39mdtype,\n\u001b[0;32m     57\u001b[0m                              device\u001b[39m=\u001b[39medge_index\u001b[39m.\u001b[39mdevice)\n\u001b[0;32m     59\u001b[0m \u001b[39mif\u001b[39;00m add_self_loops:\n\u001b[1;32m---> 60\u001b[0m     edge_index, tmp_edge_weight \u001b[39m=\u001b[39m add_remaining_self_loops(\n\u001b[0;32m     61\u001b[0m         edge_index, edge_weight, fill_value, num_nodes)\n\u001b[0;32m     62\u001b[0m     \u001b[39massert\u001b[39;00m tmp_edge_weight \u001b[39mis\u001b[39;00m \u001b[39mnot\u001b[39;00m \u001b[39mNone\u001b[39;00m\n\u001b[0;32m     63\u001b[0m     edge_weight \u001b[39m=\u001b[39m tmp_edge_weight\n",
      "File \u001b[1;32mc:\\Users\\Admin\\AppData\\Local\\Programs\\Python\\Python39\\lib\\site-packages\\torch_geometric\\utils\\loop.py:224\u001b[0m, in \u001b[0;36madd_remaining_self_loops\u001b[1;34m(edge_index, edge_attr, fill_value, num_nodes)\u001b[0m\n\u001b[0;32m    221\u001b[0m         \u001b[39mraise\u001b[39;00m \u001b[39mAttributeError\u001b[39;00m(\u001b[39m\"\u001b[39m\u001b[39mNo valid \u001b[39m\u001b[39m'\u001b[39m\u001b[39mfill_value\u001b[39m\u001b[39m'\u001b[39m\u001b[39m provided\u001b[39m\u001b[39m\"\u001b[39m)\n\u001b[0;32m    223\u001b[0m     inv_mask \u001b[39m=\u001b[39m \u001b[39m~\u001b[39mmask\n\u001b[1;32m--> 224\u001b[0m     loop_attr[edge_index[\u001b[39m0\u001b[39;49m][inv_mask]] \u001b[39m=\u001b[39m edge_attr[inv_mask]\n\u001b[0;32m    226\u001b[0m     edge_attr \u001b[39m=\u001b[39m torch\u001b[39m.\u001b[39mcat([edge_attr[mask], loop_attr], dim\u001b[39m=\u001b[39m\u001b[39m0\u001b[39m)\n\u001b[0;32m    228\u001b[0m edge_index \u001b[39m=\u001b[39m torch\u001b[39m.\u001b[39mcat([edge_index[:, mask], loop_index], dim\u001b[39m=\u001b[39m\u001b[39m1\u001b[39m)\n",
      "\u001b[1;31mKeyboardInterrupt\u001b[0m: "
     ]
    }
   ],
   "source": [
    "sr_pp = SurrogatePipeline(3, 10, num_nodes=10, learning_rate=4e-4, device='cuda')\n",
    "sr_pp.train(datasets, labels, edge_index, edge_weight, epochs=100)"
   ]
  },
  {
   "cell_type": "code",
   "execution_count": 181,
   "metadata": {},
   "outputs": [],
   "source": [
    "gnn_gcn = GNN_GCN(3,10,10)\n",
    "x123 = gnn_gcn(_x, edge_index, edge_weight)"
   ]
  },
  {
   "cell_type": "code",
   "execution_count": 183,
   "metadata": {},
   "outputs": [
    {
     "data": {
      "text/plain": [
       "16.0"
      ]
     },
     "execution_count": 183,
     "metadata": {},
     "output_type": "execute_result"
    }
   ],
   "source": [
    "criteria = nn.MSELoss()\n",
    "criteria(labels[0], labels[44]).item()"
   ]
  },
  {
   "cell_type": "code",
   "execution_count": null,
   "metadata": {},
   "outputs": [],
   "source": []
  }
 ],
 "metadata": {
  "kernelspec": {
   "display_name": "Python 3.9.10 64-bit",
   "language": "python",
   "name": "python3"
  },
  "language_info": {
   "codemirror_mode": {
    "name": "ipython",
    "version": 3
   },
   "file_extension": ".py",
   "mimetype": "text/x-python",
   "name": "python",
   "nbconvert_exporter": "python",
   "pygments_lexer": "ipython3",
   "version": "3.9.10"
  },
  "orig_nbformat": 4,
  "vscode": {
   "interpreter": {
    "hash": "0d591c6e422414675974e227c13f5382000c440fedd3c5006ef2be5d887f0ba7"
   }
  }
 },
 "nbformat": 4,
 "nbformat_minor": 2
}
