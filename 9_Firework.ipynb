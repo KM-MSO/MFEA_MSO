{
 "cells": [
  {
   "cell_type": "code",
   "execution_count": 1,
   "metadata": {},
   "outputs": [],
   "source": [
    "from MFEA_lib.model import Firework\n",
    "from MFEA_lib.model.utils import *\n",
    "from MFEA_lib.operators.Crossover import SBX_Crossover\n",
    "from MFEA_lib.operators.Mutation import Polynomial_Mutation\n",
    "from MFEA_lib.operators.Selection import ElitismSelection\n",
    "from MFEA_lib.tasks.Benchmark.Funcs import CEC17_benchmark, GECCO20_benchmark_50tasks,WCCI22_benchmark\n",
    "from MFEA_lib.EA import *"
   ]
  },
  {
   "cell_type": "code",
   "execution_count": 2,
   "metadata": {},
   "outputs": [
    {
     "data": {
      "text/plain": [
       "False"
      ]
     },
     "execution_count": 2,
     "metadata": {},
     "output_type": "execute_result"
    }
   ],
   "source": [
    "import numpy as np \n",
    "x = np.arange(5) \n",
    "x= x/np.sum(x)\n",
    "2 in np.random.choice(5,(2),p =x,replace=False)"
   ]
  },
  {
   "cell_type": "code",
   "execution_count": 3,
   "metadata": {},
   "outputs": [],
   "source": [
    "cec17_10tasks, _ = CEC17_benchmark.get_10tasks_benchmark()"
   ]
  },
  {
   "cell_type": "code",
   "execution_count": 4,
   "metadata": {},
   "outputs": [],
   "source": [
    "class IndClass(Individual):\n",
    "    def __init__(self, genes, parent= None, dim= None, *args, **kwargs) -> None:\n",
    "        super().__init__(genes, parent, dim)\n",
    "        if genes is None:\n",
    "            self.genes: np.ndarray = np.random.rand(dim)\n",
    "        self.A = np.ones(len(self.genes))"
   ]
  },
  {
   "cell_type": "code",
   "execution_count": 5,
   "metadata": {},
   "outputs": [
    {
     "name": "stdout",
     "output_type": "stream",
     "text": [
      "Time: 10m 22.18s  100 % [====================>]  Cost: 3.66E-01  3.04E-10  6.05E-10  0.00E+00  9.54E-01  4.44E-16  0.00E+00  3.72E-02  6.55E+01  6.26E+04  ,  \n",
      "END!\n"
     ]
    }
   ],
   "source": [
    "baseModel = Firework.model()\n",
    "baseModel.compile(\n",
    "    IndClass= IndClass,\n",
    "    tasks= cec17_10tasks,\n",
    "    crossover= SBX_Crossover(nc = 2),\n",
    "    mutation= Polynomial_Mutation(nm = 5),\n",
    "    selection= ElitismSelection()\n",
    ")\n",
    "solve = baseModel.fit(\n",
    "    nb_generations= 1000, nb_inds_each_task= 100, rmp = 0.3,\n",
    "    bound= [0, 1], evaluate_initial_skillFactor= True\n",
    ")"
   ]
  },
  {
   "cell_type": "code",
   "execution_count": 6,
   "metadata": {},
   "outputs": [],
   "source": [
    "ls_benchmark = []\n",
    "ls_IndClass = []\n",
    "\n",
    "for i in range(1, 10, 1):\n",
    "    t, ic = CEC17_benchmark.get_2tasks_benchmark(i)\n",
    "    ls_benchmark.append(t)\n",
    "    ls_IndClass.append(IndClass)\n",
    "\n",
    "name_benchmark = np.arange(len(ls_benchmark)) + 1"
   ]
  },
  {
   "cell_type": "code",
   "execution_count": 7,
   "metadata": {},
   "outputs": [
    {
     "name": "stdout",
     "output_type": "stream",
     "text": [
      "Time: 00m 35.26s  100 % [====================>]  Cost: 8.22E-06  5.56E-06  ,  \n",
      "END!\n",
      "DONE!\n",
      "Saved\n",
      "Time: 00m 36.44s  100 % [====================>]  Cost: 1.87E-04  4.37E-06  ,  \n",
      "END!\n",
      "DONE!\n",
      "Saved\n",
      "Time: 00m 35.63s  100 % [====================>]  Cost: 3.57E-03  7.28E-04  ,  \n",
      "END!\n",
      "DONE!\n",
      "Saved\n",
      "Time: 00m 35.22s  100 % [====================>]  Cost: 1.05E-03  4.81E+03  ,  \n",
      "END!\n",
      "DONE!\n",
      "Saved\n",
      "Time: 00m 37.06s  100 % [====================>]  Cost: 3.62E+00  6.38E-05  ,  \n",
      "END!\n",
      "DONE!\n",
      "Saved\n",
      "Time: 00m 46.68s  100 % [====================>]  Cost: 4.62E-03  4.85E-01  ,  \n",
      "END!\n",
      "DONE!\n",
      "Saved\n",
      "Time: 00m 35.42s  100 % [====================>]  Cost: 3.66E+00  6.20E+00  ,  \n",
      "END!\n",
      "DONE!\n",
      "Saved\n",
      "Time: 01m 0.25s  100 % [====================>]  Cost: 8.99E-05  5.99E-01  ,  \n",
      "END!\n",
      "DONE!\n",
      "Saved\n",
      "Time: 00m 36.27s  100 % [====================>]  Cost: 2.04E+01  6.25E-01  ,  \n",
      "END!\n",
      "DONE!\n",
      "Saved\n"
     ]
    }
   ],
   "source": [
    "model = MultiBenchmark(\n",
    "    ls_benchmark= ls_benchmark,\n",
    "    name_benchmark= name_benchmark,\n",
    "    ls_IndClass= ls_IndClass,\n",
    "    # model= MFEA_HKT_v1\n",
    "    model = Firework\n",
    ")\n",
    "model.compile(\n",
    "    crossover= SBX_Crossover(nc = 2),\n",
    "    mutation = Polynomial_Mutation(nm = 5),\n",
    "    selection= ElitismSelection(random_percent= 0.),\n",
    ")\n",
    "model.fit(\n",
    "    nb_inds_each_task=100,\n",
    "    nb_inds_min=30,\n",
    "    nb_generations=1000,\n",
    "    LSA = True,\n",
    "    evaluate_initial_skillFactor= True\n",
    ")\n",
    "a = model.run(\n",
    "    nb_run= 1,\n",
    "    save_path= \"./save\"\n",
    ")"
   ]
  }
 ],
 "metadata": {
  "kernelspec": {
   "display_name": "Python 3.7.13 ('mfea')",
   "language": "python",
   "name": "python3"
  },
  "language_info": {
   "codemirror_mode": {
    "name": "ipython",
    "version": 3
   },
   "file_extension": ".py",
   "mimetype": "text/x-python",
   "name": "python",
   "nbconvert_exporter": "python",
   "pygments_lexer": "ipython3",
   "version": "3.7.13"
  },
  "orig_nbformat": 4,
  "vscode": {
   "interpreter": {
    "hash": "4edada56b92248170e10c115f7655f4c6f5b3f79a5836db2c7b2e80efd30f032"
   }
  }
 },
 "nbformat": 4,
 "nbformat_minor": 2
}
