{
 "cells": [
  {
   "cell_type": "code",
   "execution_count": 9,
   "metadata": {},
   "outputs": [],
   "source": [
    "from MFEA_lib.model import mlshade\n",
    "from MFEA_lib.model.mlshade import *\n",
    "from MFEA_lib.model.utils import *\n",
    "from MFEA_lib.operators.Crossover import *\n",
    "from MFEA_lib.operators.Mutation import *\n",
    "from MFEA_lib.operators.Selection import *\n",
    "from MFEA_lib.operators.Search import *\n",
    "from MFEA_lib.tasks.Benchmark.Funcs import CEC17_benchmark, GECCO20_benchmark_50tasks, WCCI22_benchmark"
   ]
  },
  {
   "cell_type": "code",
   "execution_count": 10,
   "metadata": {},
   "outputs": [],
   "source": [
    "# ls_benchmark = []\n",
    "# ls_IndClass = []\n",
    "# for i in range(1, 10, 1):\n",
    "#     t, ic = WCCI22_benchmark.get_complex_benchmark(i)\n",
    "#     ls_benchmark.append(t)\n",
    "#     ls_IndClass.append(IndividualDE)\n",
    "\n",
    "# name_benchmark = np.arange(len(ls_benchmark)) + 1"
   ]
  },
  {
   "cell_type": "code",
   "execution_count": 11,
   "metadata": {},
   "outputs": [],
   "source": [
    "t, ic = WCCI22_benchmark.get_complex_benchmark(10)\n",
    "ls_benchmark = [t]\n",
    "ls_IndClass = [ic]\n",
    "name_benchmark = np.arange(len(ls_benchmark)) + 1\n"
   ]
  },
  {
   "cell_type": "code",
   "execution_count": 12,
   "metadata": {},
   "outputs": [
    {
     "name": "stdout",
     "output_type": "stream",
     "text": [
      "200cking....\n",
      "Time: 01m 28.24s   99 % [===================>]  Pop_size: 2.00E+02  ,  Cost: 2.26E+03  6.83E+03  ,  "
     ]
    },
    {
     "ename": "AttributeError",
     "evalue": "'model' object has no attribute 'time_end'",
     "output_type": "error",
     "traceback": [
      "\u001b[1;31m---------------------------------------------------------------------------\u001b[0m",
      "\u001b[1;31mAttributeError\u001b[0m                            Traceback (most recent call last)",
      "\u001b[1;32md:\\Vincent\\Documents\\Lab\\Competition\\MFEA_MSO\\mlshade.ipynb Cell 4'\u001b[0m in \u001b[0;36m<cell line: 24>\u001b[1;34m()\u001b[0m\n\u001b[0;32m      <a href='vscode-notebook-cell:/d%3A/Vincent/Documents/Lab/Competition/MFEA_MSO/mlshade.ipynb#ch0000003?line=6'>7</a>\u001b[0m model\u001b[39m.\u001b[39mcompile(\n\u001b[0;32m      <a href='vscode-notebook-cell:/d%3A/Vincent/Documents/Lab/Competition/MFEA_MSO/mlshade.ipynb#ch0000003?line=7'>8</a>\u001b[0m     crossover\u001b[39m=\u001b[39m SBX_Crossover(nc \u001b[39m=\u001b[39m \u001b[39m2\u001b[39m),\n\u001b[0;32m      <a href='vscode-notebook-cell:/d%3A/Vincent/Documents/Lab/Competition/MFEA_MSO/mlshade.ipynb#ch0000003?line=8'>9</a>\u001b[0m     \u001b[39m# mutation = GaussMutation(scale= 0.1),\u001b[39;00m\n\u001b[1;32m   (...)\u001b[0m\n\u001b[0;32m     <a href='vscode-notebook-cell:/d%3A/Vincent/Documents/Lab/Competition/MFEA_MSO/mlshade.ipynb#ch0000003?line=14'>15</a>\u001b[0m \n\u001b[0;32m     <a href='vscode-notebook-cell:/d%3A/Vincent/Documents/Lab/Competition/MFEA_MSO/mlshade.ipynb#ch0000003?line=15'>16</a>\u001b[0m )\n\u001b[0;32m     <a href='vscode-notebook-cell:/d%3A/Vincent/Documents/Lab/Competition/MFEA_MSO/mlshade.ipynb#ch0000003?line=16'>17</a>\u001b[0m model\u001b[39m.\u001b[39mfit(\n\u001b[0;32m     <a href='vscode-notebook-cell:/d%3A/Vincent/Documents/Lab/Competition/MFEA_MSO/mlshade.ipynb#ch0000003?line=17'>18</a>\u001b[0m     nb_inds_each_task\u001b[39m=\u001b[39m\u001b[39m100\u001b[39m,\n\u001b[0;32m     <a href='vscode-notebook-cell:/d%3A/Vincent/Documents/Lab/Competition/MFEA_MSO/mlshade.ipynb#ch0000003?line=18'>19</a>\u001b[0m     nb_inds_min\u001b[39m=\u001b[39m\u001b[39m30\u001b[39m,\n\u001b[1;32m   (...)\u001b[0m\n\u001b[0;32m     <a href='vscode-notebook-cell:/d%3A/Vincent/Documents/Lab/Competition/MFEA_MSO/mlshade.ipynb#ch0000003?line=21'>22</a>\u001b[0m     evaluate_initial_skillFactor\u001b[39m=\u001b[39m \u001b[39mTrue\u001b[39;00m\n\u001b[0;32m     <a href='vscode-notebook-cell:/d%3A/Vincent/Documents/Lab/Competition/MFEA_MSO/mlshade.ipynb#ch0000003?line=22'>23</a>\u001b[0m )\n\u001b[1;32m---> <a href='vscode-notebook-cell:/d%3A/Vincent/Documents/Lab/Competition/MFEA_MSO/mlshade.ipynb#ch0000003?line=23'>24</a>\u001b[0m a \u001b[39m=\u001b[39m model\u001b[39m.\u001b[39;49mrun(\n\u001b[0;32m     <a href='vscode-notebook-cell:/d%3A/Vincent/Documents/Lab/Competition/MFEA_MSO/mlshade.ipynb#ch0000003?line=24'>25</a>\u001b[0m     nb_run\u001b[39m=\u001b[39;49m \u001b[39m1\u001b[39;49m,\n\u001b[0;32m     <a href='vscode-notebook-cell:/d%3A/Vincent/Documents/Lab/Competition/MFEA_MSO/mlshade.ipynb#ch0000003?line=25'>26</a>\u001b[0m     save_path\u001b[39m=\u001b[39;49m \u001b[39m\"\u001b[39;49m\u001b[39m./RESULTS/__static__/WCCI22_complex/MFEA_anhHa_COMPLEX/mlshade_complex\u001b[39;49m\u001b[39m\"\u001b[39;49m\n\u001b[0;32m     <a href='vscode-notebook-cell:/d%3A/Vincent/Documents/Lab/Competition/MFEA_MSO/mlshade.ipynb#ch0000003?line=26'>27</a>\u001b[0m )\n",
      "File \u001b[1;32md:\\Vincent\\Documents\\Lab\\Competition\\MFEA_MSO\\MFEA_lib\\model\\utils.py:937\u001b[0m, in \u001b[0;36mMultiBenchmark.run\u001b[1;34m(self, nb_run, save_path)\u001b[0m\n\u001b[0;32m    <a href='file:///d%3A/Vincent/Documents/Lab/Competition/MFEA_MSO/MFEA_lib/model/utils.py?line=934'>935</a>\u001b[0m model\u001b[39m.\u001b[39mcompile(\u001b[39m*\u001b[39m\u001b[39m*\u001b[39m\u001b[39mself\u001b[39m\u001b[39m.\u001b[39mcompile_kwargs) \n\u001b[0;32m    <a href='file:///d%3A/Vincent/Documents/Lab/Competition/MFEA_MSO/MFEA_lib/model/utils.py?line=935'>936</a>\u001b[0m model\u001b[39m.\u001b[39mfit(\u001b[39m*\u001b[39m\u001b[39m*\u001b[39m\u001b[39mself\u001b[39m\u001b[39m.\u001b[39mfit_kwargs) \n\u001b[1;32m--> <a href='file:///d%3A/Vincent/Documents/Lab/Competition/MFEA_MSO/MFEA_lib/model/utils.py?line=936'>937</a>\u001b[0m model\u001b[39m.\u001b[39;49mrun(nb_run \u001b[39m=\u001b[39;49m nb_run, save_path\u001b[39m=\u001b[39;49m save_path \u001b[39m+\u001b[39;49m \u001b[39mstr\u001b[39;49m(\u001b[39mself\u001b[39;49m\u001b[39m.\u001b[39;49mls_name_benchmark[idx]) \u001b[39m+\u001b[39;49m \u001b[39m\"\u001b[39;49m\u001b[39m.mso\u001b[39;49m\u001b[39m\"\u001b[39;49m) \n\u001b[0;32m    <a href='file:///d%3A/Vincent/Documents/Lab/Competition/MFEA_MSO/MFEA_lib/model/utils.py?line=937'>938</a>\u001b[0m \u001b[39mself\u001b[39m\u001b[39m.\u001b[39mls_model\u001b[39m.\u001b[39mappend(model)\n",
      "File \u001b[1;32md:\\Vincent\\Documents\\Lab\\Competition\\MFEA_MSO\\MFEA_lib\\model\\utils.py:187\u001b[0m, in \u001b[0;36mMultiTimeModel.run\u001b[1;34m(self, nb_run, save_path, seed_arr, random_seed, replace_folder)\u001b[0m\n\u001b[0;32m    <a href='file:///d%3A/Vincent/Documents/Lab/Competition/MFEA_MSO/MFEA_lib/model/utils.py?line=183'>184</a>\u001b[0m     model\u001b[39m.\u001b[39mcompile(\u001b[39m*\u001b[39m\u001b[39m*\u001b[39m\u001b[39mself\u001b[39m\u001b[39m.\u001b[39mcompile_kwargs)\n\u001b[0;32m    <a href='file:///d%3A/Vincent/Documents/Lab/Competition/MFEA_MSO/MFEA_lib/model/utils.py?line=184'>185</a>\u001b[0m     model\u001b[39m.\u001b[39mfit(\u001b[39m*\u001b[39m\u001b[39mself\u001b[39m\u001b[39m.\u001b[39margs, \u001b[39m*\u001b[39m\u001b[39m*\u001b[39m\u001b[39mself\u001b[39m\u001b[39m.\u001b[39mkwargs)\n\u001b[1;32m--> <a href='file:///d%3A/Vincent/Documents/Lab/Competition/MFEA_MSO/MFEA_lib/model/utils.py?line=186'>187</a>\u001b[0m     \u001b[39mself\u001b[39m\u001b[39m.\u001b[39mtotal_time \u001b[39m+\u001b[39m\u001b[39m=\u001b[39m model\u001b[39m.\u001b[39;49mtime_end \u001b[39m-\u001b[39m model\u001b[39m.\u001b[39mtime_begin\n\u001b[0;32m    <a href='file:///d%3A/Vincent/Documents/Lab/Competition/MFEA_MSO/MFEA_lib/model/utils.py?line=188'>189</a>\u001b[0m \u001b[39mexcept\u001b[39;00m \u001b[39mKeyboardInterrupt\u001b[39;00m \u001b[39mas\u001b[39;00m e:\n\u001b[0;32m    <a href='file:///d%3A/Vincent/Documents/Lab/Competition/MFEA_MSO/MFEA_lib/model/utils.py?line=189'>190</a>\u001b[0m     \u001b[39mself\u001b[39m\u001b[39m.\u001b[39mstatus \u001b[39m=\u001b[39m \u001b[39m'\u001b[39m\u001b[39mRunning\u001b[39m\u001b[39m'\u001b[39m\n",
      "\u001b[1;31mAttributeError\u001b[0m: 'model' object has no attribute 'time_end'"
     ]
    }
   ],
   "source": [
    "model = MultiBenchmark(\n",
    "    ls_benchmark= ls_benchmark,\n",
    "    name_benchmark= name_benchmark,\n",
    "    ls_IndClass= ls_IndClass,\n",
    "    model= mlshade\n",
    ")\n",
    "model.compile(\n",
    "    crossover= SBX_Crossover(nc = 2),\n",
    "    # mutation = GaussMutation(scale= 0.1),\n",
    "    # mutation  =Directional_Mutation_v2(pm=1/50),\n",
    "    # mutation = Directional_Mutation(),\n",
    "    mutation = Polynomial_Mutation(nm = 5),\n",
    "    selection= ElitismSelection(random_percent= 0.),\n",
    "    search = L_SHADE(),\n",
    "\n",
    ")\n",
    "model.fit(\n",
    "    nb_inds_each_task=100,\n",
    "    nb_inds_min=30,\n",
    "    nb_generations=1000,\n",
    "    LSA = False,\n",
    "    evaluate_initial_skillFactor= True\n",
    ")\n",
    "a = model.run(\n",
    "    nb_run= 1,\n",
    "    save_path= \"./RESULTS/__static__/WCCI22_complex/MFEA_anhHa_COMPLEX/mlshade_complex\"\n",
    ")"
   ]
  }
 ],
 "metadata": {
  "interpreter": {
   "hash": "d2d74ce3e99bc2d991502eaa9ff6878b69f13ebfe616751bd67e96721470575f"
  },
  "kernelspec": {
   "display_name": "Python 3.10.4 ('learnCS')",
   "language": "python",
   "name": "python3"
  },
  "language_info": {
   "codemirror_mode": {
    "name": "ipython",
    "version": 3
   },
   "file_extension": ".py",
   "mimetype": "text/x-python",
   "name": "python",
   "nbconvert_exporter": "python",
   "pygments_lexer": "ipython3",
   "version": "3.10.4"
  },
  "orig_nbformat": 4
 },
 "nbformat": 4,
 "nbformat_minor": 2
}
