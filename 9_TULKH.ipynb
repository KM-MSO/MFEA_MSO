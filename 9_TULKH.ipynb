{
 "cells": [
  {
   "cell_type": "code",
   "execution_count": 1,
   "metadata": {},
   "outputs": [],
   "source": [
    "from MFEA_lib.model import MFEA_base, SA_MFEA, SMP_MFEA, MFEA1\n",
    "from MFEA_lib.model.utils import *\n",
    "from MFEA_lib.operators.Crossover import *\n",
    "from MFEA_lib.operators.Mutation import *\n",
    "from MFEA_lib.operators.Selection import *"
   ]
  },
  {
   "cell_type": "code",
   "execution_count": 2,
   "metadata": {},
   "outputs": [],
   "source": [
    "import sys\n",
    "MAX_INT = sys.maxsize\n",
    "class TULKH_FUNC(AbstractTask):    \n",
    "    def __init__(self, path_data):\n",
    "        self.datas = {}\n",
    "        self.N: int\n",
    "        self.e: np.ndarray\n",
    "        self.l: np.ndarray\n",
    "        self.d: np.ndarray\n",
    "        self.path_data = path_data\n",
    "        self.read_data()\n",
    "            \n",
    "    def read_data(self):\n",
    "        with open(self.path_data, 'r') as file: \n",
    "            n = int(file.readline())\n",
    "            early = []\n",
    "            late = []\n",
    "            delay = []\n",
    "            cost = []\n",
    "            time = []\n",
    "            for i in range(n+1):\n",
    "                e, l, d = file.readline().strip().split(' ')\n",
    "                early.append(int(e))\n",
    "                late.append(int(l))\n",
    "                delay.append(int(d))\n",
    "            for i in range(n+1):\n",
    "                costi = [int(a) for a in file.readline().strip().split(' ')]\n",
    "                cost.append(costi)\n",
    "            for i in range(n+1):\n",
    "                timei = [int(a) for a in file.readline().strip().split(' ')]\n",
    "                time.append(timei)\n",
    "        data = {}\n",
    "        data['n'] = n\n",
    "        data['early'] = np.array(early)\n",
    "        data['late'] = np.array(late)\n",
    "        data['delay'] = np.array(delay)\n",
    "        data['cost'] = np.array(cost)\n",
    "        data['time'] = np.array(time)\n",
    "        self.dim = n\n",
    "        self.data = data\n",
    "\n",
    "\n",
    "    @staticmethod\n",
    "    def func(gene,\n",
    "             data,\n",
    "             ):\n",
    "        cost = 0 \n",
    "        idx = np.argsort(-gene)\n",
    "        curr = 0\n",
    "        curr_time = 0\n",
    "        visited_vertex = [False for i in range(data['n'] + 1)]\n",
    "        num_visited = 0\n",
    "        while (num_visited != data['n']):\n",
    "            stop = True\n",
    "            for t in idx:\n",
    "                try:\n",
    "                    if visited_vertex[t]:\n",
    "                        continue\n",
    "                except:\n",
    "                    print(t, len(visited_vertex))\n",
    "                arrive_time = curr_time + data['time'][curr][t]\n",
    "                if arrive_time > data['late'][t]:\n",
    "                    continue\n",
    "                \n",
    "                cost += data['cost'][curr][t]\n",
    "                curr = t\n",
    "                cur_time = max(arrive_time, data['early'][t])\n",
    "                cur_time += data['delay'][t]\n",
    "                visited_vertex[t] = True\n",
    "                num_visited += 1\n",
    "                stop = False\n",
    "                \n",
    "            if stop:\n",
    "                return MAX_INT\n",
    "        \n",
    "        return cost\n",
    "        \n",
    "    def __call__(self, gene: np.ndarray):\n",
    "        # decode\n",
    "        gene = gene[ : self.dim]\n",
    "        # eval\n",
    "        return __class__.func(gene, self.data)"
   ]
  },
  {
   "cell_type": "code",
   "execution_count": 3,
   "metadata": {},
   "outputs": [],
   "source": [
    "from tqdm import tqdm\n",
    "class Ind_TULKH(Individual):\n",
    "    def __init__(self, genes, dim=None) -> None:\n",
    "        super().__init__(genes, dim)\n",
    "        if genes is None:\n",
    "            self.genes: np.ndarray = np.random.permutation(dim)  + 1\n",
    "            \n",
    "class TULKH_benchmark:\n",
    "    def get_tasks():\n",
    "        print('\\rReading data...')\n",
    "        tasks = []\n",
    "        file_list = ['DATA/' + file_name for file_name in ['50points_5days_DoubleDiscrepancy.txt', '10points_1day.txt', '25points_3days.txt']]\n",
    "        for file_name in tqdm(file_list):\n",
    "            tasks.append(TULKH_FUNC(file_name))\n",
    "                         \n",
    "        return tasks, Ind_TULKH"
   ]
  },
  {
   "cell_type": "code",
   "execution_count": 4,
   "metadata": {},
   "outputs": [
    {
     "name": "stdout",
     "output_type": "stream",
     "text": [
      "Reading data...\n"
     ]
    },
    {
     "name": "stderr",
     "output_type": "stream",
     "text": [
      "100%|██████████| 3/3 [00:00<00:00, 451.00it/s]\n"
     ]
    }
   ],
   "source": [
    "tasks, IndClass = TULKH_benchmark.get_tasks()\n"
   ]
  },
  {
   "cell_type": "code",
   "execution_count": 5,
   "metadata": {},
   "outputs": [],
   "source": [
    "class TULKH_Crossover(AbstractCrossover):\n",
    "    def __call__(self, pa: Individual, pb: Individual, skf_oa=None, skf_ob=None, *args, **kwargs) -> Tuple[Individual, Individual]:\n",
    "        genes_oa, genes_ob = np.empty_like(pa), np.empty_like(pb)\n",
    "\n",
    "        #PMX\n",
    "        t1, t2 = np.random.randint(0, self.dim_uss + 1, 2)\n",
    "        if t1 > t2:\n",
    "            t1, t2 = t2, t1\n",
    "        genes_oa, genes_ob = pmx_func(pa.genes, pb.genes, t1, t2, self.dim_uss)\n",
    "\n",
    "        oa = self.IndClass(genes_oa)\n",
    "        ob = self.IndClass(genes_ob)\n",
    "\n",
    "        oa.skill_factor = skf_oa\n",
    "        ob.skill_factor = skf_ob\n",
    "        return oa, ob\n",
    "\n",
    "class TULKH_Mutation(AbstractMutation):\n",
    "    def getInforTasks(self, IndClass: Type[Individual], tasks: list[AbstractTask], seed=None):\n",
    "        super().getInforTasks(IndClass, tasks, seed)\n",
    "        \n",
    "    def __call__(self, ind: Individual, return_newInd: bool, *arg, **kwargs) -> Individual:\n",
    "        return ind"
   ]
  },
  {
   "cell_type": "code",
   "execution_count": 6,
   "metadata": {},
   "outputs": [
    {
     "name": "stdout",
     "output_type": "stream",
     "text": [
      "Time: 00m 0.24s    0 % [>                   ]  Cost: 9.22E+18  9.22E+18  9.22E+18  ,  "
     ]
    },
    {
     "ename": "",
     "evalue": "",
     "output_type": "error",
     "traceback": [
      "\u001b[1;31mCanceled future for execute_request message before replies were done"
     ]
    },
    {
     "ename": "",
     "evalue": "",
     "output_type": "error",
     "traceback": [
      "\u001b[1;31mThe Kernel crashed while executing code in the the current cell or a previous cell. Please review the code in the cell(s) to identify a possible cause of the failure. Click <a href='https://aka.ms/vscodeJupyterKernelCrash'>here</a> for more info. View Jupyter <a href='command:jupyter.viewOutput'>log</a> for further details."
     ]
    }
   ],
   "source": [
    "baseModel = MFEA_base.model()\n",
    "baseModel.compile(\n",
    "    IndClass= IndClass,\n",
    "    tasks= tasks,\n",
    "    # crossover= newSBX(nc = 2, gamma= 0.4, alpha= 6),\n",
    "    crossover= TULKH_Crossover(),\n",
    "    mutation= TULKH_Mutation(),\n",
    "    selection= ElitismSelection()\n",
    ")\n",
    "solve = baseModel.fit(\n",
    "    nb_generations = 1000, rmp = 0.3, nb_inds_each_task= 100, \n",
    "    bound_pop= [0, 1], evaluate_initial_skillFactor= True\n",
    ")"
   ]
  }
 ],
 "metadata": {
  "kernelspec": {
   "display_name": "Python 3.9.7 ('base')",
   "language": "python",
   "name": "python3"
  },
  "language_info": {
   "codemirror_mode": {
    "name": "ipython",
    "version": 3
   },
   "file_extension": ".py",
   "mimetype": "text/x-python",
   "name": "python",
   "nbconvert_exporter": "python",
   "pygments_lexer": "ipython3",
   "version": "3.9.7"
  },
  "orig_nbformat": 4,
  "vscode": {
   "interpreter": {
    "hash": "d04ced9d2f3d780184266d6c04c38b10d0bc5dc91923fa3055e4cade559214a7"
   }
  }
 },
 "nbformat": 4,
 "nbformat_minor": 2
}
