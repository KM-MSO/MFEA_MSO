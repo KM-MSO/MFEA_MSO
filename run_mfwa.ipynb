{
 "cells": [
  {
   "cell_type": "code",
   "execution_count": null,
   "metadata": {},
   "outputs": [],
   "source": [
    "from MFEA_lib.model import mfwa\n",
    "from MFEA_lib.model.utils import *\n",
    "from MFEA_lib.operators.Crossover import *\n",
    "from MFEA_lib.operators.Mutation import *\n",
    "from MFEA_lib.operators.Selection import *\n",
    "from MFEA_lib.tasks.Benchmark.Funcs import *"
   ]
  },
  {
   "cell_type": "code",
   "execution_count": null,
   "metadata": {},
   "outputs": [],
   "source": [
    "tasks, IndClass = WCCI22_benchmark.get_complex_benchmark(3)\n"
   ]
  },
  {
   "cell_type": "code",
   "execution_count": null,
   "metadata": {},
   "outputs": [],
   "source": [
    "baseModel = mfwa.model()\n",
    "baseModel.compile(\n",
    "    IndClass= IndClass,\n",
    "    tasks= tasks,\n",
    "    crossover= SBX_Crossover(nc = 2),\n",
    "    mutation= Polynomial_Mutation(nm = 5),\n",
    "    selection= ElitismSelection()\n",
    ")\n",
    "solve = baseModel.fit(nb_generations=1000,diameter=0.5, S_param=50)"
   ]
  }
 ],
 "metadata": {
  "kernelspec": {
   "display_name": "Python 3.10.4 ('learnCS')",
   "language": "python",
   "name": "python3"
  },
  "language_info": {
   "codemirror_mode": {
    "name": "ipython",
    "version": 3
   },
   "file_extension": ".py",
   "mimetype": "text/x-python",
   "name": "python",
   "nbconvert_exporter": "python",
   "pygments_lexer": "ipython3",
   "version": "3.10.4"
  },
  "orig_nbformat": 4,
  "vscode": {
   "interpreter": {
    "hash": "d2d74ce3e99bc2d991502eaa9ff6878b69f13ebfe616751bd67e96721470575f"
   }
  }
 },
 "nbformat": 4,
 "nbformat_minor": 2
}
