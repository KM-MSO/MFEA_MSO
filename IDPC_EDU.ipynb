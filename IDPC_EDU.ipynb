{
 "cells": [
  {
   "cell_type": "code",
   "execution_count": 1,
   "metadata": {},
   "outputs": [],
   "source": [
    "import numpy as np, random, operator,copy\n",
    "import matplotlib.pyplot as plt\n",
    "from tqdm import tqdm"
   ]
  },
  {
   "cell_type": "code",
   "execution_count": 2,
   "metadata": {},
   "outputs": [],
   "source": [
    "class Edge :\n",
    "    def __init__(self, startNode, endNode, domain, weight, visitedNode) :\n",
    "        self.startNode = startNode\n",
    "        self.endNode = endNode\n",
    "        self.domain = domain\n",
    "        self.weight = weight\n",
    "        self.visitedNode = visitedNode\n",
    "\n",
    "    def __add__(self,other): \n",
    "        assert self.endNode == other.startNode\n",
    "        assert self.domain == other.domain\n",
    "        visitedNode = []\n",
    "        for node in self.visitedNode :\n",
    "            visitedNode.append(node)\n",
    "        for node in other.visitedNode :\n",
    "            if node not in self.visitedNode :\n",
    "                visitedNode.append(node)\n",
    "        weight = self.weight + other.weight\n",
    "        return Edge (self.startNode, other.endNode, self.domain, weight, visitedNode)\n",
    "\n",
    "    def __gt__ (self, other) :\n",
    "        if (self.weight > other.weight) :\n",
    "            return True\n",
    "        else :\n",
    "            if self.weight == other.weight and len(self.visitedNode) > len(other.visitedNode) :\n",
    "                return True\n",
    "            else :\n",
    "                return False"
   ]
  },
  {
   "cell_type": "code",
   "execution_count": 3,
   "metadata": {},
   "outputs": [
    {
     "ename": "FileNotFoundError",
     "evalue": "[Errno 2] No such file or directory: 'set1/idpc_15x15x3375.idpc'",
     "output_type": "error",
     "traceback": [
      "\u001b[1;31m---------------------------------------------------------------------------\u001b[0m",
      "\u001b[1;31mFileNotFoundError\u001b[0m                         Traceback (most recent call last)",
      "\u001b[1;32m~\\AppData\\Local\\Temp\\ipykernel_13412\\2083492627.py\u001b[0m in \u001b[0;36m<module>\u001b[1;34m\u001b[0m\n\u001b[1;32m----> 1\u001b[1;33m \u001b[0mfile\u001b[0m \u001b[1;33m=\u001b[0m \u001b[0mopen\u001b[0m\u001b[1;33m(\u001b[0m\u001b[1;34m\"set1/idpc_15x15x3375.idpc\"\u001b[0m\u001b[1;33m,\u001b[0m\u001b[1;34m\"r\"\u001b[0m\u001b[1;33m)\u001b[0m\u001b[1;33m\u001b[0m\u001b[1;33m\u001b[0m\u001b[0m\n\u001b[0m\u001b[0;32m      2\u001b[0m \u001b[0mlines\u001b[0m \u001b[1;33m=\u001b[0m \u001b[0mfile\u001b[0m\u001b[1;33m.\u001b[0m\u001b[0mreadlines\u001b[0m\u001b[1;33m(\u001b[0m\u001b[1;33m)\u001b[0m\u001b[1;33m\u001b[0m\u001b[1;33m\u001b[0m\u001b[0m\n\u001b[0;32m      3\u001b[0m \u001b[0mtmp\u001b[0m \u001b[1;33m=\u001b[0m \u001b[0mlines\u001b[0m\u001b[1;33m[\u001b[0m\u001b[1;36m0\u001b[0m\u001b[1;33m]\u001b[0m\u001b[1;33m.\u001b[0m\u001b[0msplit\u001b[0m\u001b[1;33m(\u001b[0m\u001b[1;33m)\u001b[0m\u001b[1;33m\u001b[0m\u001b[1;33m\u001b[0m\u001b[0m\n\u001b[0;32m      4\u001b[0m \u001b[0mnumNodes\u001b[0m \u001b[1;33m=\u001b[0m \u001b[0mint\u001b[0m\u001b[1;33m(\u001b[0m\u001b[0mtmp\u001b[0m\u001b[1;33m[\u001b[0m\u001b[1;36m0\u001b[0m\u001b[1;33m]\u001b[0m\u001b[1;33m)\u001b[0m\u001b[1;33m\u001b[0m\u001b[1;33m\u001b[0m\u001b[0m\n\u001b[0;32m      5\u001b[0m \u001b[0mnumDomains\u001b[0m \u001b[1;33m=\u001b[0m \u001b[0mint\u001b[0m\u001b[1;33m(\u001b[0m\u001b[0mtmp\u001b[0m\u001b[1;33m[\u001b[0m\u001b[1;36m1\u001b[0m\u001b[1;33m]\u001b[0m\u001b[1;33m)\u001b[0m\u001b[1;33m\u001b[0m\u001b[1;33m\u001b[0m\u001b[0m\n",
      "\u001b[1;31mFileNotFoundError\u001b[0m: [Errno 2] No such file or directory: 'set1/idpc_15x15x3375.idpc'"
     ]
    }
   ],
   "source": [
    "file = open(\"set1/idpc_15x15x3375.idpc\",\"r\")\n",
    "lines = file.readlines()\n",
    "tmp = lines[0].split()\n",
    "numNodes = int(tmp[0])\n",
    "numDomains = int(tmp[1])\n",
    "weight_matrix = np.ones([numNodes, numNodes, numDomains]) * -1\n",
    "tmp = lines[1].split()\n",
    "start = int(tmp[0]) - 1\n",
    "end = int(tmp[1]) - 1\n",
    "adj1 = []\n",
    "node_to_domain = []\n",
    "for i in range(numNodes) :\n",
    "    tmp = []\n",
    "    node_to_domain.append(tmp)\n",
    "for i in range(numNodes) :\n",
    "    adj_temp = []\n",
    "    for j in range(numNodes) :\n",
    "        domain_list = [1] * numDomains\n",
    "        adj_temp.append(domain_list)\n",
    "    adj1.append(adj_temp)\n",
    "\n",
    "adj2 = []\n",
    "for i in range(numDomains) :\n",
    "    node_list = []\n",
    "    for i in range(numNodes) :\n",
    "        tmp = []\n",
    "        node_list.append(tmp)\n",
    "    adj2.append(node_list)\n",
    "\n",
    "for i in range(2,len(lines)) :\n",
    "    tmp = lines[i].split()\n",
    "    weight = int(tmp[2])\n",
    "    domain = int(tmp[3]) - 1\n",
    "    startNode = int(tmp[0]) - 1\n",
    "    endNode = int(tmp[1]) - 1\n",
    "\n",
    "    # weight[startNode, endNode, domain] = weight\n",
    "    if startNode == end or endNode == start :\n",
    "        continue\n",
    "    edge = Edge (startNode, endNode, domain, weight, visitedNode= [])\n",
    "    adj2[domain][startNode].append(edge)\n",
    "    if domain not in node_to_domain :\n",
    "        node_to_domain[startNode].append(domain)"
   ]
  },
  {
   "cell_type": "code",
   "execution_count": null,
   "metadata": {},
   "outputs": [],
   "source": [
    "from queue import PriorityQueue\n",
    "for domain in range(numDomains) :\n",
    "    adj_domain = adj2[domain]\n",
    "    for i in range(numNodes) :\n",
    "        check = [True] * numNodes\n",
    "        priority_queue = PriorityQueue()\n",
    "        for edge in adj_domain[i] :\n",
    "            priority_queue.put(edge)\n",
    "        if priority_queue.empty() == False :\n",
    "            edge = priority_queue.get()\n",
    "            adj1[edge.startNode][ edge.endNode][edge.domain] = edge\n",
    "        while priority_queue.empty() == False :\n",
    "            next_Node = edge.endNode\n",
    "            check[next_Node] = False\n",
    "            for candidate in adj_domain[next_Node] :\n",
    "                try :\n",
    "                    priority_queue.put(edge + candidate)\n",
    "                except :\n",
    "                    print(\"___________________\")\n",
    "                    print(edge.endNode)\n",
    "                    for c in adj_domain[next_Node] :\n",
    "                        print(c.startNode)\n",
    "\n",
    "            edge = priority_queue.get()\n",
    "            while check[edge.endNode] == False and priority_queue.empty() == False :\n",
    "                edge = priority_queue.get()\n",
    "            if check[next_Node] == True :\n",
    "                adj1[edge.startNode][ edge.endNode][edge.domain] = edge\n",
    "            "
   ]
  },
  {
   "cell_type": "code",
   "execution_count": null,
   "metadata": {},
   "outputs": [],
   "source": [
    "def intersection (list1, list2) :\n",
    "    for i in list1 :\n",
    "        if i in list2 : \n",
    "            return True\n",
    "    return False"
   ]
  },
  {
   "cell_type": "code",
   "execution_count": null,
   "metadata": {},
   "outputs": [],
   "source": [
    "def find_next_domain (priority_list, visited_list, node_to_domain) :\n",
    "    priority_list_tmp = copy.deepcopy(priority_list)\n",
    "    for i in visited_list :\n",
    "        priority_list_tmp[i] = -1\n",
    "    for i in range(numDomains) :\n",
    "        if i not in node_to_domain :\n",
    "            priority_list_tmp[i] = -1\n",
    "    return np.argmax(priority_list_tmp)"
   ]
  },
  {
   "cell_type": "code",
   "execution_count": null,
   "metadata": {},
   "outputs": [],
   "source": [
    "def find_next_Node (priority_list, visited_list, domain, current_Node) :\n",
    "    global adj1\n",
    "    priority_list_tmp = copy.deepcopy(priority_list)\n",
    "    for i in visited_list :\n",
    "        priority_list_tmp[i] = -1\n",
    "    candidate_Node = np.argmax(priority_list_tmp)\n",
    "    stop = False\n",
    "    if adj1[current_Node][candidate_Node][domain] == 1 :\n",
    "        stop = True\n",
    "    else :\n",
    "        visited_Node = adj1[current_Node][candidate_Node][domain].visitedNode\n",
    "        if intersection(visited_list, visited_Node) == True :\n",
    "            stop = True\n",
    "    while stop == True :\n",
    "        priority_list_tmp[candidate_Node] = -1\n",
    "        if np.sum(priority_list_tmp) < -(numNodes - 1) :\n",
    "            return None\n",
    "        candidate_Node = np.argmax(priority_list_tmp)\n",
    "        stop = False\n",
    "        if adj1[current_Node][candidate_Node][domain] == 1 :\n",
    "            stop = True\n",
    "        else :\n",
    "            visited_Node = adj1[current_Node][candidate_Node][domain].visitedNode\n",
    "            if intersection(visited_list, visited_Node) == True :\n",
    "                stop = True\n",
    "    return candidate_Node"
   ]
  },
  {
   "cell_type": "code",
   "execution_count": 27,
   "metadata": {},
   "outputs": [],
   "source": [
    "def fitness (genes) :\n",
    "    global start, end\n",
    "    visitedNodes = []\n",
    "    visitedDomain = []\n",
    "    genes_domain = genes[0:numDomains]\n",
    "    genes_node  = genes[numDomains : (numNodes+ numDomains)]\n",
    "    current_Domain = 0\n",
    "    current_Node = start\n",
    "    distance = 0\n",
    "    residual = 1000000\n",
    "    while current_Node != end :\n",
    "        current_Domain = find_next_domain (genes_domain, visitedDomain, node_to_domain[current_Node])\n",
    "        next_Node = find_next_Node (genes_node, visitedNodes, current_Domain, current_Node)\n",
    "\n",
    "        if adj1[current_Node][end][current_Domain] != 1 :\n",
    "            residual = min (residual, distance + adj1[current_Node][end][current_Domain].weight)\n",
    "\n",
    "        if next_Node == None :\n",
    "            return residual\n",
    "\n",
    "        distance += adj1[current_Node][next_Node][current_Domain].weight\n",
    "        visitedNodes.append(next_Node)\n",
    "        visitedNodes += adj1[current_Node][next_Node][current_Domain].visitedNode\n",
    "        visitedDomain.append(current_Domain)\n",
    "        current_Node = next_Node\n",
    "    return min(distance, residual)\n",
    "        "
   ]
  },
  {
   "cell_type": "code",
   "execution_count": 28,
   "metadata": {},
   "outputs": [],
   "source": [
    "class Individual :\n",
    "    def __init__ (self, genes) :\n",
    "        self.genes = genes\n",
    "        self.fitness = fitness(genes)"
   ]
  },
  {
   "cell_type": "code",
   "execution_count": 29,
   "metadata": {},
   "outputs": [],
   "source": [
    "class IndClass(Individual):\n",
    "    def __init__(self, genes, parent= None, dim= None, *args, **kwargs) -> None:\n",
    "        super().__init__(genes, parent, dim)\n",
    "        if genes is None:\n",
    "            self.genes: np.ndarray = np.random.rand(dim)\n",
    "        self.A = np.ones(len(self.genes))"
   ]
  }
 ],
 "metadata": {
  "kernelspec": {
   "display_name": "Python 3.7.13 ('mfea')",
   "language": "python",
   "name": "python3"
  },
  "language_info": {
   "codemirror_mode": {
    "name": "ipython",
    "version": 3
   },
   "file_extension": ".py",
   "mimetype": "text/x-python",
   "name": "python",
   "nbconvert_exporter": "python",
   "pygments_lexer": "ipython3",
   "version": "3.7.13"
  },
  "orig_nbformat": 4,
  "vscode": {
   "interpreter": {
    "hash": "4edada56b92248170e10c115f7655f4c6f5b3f79a5836db2c7b2e80efd30f032"
   }
  }
 },
 "nbformat": 4,
 "nbformat_minor": 2
}
