{
 "cells": [
  {
   "cell_type": "code",
   "execution_count": null,
   "metadata": {},
   "outputs": [],
   "source": [
    "from MFEA_lib.model import AbstractModel, SMP_MFEA, MFEA_base, SMP_DE\n",
    "from MFEA_lib.model.utils import *\n",
    "from MFEA_lib.model.utils import TuningModel\n",
    "import pandas as pd\n",
    "import numpy as np\n",
    "import scipy.io\n",
    "from MFEA_lib.tasks.Benchmark.Funcs import * \n",
    "from MFEA_lib.operators.Crossover import *\n",
    "from MFEA_lib.operators.Mutation import *\n",
    "from MFEA_lib.operators.Selection import *\n"
   ]
  },
  {
   "cell_type": "markdown",
   "metadata": {},
   "source": [
    "### Tuning Model"
   ]
  },
  {
   "cell_type": "code",
   "execution_count": null,
   "metadata": {},
   "outputs": [],
   "source": [
    "ls_benchmark = [] \n",
    "ls_IndClass = [] \n",
    "name_benchmarks = []\n",
    "for id in range(1, 10):\n",
    "    # print(id) \n",
    "    b, i = WCCI22_benchmark.get_complex_benchmark(4)\n",
    "    name_benchmarks.append(\"wcci_2tasks_\" + str(id))\n",
    "    ls_benchmark.append(b) \n",
    "    ls_IndClass.append(i) \n",
    "\n",
    "b, i = CEC17_benchmark.get_10tasks_benchmark() \n",
    "ls_benchmark.append(b)\n",
    "ls_IndClass.append(i)\n",
    "name_benchmarks.append(\"CEC_10_\")"
   ]
  },
  {
   "cell_type": "markdown",
   "metadata": {},
   "source": [
    "<h3> Khởi tạo Tuning Model </h3>\n",
    "model = TuningModel(model_name = ..., list_parameter  = ..., nb_run = 1) \n",
    "<p></p>\n",
    "-  nb_run: số  lần chạy \n",
    "<p></p>\n",
    "- list_parameter là một list trong đó mỗi phần tử là một tuple \n",
    "<p></p>\n",
    "Ex.một phần tử là lr : ('lr', [0.4, 0.5]) \n",
    "<p></p>\n",
    "ở vị trí đầu tiên của phần tử là tên của tham số \n",
    "<p></p>\n",
    "<p></p>\n",
    "ở vị trí thú hai của phần tử là danh sách giá trị của tham số đó để tuning\n",
    "<p></p>\n",
    "Đối với tham số  như gamma trong sbx : ('crossover', {'gammma': [0.4, 0.6]})\n",
    "<p></p>\n",
    "vị trí đầu tiền của phần tử là tên tham số  nhận giá trị của sbx \n",
    "<p></p>\n",
    "ví trị thứ hai của phần tử là một dict với key là tên của các tham số  trong sbx - ở đây là gamma và value là danh sách giá trị gamma cần tuning\n",
    "\n"
   ]
  },
  {
   "cell_type": "markdown",
   "metadata": {},
   "source": [
    "<h3> Compile Tuning Model </h3> \n",
    "model.compile(\n",
    "    <p></p>\n",
    "    ls_benchmark = ... , \n",
    "    <p></p>\n",
    "    benchmark_weights = ..., \n",
    "    <p></p>\n",
    "    name_benchmark = ...., \n",
    "    <p></p>\n",
    "    ls_Indclass = ...., \n",
    "    <p></p>\n",
    "    danh sách tham số  compile cho model cần tuning như smp_mfea, mfea1\n",
    "    <p></p>\n",
    ")\n",
    "\n",
    "<p></p>\n",
    "- ls_benchmark : dạng list, là danh sách các benchmark cần tuning \n",
    "<p></p>\n",
    "- name_benchmark: dạng list, là danh sách tên benchmark cần tuning  \n",
    "<p></p>\n",
    "- ls_IndClass : dạng list, là danh sách IndClass \n",
    "<p></p>\n",
    "\n",
    "\n"
   ]
  },
  {
   "cell_type": "markdown",
   "metadata": {},
   "source": [
    "<h3> Run Tuning Model </h3> \n",
    "model.run(\n",
    "    <p></p>\n",
    "    path = ..., \n",
    "    <p></p>\n",
    "    replace_folder = ..., \n",
    "    <p></p>\n",
    "    min_value = ..., \n",
    "    <p></p>\n",
    "    danh sách tham số dành cho fit model nhỏ ví dụ như smp_mfea.fit\n",
    "\n",
    ")\n",
    "<p></p>\n",
    "- path: str, là đường dẫn để lưu model và kết quả tuning\n",
    "<p></p>\n",
    "- replace_folder = True: dạng boolean: True nếu cho phép ghi đè lên thư mục nếu thư mục tồn tại ở đường dẫn \n",
    "<p></p>\n",
    "- min_value = 0 or 1e-6: những giá trị nhỏ hơn min_value sẽ được xem bằng 0 khi đem đi so sánh kết quả giữa các mô hình \n",
    "<p></p>\n",
    "\n"
   ]
  },
  {
   "cell_type": "code",
   "execution_count": null,
   "metadata": {},
   "outputs": [],
   "source": [
    "model = TuningModel(\n",
    "    model_name= SMP_MFEA, \n",
    "    \n",
    "    list_parameter= [\n",
    "        ('crossover', {\n",
    "            'gamma': [0.4, 0.6]\n",
    "        }), \n",
    "        ('lr', [0.04, 0.05]),\n",
    "        ('crossover', {\n",
    "            'alpha': [5, 7]\n",
    "        }), \n",
    "    ],\n",
    ")\n",
    "model.compile(\n",
    "    ls_benchmark = ls_benchmark, \n",
    "    benchmark_weights = (np.ones(shape= (3,)) / 3).tolist(), \n",
    "    name_benchmark = [str(i) for i in range(1,4)],\n",
    "    ls_IndClass = ls_IndClass,\n",
    "\n",
    "    crossover= newSBX(nc = 2, gamma= 0.4, alpha = 6),\n",
    "    mutation = GaussMutation(scale = 0.01),\n",
    "    selection= ElitismSelection(random_percent= 0.),\n",
    "    attr_tasks = ['crossover', 'mutation']\n",
    ")\n",
    "\n",
    "fit, com, result = model.run(\n",
    "    replace_folder=True,\n",
    "    min_value = 1e-6,\n",
    "    \n",
    "    nb_generations= 5, \n",
    "    nb_inds_each_task= 100, \n",
    "    nb_inds_min= 100,\n",
    "    lr = 0.05,  \n",
    "    p_const_intra= 0, \n",
    "    p_mutate= 0.1, \n",
    "    prob_search = 0.,\n",
    "    nb_epochs_stop= 1000, \n",
    "    swap_po= False,\n",
    "    evaluate_initial_skillFactor= True\n",
    ")"
   ]
  },
  {
   "cell_type": "markdown",
   "metadata": {},
   "source": [
    "### MultBenchmark Model "
   ]
  },
  {
   "cell_type": "markdown",
   "metadata": {},
   "source": [
    "<h3> Khởi tạo MultiBenchmark Model </h3> \n",
    "<p></p>\n",
    "smpModel = MultiBenchmark(\n",
    "<p></p>\n",
    "    ls_benchmark = ls_benchmark, \n",
    "<p></p>\n",
    "    name_benchmark = [str(i) for i in range(1,4)],\n",
    "<p></p>\n",
    "    ls_IndClass = ls_IndClass,\n",
    "<p></p>\n",
    "    model= SMP_MFEA\n",
    "<p></p>\n",
    ")\n",
    "<p></p>\n",
    "- ls_benchmark : dạng list, là danh sách các benchmark cần chạy nhiều lần\n",
    "<p></p>\n",
    "- name_benchmark : dạng list, là danh sách tên benchmark \n",
    "<p> </p> \n",
    "- ls_IndClass : dạng list, là danh sách IndClass tương ứng với benchmark \n",
    "<p> </p>\n",
    " \n",
    "\n"
   ]
  },
  {
   "cell_type": "markdown",
   "metadata": {},
   "source": [
    "<h3> Compile, fit, run Model </h3> \n",
    "- compile : các tham số cho model như mfea, smp chạy hàm compile  \n",
    "<p></p>\n",
    "- fit: các tham số cho model như smp chạy hàm fit\n",
    "<p> </p> \n",
    "- run: gồm nb_run: số lần chạy một mô hình , \n",
    "save_path: đường dẫn thuư mục để lưu model \n"
   ]
  },
  {
   "cell_type": "code",
   "execution_count": null,
   "metadata": {},
   "outputs": [],
   "source": [
    "ls_benchmark = [] \n",
    "ls_IndClass = [] \n",
    "for id in range(1, 3): \n",
    "    b, i = CEC17_benchmark.get_2tasks_benchmark(id) \n",
    "    ls_benchmark.append(b) \n",
    "    ls_IndClass.append(i) \n",
    "\n",
    "b, i = CEC17_benchmark.get_10tasks_benchmark() \n",
    "ls_benchmark.append(b)\n",
    "ls_IndClass.append(i)\n",
    "\n",
    "smpModel = MultiBenchmark(\n",
    "    ls_benchmark = ls_benchmark, \n",
    "    name_benchmark = [str(i) for i in range(1,4)],\n",
    "    ls_IndClass = ls_IndClass,\n",
    "    model= SMP_MFEA\n",
    "    )\n",
    "\n",
    "smpModel.compile(\n",
    "    crossover= newSBX(nc = 2, gamma= 0.6, alpha = 7),\n",
    "    mutation= GaussMutation(scale= 0.1),\n",
    "    # mutation = GMMScale(alpha = 3, lenMem= 20, default_scale= 0.5),\n",
    "    selection= ElitismSelection(random_percent= 0.),\n",
    "    attr_tasks = ['crossover', 'mutation'],\n",
    "    \n",
    ")\n",
    "smpModel.fit(\n",
    "    nb_generations= 10, nb_inds_each_task= 100, nb_inds_min= 100,\n",
    "    lr = 0.1, p_const_intra= 0.0, p_mutate= 0.1,prob_search = 0.0,\n",
    "    nb_epochs_stop= 50, \n",
    "    evaluate_initial_skillFactor= True\n",
    ")\n",
    "smpModel.run(\n",
    "    nb_run= 2,\n",
    "    save_path= './RESULTS/result/smpMFEA_cec17.mso'\n",
    ")"
   ]
  },
  {
   "cell_type": "markdown",
   "metadata": {},
   "source": [
    "<h3> print result </h3> \n",
    "\n",
    "print_attr : dạng list, là tên các giá trị trung bình muốn in ra \n",
    "<p> </p> \n",
    "print_name : True nếu muốn in tên bộ benchmark \n",
    "<p> </p> \n",
    "print_time : True nếu muốn in thời gian chạy từng bộ benchmark \n",
    "<p> </p> \n",
    "print_name_attr: True nếu muốn in tên của từng giá trị trung bình"
   ]
  },
  {
   "cell_type": "code",
   "execution_count": null,
   "metadata": {},
   "outputs": [],
   "source": [
    "smpModel.print_result(print_attr = ['history_cost'],print_name = True, print_time = False, print_name_attr = False)"
   ]
  }
 ],
 "metadata": {
  "interpreter": {
   "hash": "97cc609b13305c559618ec78a438abc56230b9381f827f22d070313b9a1f3777"
  },
  "kernelspec": {
   "display_name": "Python 3.10.4 64-bit",
   "language": "python",
   "name": "python3"
  },
  "language_info": {
   "codemirror_mode": {
    "name": "ipython",
    "version": 3
   },
   "file_extension": ".py",
   "mimetype": "text/x-python",
   "name": "python",
   "nbconvert_exporter": "python",
   "pygments_lexer": "ipython3",
   "version": "3.10.4"
  },
  "orig_nbformat": 4
 },
 "nbformat": 4,
 "nbformat_minor": 2
}
