{
 "cells": [
  {
   "cell_type": "code",
   "execution_count": null,
   "metadata": {},
   "outputs": [],
   "source": [
    "%pip install oct2py"
   ]
  },
  {
   "cell_type": "code",
   "execution_count": 1,
   "metadata": {},
   "outputs": [],
   "source": [
    "path = 'MFEA_lib/tasks/__references__/WCCI2022/SO-Complex-Benchmarks'\n",
    "path_benchmark = '/mnt/ee1bd79c-6956-419b-951b-4699528687d7/MFEA_MSO/MFEA_lib/tasks/__references__/WCCI2022/SO-Complex-Benchmarks/benchmark.m'\n",
    "path_cec14 = '/mnt/ee1bd79c-6956-419b-951b-4699528687d7/MFEA_MSO/MFEA_lib/tasks/__references__/WCCI2022/SO-Complex-Benchmarks/cec14_func.mexw64'\n",
    "path_fnceval = '/mnt/ee1bd79c-6956-419b-951b-4699528687d7/MFEA_MSO/MFEA_lib/tasks/__references__/WCCI2022/SO-Complex-Benchmarks/fnceval.m'"
   ]
  },
  {
   "cell_type": "code",
   "execution_count": null,
   "metadata": {},
   "outputs": [],
   "source": []
  },
  {
   "cell_type": "code",
   "execution_count": 2,
   "metadata": {},
   "outputs": [],
   "source": [
    "from oct2py import octave as oc"
   ]
  },
  {
   "cell_type": "code",
   "execution_count": 3,
   "metadata": {},
   "outputs": [
    {
     "data": {
      "text/plain": [
       "'d:\\\\OneDrive - Hanoi University of Science and Technology\\\\My_self\\\\Work\\\\Lab\\\\Code_Lab\\\\KM-MSO\\\\am\\\\MFEA_MSO'"
      ]
     },
     "execution_count": 3,
     "metadata": {},
     "output_type": "execute_result"
    }
   ],
   "source": [
    "oc.cd(path)"
   ]
  },
  {
   "cell_type": "code",
   "execution_count": 4,
   "metadata": {},
   "outputs": [],
   "source": [
    "tasks = oc.benchmark(7)"
   ]
  },
  {
   "cell_type": "code",
   "execution_count": 5,
   "metadata": {},
   "outputs": [
    {
     "data": {
      "text/plain": [
       "6"
      ]
     },
     "execution_count": 5,
     "metadata": {},
     "output_type": "execute_result"
    }
   ],
   "source": [
    "len(tasks[0][0])\n",
    "len(tasks[0][1])"
   ]
  },
  {
   "cell_type": "code",
   "execution_count": 7,
   "metadata": {},
   "outputs": [
    {
     "data": {
      "text/plain": [
       "1x2 StructArray containing the fields:\n",
       "    dim\n",
       "    fnc\n",
       "    Lb\n",
       "    Ub\n",
       "    task_id\n",
       "    index"
      ]
     },
     "execution_count": 7,
     "metadata": {},
     "output_type": "execute_result"
    }
   ],
   "source": [
    "tasks"
   ]
  },
  {
   "cell_type": "code",
   "execution_count": 21,
   "metadata": {},
   "outputs": [
    {
     "data": {
      "text/plain": [
       "Cell([[array([[-100., -100., -100., -100., -100., -100., -100., -100., -100.,\n",
       "                -100., -100., -100., -100., -100., -100., -100., -100., -100.,\n",
       "                -100., -100., -100., -100., -100., -100., -100., -100., -100.,\n",
       "                -100., -100., -100., -100., -100., -100., -100., -100., -100.,\n",
       "                -100., -100., -100., -100., -100., -100., -100., -100., -100.,\n",
       "                -100., -100., -100., -100., -100.]])                          ,\n",
       "        array([[-100., -100., -100., -100., -100., -100., -100., -100., -100.,\n",
       "                -100., -100., -100., -100., -100., -100., -100., -100., -100.,\n",
       "                -100., -100., -100., -100., -100., -100., -100., -100., -100.,\n",
       "                -100., -100., -100., -100., -100., -100., -100., -100., -100.,\n",
       "                -100., -100., -100., -100., -100., -100., -100., -100., -100.,\n",
       "                -100., -100., -100., -100., -100.]])                          ]],\n",
       "      dtype=object)"
      ]
     },
     "execution_count": 21,
     "metadata": {},
     "output_type": "execute_result"
    }
   ],
   "source": [
    "tasks.Lb"
   ]
  },
  {
   "cell_type": "code",
   "execution_count": 20,
   "metadata": {},
   "outputs": [
    {
     "data": {
      "text/plain": [
       "(1, 50)"
      ]
     },
     "execution_count": 20,
     "metadata": {},
     "output_type": "execute_result"
    }
   ],
   "source": [
    "(tasks.Lb[0][1]).shape\n"
   ]
  },
  {
   "cell_type": "code",
   "execution_count": 5,
   "metadata": {},
   "outputs": [],
   "source": [
    "import numpy as np "
   ]
  },
  {
   "cell_type": "code",
   "execution_count": 7,
   "metadata": {},
   "outputs": [
    {
     "name": "stdout",
     "output_type": "stream",
     "text": [
      "<class 'oct2py.io.StructArray'>\n"
     ]
    }
   ],
   "source": [
    "print(type(tasks))"
   ]
  },
  {
   "cell_type": "code",
   "execution_count": null,
   "metadata": {},
   "outputs": [],
   "source": [
    "oc."
   ]
  },
  {
   "cell_type": "code",
   "execution_count": 24,
   "metadata": {},
   "outputs": [
    {
     "data": {
      "text/plain": [
       "Cell([[array([[0., 0., 0., 0., 0., 0., 0., 0., 0., 0., 0., 0., 0., 0., 0., 0.,\n",
       "                0., 0., 0., 0., 0., 0., 0., 0., 0., 0., 0., 0., 0., 0., 0., 0.,\n",
       "                0., 0., 0., 0., 0., 0., 0., 0., 0., 0., 0., 0., 0., 0., 0., 0.,\n",
       "                0., 0.]])                                                      ,\n",
       "        array([[0., 0., 0., 0., 0., 0., 0., 0., 0., 0., 0., 0., 0., 0., 0., 0.,\n",
       "                0., 0., 0., 0., 0., 0., 0., 0., 0., 0., 0., 0., 0., 0., 0., 0.,\n",
       "                0., 0., 0., 0., 0., 0., 0., 0., 0., 0., 0., 0., 0., 0., 0., 0.,\n",
       "                0., 0.]])                                                      ]],\n",
       "      dtype=object)"
      ]
     },
     "execution_count": 24,
     "metadata": {},
     "output_type": "execute_result"
    }
   ],
   "source": [
    "tasks.Lb + 100"
   ]
  },
  {
   "cell_type": "code",
   "execution_count": 6,
   "metadata": {},
   "outputs": [
    {
     "name": "stdout",
     "output_type": "stream",
     "text": [
      "warning: function 'fnceval' defined within script file 'D:\\OneDrive - Hanoi University of Science and Technology\\My_self\\Work\\Lab\\Code_Lab\\KM-MSO\\am\\MFEA_MSO\\MFEA_lib\\tasks\\__references__\\WCCI2022\\SO-Complex-Benchmarks\\fnceval.m'\n",
      "warning: called from\n",
      "    _pyeval at line 57 column 30\n",
      "\n"
     ]
    },
    {
     "ename": "Oct2PyError",
     "evalue": "Octave evaluation error:\nerror: octave_base_value::int_value (): wrong type argument 'matrix'",
     "output_type": "error",
     "traceback": [
      "\u001b[1;31m---------------------------------------------------------------------------\u001b[0m",
      "\u001b[1;31mOct2PyError\u001b[0m                               Traceback (most recent call last)",
      "\u001b[1;32md:\\OneDrive - Hanoi University of Science and Technology\\My_self\\Work\\Lab\\Code_Lab\\KM-MSO\\am\\MFEA_MSO\\1_t.ipynb Cell 13'\u001b[0m in \u001b[0;36m<cell line: 1>\u001b[1;34m()\u001b[0m\n\u001b[1;32m----> <a href='vscode-notebook-cell:/d%3A/OneDrive%20-%20Hanoi%20University%20of%20Science%20and%20Technology/My_self/Work/Lab/Code_Lab/KM-MSO/am/MFEA_MSO/1_t.ipynb#ch0000012?line=0'>1</a>\u001b[0m oc\u001b[39m.\u001b[39;49mfnceval(tasks, np\u001b[39m.\u001b[39;49mzeros(shape\u001b[39m=\u001b[39;49m(\u001b[39m1\u001b[39;49m,\u001b[39m50\u001b[39;49m))\u001b[39m.\u001b[39;49mtolist())\n",
      "File \u001b[1;32m~\\AppData\\Local\\Programs\\Python\\Python310\\lib\\site-packages\\oct2py\\dynamic.py:103\u001b[0m, in \u001b[0;36mOctaveFunctionPtr.__call__\u001b[1;34m(self, *inputs, **kwargs)\u001b[0m\n\u001b[0;32m     <a href='file:///c%3A/Users/ASUS/AppData/Local/Programs/Python/Python310/lib/site-packages/oct2py/dynamic.py?line=96'>97</a>\u001b[0m     warnings\u001b[39m.\u001b[39mwarn(\u001b[39m'\u001b[39m\u001b[39mKey - value pairs are deprecated, use `func_args`\u001b[39m\u001b[39m'\u001b[39m,\n\u001b[0;32m     <a href='file:///c%3A/Users/ASUS/AppData/Local/Programs/Python/Python310/lib/site-packages/oct2py/dynamic.py?line=97'>98</a>\u001b[0m                   stacklevel\u001b[39m=\u001b[39m\u001b[39m2\u001b[39m)\n\u001b[0;32m    <a href='file:///c%3A/Users/ASUS/AppData/Local/Programs/Python/Python310/lib/site-packages/oct2py/dynamic.py?line=99'>100</a>\u001b[0m inputs \u001b[39m+\u001b[39m\u001b[39m=\u001b[39m \u001b[39mtuple\u001b[39m(item \u001b[39mfor\u001b[39;00m pair \u001b[39min\u001b[39;00m \u001b[39mzip\u001b[39m(extras\u001b[39m.\u001b[39mkeys(), extras\u001b[39m.\u001b[39mvalues())\n\u001b[0;32m    <a href='file:///c%3A/Users/ASUS/AppData/Local/Programs/Python/Python310/lib/site-packages/oct2py/dynamic.py?line=100'>101</a>\u001b[0m                 \u001b[39mfor\u001b[39;00m item \u001b[39min\u001b[39;00m pair)\n\u001b[1;32m--> <a href='file:///c%3A/Users/ASUS/AppData/Local/Programs/Python/Python310/lib/site-packages/oct2py/dynamic.py?line=102'>103</a>\u001b[0m \u001b[39mreturn\u001b[39;00m \u001b[39mself\u001b[39m\u001b[39m.\u001b[39m_ref()\u001b[39m.\u001b[39mfeval(\u001b[39mself\u001b[39m\u001b[39m.\u001b[39mname, \u001b[39m*\u001b[39minputs, \u001b[39m*\u001b[39m\u001b[39m*\u001b[39mkwargs)\n",
      "File \u001b[1;32m~\\AppData\\Local\\Programs\\Python\\Python310\\lib\\site-packages\\oct2py\\core.py:392\u001b[0m, in \u001b[0;36mOct2Py.feval\u001b[1;34m(self, func_path, *func_args, **kwargs)\u001b[0m\n\u001b[0;32m    <a href='file:///c%3A/Users/ASUS/AppData/Local/Programs/Python/Python310/lib/site-packages/oct2py/core.py?line=388'>389</a>\u001b[0m \u001b[39mif\u001b[39;00m \u001b[39mnot\u001b[39;00m stream_handler:\n\u001b[0;32m    <a href='file:///c%3A/Users/ASUS/AppData/Local/Programs/Python/Python310/lib/site-packages/oct2py/core.py?line=389'>390</a>\u001b[0m     stream_handler \u001b[39m=\u001b[39m \u001b[39mself\u001b[39m\u001b[39m.\u001b[39mlogger\u001b[39m.\u001b[39minfo \u001b[39mif\u001b[39;00m verbose \u001b[39melse\u001b[39;00m \u001b[39mself\u001b[39m\u001b[39m.\u001b[39mlogger\u001b[39m.\u001b[39mdebug\n\u001b[1;32m--> <a href='file:///c%3A/Users/ASUS/AppData/Local/Programs/Python/Python310/lib/site-packages/oct2py/core.py?line=391'>392</a>\u001b[0m \u001b[39mreturn\u001b[39;00m \u001b[39mself\u001b[39;49m\u001b[39m.\u001b[39;49m_feval(func_name, func_args, dname\u001b[39m=\u001b[39;49mdname, nout\u001b[39m=\u001b[39;49mnout,\n\u001b[0;32m    <a href='file:///c%3A/Users/ASUS/AppData/Local/Programs/Python/Python310/lib/site-packages/oct2py/core.py?line=392'>393</a>\u001b[0m                   timeout\u001b[39m=\u001b[39;49mtimeout, stream_handler\u001b[39m=\u001b[39;49mstream_handler,\n\u001b[0;32m    <a href='file:///c%3A/Users/ASUS/AppData/Local/Programs/Python/Python310/lib/site-packages/oct2py/core.py?line=393'>394</a>\u001b[0m                   store_as\u001b[39m=\u001b[39;49mstore_as, plot_dir\u001b[39m=\u001b[39;49mplot_dir)\n",
      "File \u001b[1;32m~\\AppData\\Local\\Programs\\Python\\Python310\\lib\\site-packages\\oct2py\\core.py:595\u001b[0m, in \u001b[0;36mOct2Py._feval\u001b[1;34m(self, func_name, func_args, dname, nout, timeout, stream_handler, store_as, plot_dir)\u001b[0m\n\u001b[0;32m    <a href='file:///c%3A/Users/ASUS/AppData/Local/Programs/Python/Python310/lib/site-packages/oct2py/core.py?line=592'>593</a>\u001b[0m \u001b[39mif\u001b[39;00m resp[\u001b[39m'\u001b[39m\u001b[39merr\u001b[39m\u001b[39m'\u001b[39m]:\n\u001b[0;32m    <a href='file:///c%3A/Users/ASUS/AppData/Local/Programs/Python/Python310/lib/site-packages/oct2py/core.py?line=593'>594</a>\u001b[0m     msg \u001b[39m=\u001b[39m \u001b[39mself\u001b[39m\u001b[39m.\u001b[39m_parse_error(resp[\u001b[39m'\u001b[39m\u001b[39merr\u001b[39m\u001b[39m'\u001b[39m])\n\u001b[1;32m--> <a href='file:///c%3A/Users/ASUS/AppData/Local/Programs/Python/Python310/lib/site-packages/oct2py/core.py?line=594'>595</a>\u001b[0m     \u001b[39mraise\u001b[39;00m Oct2PyError(msg)\n\u001b[0;32m    <a href='file:///c%3A/Users/ASUS/AppData/Local/Programs/Python/Python310/lib/site-packages/oct2py/core.py?line=596'>597</a>\u001b[0m result \u001b[39m=\u001b[39m resp[\u001b[39m'\u001b[39m\u001b[39mresult\u001b[39m\u001b[39m'\u001b[39m]\u001b[39m.\u001b[39mravel()\u001b[39m.\u001b[39mtolist()\n\u001b[0;32m    <a href='file:///c%3A/Users/ASUS/AppData/Local/Programs/Python/Python310/lib/site-packages/oct2py/core.py?line=597'>598</a>\u001b[0m \u001b[39mif\u001b[39;00m \u001b[39misinstance\u001b[39m(result, \u001b[39mlist\u001b[39m) \u001b[39mand\u001b[39;00m \u001b[39mlen\u001b[39m(result) \u001b[39m==\u001b[39m \u001b[39m1\u001b[39m:\n",
      "\u001b[1;31mOct2PyError\u001b[0m: Octave evaluation error:\nerror: octave_base_value::int_value (): wrong type argument 'matrix'"
     ]
    }
   ],
   "source": [
    "oc.fnceval(tasks, np.zeros(shape=(1,50)).tolist())"
   ]
  }
 ],
 "metadata": {
  "interpreter": {
   "hash": "7d04c2ccdc77879c44c0e38a475c5c944666b751d27f26244a0b0bd35fcecd56"
  },
  "kernelspec": {
   "display_name": "Python 3.10.2 64-bit",
   "language": "python",
   "name": "python3"
  },
  "language_info": {
   "codemirror_mode": {
    "name": "ipython",
    "version": 3
   },
   "file_extension": ".py",
   "mimetype": "text/x-python",
   "name": "python",
   "nbconvert_exporter": "python",
   "pygments_lexer": "ipython3",
   "version": "3.10.2"
  },
  "orig_nbformat": 4
 },
 "nbformat": 4,
 "nbformat_minor": 2
}
