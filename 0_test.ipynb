{
 "cells": [
  {
   "cell_type": "markdown",
   "metadata": {},
   "source": [
    "### Numpy"
   ]
  },
  {
   "cell_type": "code",
   "execution_count": 1,
   "metadata": {},
   "outputs": [],
   "source": [
    "from MFEA_lib.tasks.Benchmark import *\n",
    "from scipy.io import loadmat\n",
    "import os\n"
   ]
  },
  {
   "cell_type": "code",
   "execution_count": 1,
   "metadata": {},
   "outputs": [],
   "source": [
    "import numpy as np"
   ]
  },
  {
   "cell_type": "code",
   "execution_count": 11,
   "metadata": {},
   "outputs": [
    {
     "data": {
      "text/plain": [
       "array([[2, 8, 9, 1, 5, 6, 7, 0, 4, 3],\n",
       "       [8, 8, 3, 2, 1, 9, 6, 0, 4, 3]])"
      ]
     },
     "execution_count": 11,
     "metadata": {},
     "output_type": "execute_result"
    }
   ],
   "source": [
    "np.append([np.random.permutation(10)], [np.random.randint(0, 10, 10)], axis= 0)"
   ]
  },
  {
   "cell_type": "code",
   "execution_count": 6,
   "metadata": {},
   "outputs": [
    {
     "data": {
      "text/plain": [
       "array([3, 1, 6, 1, 1, 5, 2, 4, 8, 0])"
      ]
     },
     "execution_count": 6,
     "metadata": {},
     "output_type": "execute_result"
    }
   ],
   "source": []
  },
  {
   "cell_type": "code",
   "execution_count": 3,
   "metadata": {},
   "outputs": [],
   "source": [
    "from MFEA_lib.tasks.Benchmark import CEC17_benchmark"
   ]
  },
  {
   "cell_type": "code",
   "execution_count": 4,
   "metadata": {},
   "outputs": [],
   "source": [
    "tasks = CEC17_benchmark.get_10tasks_benchmark()"
   ]
  },
  {
   "cell_type": "code",
   "execution_count": 6,
   "metadata": {},
   "outputs": [
    {
     "data": {
      "text/plain": [
       "0.0"
      ]
     },
     "execution_count": 6,
     "metadata": {},
     "output_type": "execute_result"
    }
   ],
   "source": [
    "tasks[0](np.zeros((50,)) + 0.5)"
   ]
  },
  {
   "cell_type": "code",
   "execution_count": 4,
   "metadata": {},
   "outputs": [
    {
     "data": {
      "text/plain": [
       "[<MFEA_lib.tasks.function.Ackley at 0x7ffa222ac8b0>,\n",
       " <MFEA_lib.tasks.function.Rastrigin at 0x7ffa224090a0>]"
      ]
     },
     "execution_count": 4,
     "metadata": {},
     "output_type": "execute_result"
    }
   ],
   "source": [
    "CEC17_benchmark.get_2tasks_benchmark(2)"
   ]
  },
  {
   "cell_type": "code",
   "execution_count": 14,
   "metadata": {},
   "outputs": [
    {
     "ename": "NameError",
     "evalue": "name '__file__' is not defined",
     "output_type": "error",
     "traceback": [
      "\u001b[0;31m---------------------------------------------------------------------------\u001b[0m",
      "\u001b[0;31mNameError\u001b[0m                                 Traceback (most recent call last)",
      "\u001b[0;32m/tmp/ipykernel_33900/3995653651.py\u001b[0m in \u001b[0;36m<module>\u001b[0;34m\u001b[0m\n\u001b[0;32m----> 1\u001b[0;31m \u001b[0mpath\u001b[0m \u001b[0;34m=\u001b[0m \u001b[0mos\u001b[0m\u001b[0;34m.\u001b[0m\u001b[0mpath\u001b[0m\u001b[0;34m.\u001b[0m\u001b[0mdirname\u001b[0m\u001b[0;34m(\u001b[0m\u001b[0mos\u001b[0m\u001b[0;34m.\u001b[0m\u001b[0mpath\u001b[0m\u001b[0;34m.\u001b[0m\u001b[0mrealpath\u001b[0m\u001b[0;34m(\u001b[0m\u001b[0m__file__\u001b[0m\u001b[0;34m)\u001b[0m\u001b[0;34m)\u001b[0m\u001b[0;34m\u001b[0m\u001b[0;34m\u001b[0m\u001b[0m\n\u001b[0m",
      "\u001b[0;31mNameError\u001b[0m: name '__file__' is not defined"
     ]
    }
   ],
   "source": [
    "path = os.path.dirname(os.path.realpath(__file__))\n"
   ]
  },
  {
   "cell_type": "code",
   "execution_count": 5,
   "metadata": {},
   "outputs": [],
   "source": [
    "import numpy as np\n",
    "import time"
   ]
  },
  {
   "cell_type": "code",
   "execution_count": 10,
   "metadata": {},
   "outputs": [],
   "source": [
    "l = int(1e8)\n",
    "a = [1] * l\n",
    "b = np.ones((l))\n"
   ]
  },
  {
   "cell_type": "code",
   "execution_count": 13,
   "metadata": {},
   "outputs": [
    {
     "name": "stdout",
     "output_type": "stream",
     "text": [
      "2.6245357990264893\n"
     ]
    }
   ],
   "source": [
    "s = time.time()\n",
    "for i in a:\n",
    "    1 + 1\n",
    "print(time.time() - s)"
   ]
  },
  {
   "cell_type": "code",
   "execution_count": 14,
   "metadata": {},
   "outputs": [
    {
     "name": "stdout",
     "output_type": "stream",
     "text": [
      "7.461835861206055\n"
     ]
    }
   ],
   "source": [
    "s = time.time()\n",
    "for i in b:\n",
    "    1 + 1\n",
    "print(time.time() - s)"
   ]
  },
  {
   "cell_type": "code",
   "execution_count": 12,
   "metadata": {},
   "outputs": [],
   "source": [
    "a = [1, 2, 3]"
   ]
  },
  {
   "cell_type": "markdown",
   "metadata": {},
   "source": [
    "### tasks"
   ]
  },
  {
   "cell_type": "code",
   "execution_count": 1,
   "metadata": {},
   "outputs": [],
   "source": [
    "from MFEA_lib.tasks import Benchmark"
   ]
  },
  {
   "cell_type": "code",
   "execution_count": 2,
   "metadata": {},
   "outputs": [],
   "source": [
    "cec17 = Benchmark.CEC17_benchmark.get_10tasks_benchmark()"
   ]
  },
  {
   "cell_type": "code",
   "execution_count": 15,
   "metadata": {},
   "outputs": [
    {
     "name": "stdout",
     "output_type": "stream",
     "text": [
      "Sphere: [-100, 100]^50\n",
      "Sphere: [-100, 100]^50\n",
      "Sphere: [-100, 100]^50\n",
      "Weierstrass: [-0.5, 0.5]^25\n",
      "Rosenbrock: [-50, 50]^50\n",
      "Ackley: [-50, 50]^50\n",
      "Weierstrass: [-0.5, 0.5]^50\n",
      "Schwefel: [-500, 500]^50\n",
      "Griewank: [-100, 100]^50\n",
      "Rastrigin: [-50, 50]^50\n"
     ]
    }
   ],
   "source": [
    "for t in cec17:\n",
    "    print(t.name)"
   ]
  },
  {
   "cell_type": "code",
   "execution_count": 16,
   "metadata": {},
   "outputs": [
    {
     "name": "stdout",
     "output_type": "stream",
     "text": [
      "[0. 0.]\n",
      "[80. 80.]\n",
      "[-80. -80.]\n",
      "[-0.4 -0.4]\n",
      "[0. 0.]\n",
      "[40. 40.]\n",
      "[-0.4 -0.4]\n",
      "[420.9687 420.9687]\n",
      "[-80.  80.]\n",
      "[ 40. -40.]\n"
     ]
    }
   ],
   "source": [
    "for t in cec17:\n",
    "    print(t.global_optimal[[0, -1]])"
   ]
  },
  {
   "cell_type": "code",
   "execution_count": 17,
   "metadata": {},
   "outputs": [
    {
     "name": "stdout",
     "output_type": "stream",
     "text": [
      "[0.5 0.5]\n",
      "[0.9 0.9]\n",
      "[0.1 0.1]\n",
      "[0.1 0.1]\n",
      "[0.5 0.5]\n",
      "[0.9 0.9]\n",
      "[0.1 0.1]\n",
      "[0.9209687 0.9209687]\n",
      "[0.1 0.9]\n",
      "[0.9 0.1]\n"
     ]
    }
   ],
   "source": [
    "print(cec17[0].encode(cec17[0].global_optimal)[[0, -1]])\n",
    "print(cec17[1].encode(cec17[1].global_optimal)[[0, -1]])\n",
    "print(cec17[2].encode(cec17[2].global_optimal)[[0, -1]])\n",
    "print(cec17[3].encode(cec17[3].global_optimal)[[0, -1]])\n",
    "print(cec17[4].encode(cec17[4].global_optimal)[[0, -1]])\n",
    "print(cec17[5].encode(cec17[5].global_optimal)[[0, -1]])\n",
    "print(cec17[6].encode(cec17[6].global_optimal)[[0, -1]])\n",
    "print(cec17[7].encode(cec17[7].global_optimal)[[0, -1]])\n",
    "print(cec17[8].encode(cec17[8].global_optimal)[[0, -1]])\n",
    "print(cec17[9].encode(cec17[9].global_optimal)[[0, -1]])"
   ]
  },
  {
   "cell_type": "markdown",
   "metadata": {},
   "source": [
    "shift\n",
    "\n",
    "encode: đầu vào là không gian đã dịch chuyển\n",
    "\n",
    "> R' -bound-> bounded_space -encode-> [0, 1] \n",
    "\n",
    "decode: đầu vào là không gian mã hóa [0, 1] \n",
    "\n",
    ">[0, 1] -decode-> bounded_space -unbound-> R' -inv_shift-> R"
   ]
  },
  {
   "cell_type": "code",
   "execution_count": 18,
   "metadata": {},
   "outputs": [],
   "source": [
    "cec17_2 = Benchmark.CEC17_benchmark.get_10tasks_benchmark()"
   ]
  },
  {
   "cell_type": "code",
   "execution_count": 19,
   "metadata": {},
   "outputs": [
    {
     "data": {
      "text/plain": [
       "<MFEA_lib.tasks.function.Sphere at 0x7f6484482100>"
      ]
     },
     "execution_count": 19,
     "metadata": {},
     "output_type": "execute_result"
    }
   ],
   "source": [
    "cec17[0]"
   ]
  },
  {
   "cell_type": "code",
   "execution_count": 20,
   "metadata": {},
   "outputs": [
    {
     "data": {
      "text/plain": [
       "<MFEA_lib.tasks.function.Sphere at 0x7f64840e7e50>"
      ]
     },
     "execution_count": 20,
     "metadata": {},
     "output_type": "execute_result"
    }
   ],
   "source": [
    "cec17_2[0]"
   ]
  },
  {
   "cell_type": "code",
   "execution_count": 21,
   "metadata": {},
   "outputs": [
    {
     "data": {
      "text/plain": [
       "True"
      ]
     },
     "execution_count": 21,
     "metadata": {},
     "output_type": "execute_result"
    }
   ],
   "source": [
    "cec17[0] == cec17_2[0]"
   ]
  },
  {
   "cell_type": "markdown",
   "metadata": {},
   "source": [
    "### EA"
   ]
  },
  {
   "cell_type": "code",
   "execution_count": 1,
   "metadata": {},
   "outputs": [],
   "source": [
    "from MFEA_lib.EA import *\n"
   ]
  },
  {
   "cell_type": "markdown",
   "metadata": {},
   "source": [
    "#### Population"
   ]
  },
  {
   "cell_type": "code",
   "execution_count": 23,
   "metadata": {},
   "outputs": [
    {
     "data": {
      "text/plain": [
       "<MFEA_lib.EA.Population at 0x7f6484157880>"
      ]
     },
     "execution_count": 23,
     "metadata": {},
     "output_type": "execute_result"
    }
   ],
   "source": [
    "popTest = Population(\n",
    "    nb_inds_tasks= [2] * 10,\n",
    "    dim = 50,\n",
    "    list_tasks= cec17\n",
    ")\n",
    "popTest"
   ]
  },
  {
   "cell_type": "code",
   "execution_count": 24,
   "metadata": {},
   "outputs": [
    {
     "data": {
      "text/plain": [
       "<MFEA_lib.EA.Population at 0x7f64840e70d0>"
      ]
     },
     "execution_count": 24,
     "metadata": {},
     "output_type": "execute_result"
    }
   ],
   "source": [
    "popTest2 = Population(\n",
    "    nb_inds_tasks= [2] * 10,\n",
    "    dim = 50,\n",
    "    list_tasks= cec17\n",
    ")\n",
    "popTest2"
   ]
  },
  {
   "cell_type": "code",
   "execution_count": 25,
   "metadata": {},
   "outputs": [
    {
     "data": {
      "text/plain": [
       "<MFEA_lib.EA.Population at 0x7f64841132b0>"
      ]
     },
     "execution_count": 25,
     "metadata": {},
     "output_type": "execute_result"
    }
   ],
   "source": [
    "c = popTest + popTest2\n",
    "c"
   ]
  },
  {
   "cell_type": "code",
   "execution_count": 3,
   "metadata": {},
   "outputs": [
    {
     "ename": "TypeError",
     "evalue": "can only assign an iterable",
     "output_type": "error",
     "traceback": [
      "\u001b[0;31m---------------------------------------------------------------------------\u001b[0m",
      "\u001b[0;31mTypeError\u001b[0m                                 Traceback (most recent call last)",
      "\u001b[0;32m/tmp/ipykernel_219492/2848209148.py\u001b[0m in \u001b[0;36m<module>\u001b[0;34m\u001b[0m\n\u001b[1;32m      1\u001b[0m \u001b[0ma\u001b[0m \u001b[0;34m=\u001b[0m \u001b[0;34m[\u001b[0m\u001b[0;36m1\u001b[0m\u001b[0;34m,\u001b[0m \u001b[0;36m2\u001b[0m\u001b[0;34m,\u001b[0m \u001b[0;36m3\u001b[0m\u001b[0;34m]\u001b[0m\u001b[0;34m\u001b[0m\u001b[0;34m\u001b[0m\u001b[0m\n\u001b[0;32m----> 2\u001b[0;31m \u001b[0ma\u001b[0m\u001b[0;34m[\u001b[0m\u001b[0;34m:\u001b[0m\u001b[0;34m]\u001b[0m \u001b[0;34m=\u001b[0m \u001b[0;36m1\u001b[0m\u001b[0;34m\u001b[0m\u001b[0;34m\u001b[0m\u001b[0m\n\u001b[0m\u001b[1;32m      3\u001b[0m \u001b[0ma\u001b[0m\u001b[0;34m\u001b[0m\u001b[0;34m\u001b[0m\u001b[0m\n",
      "\u001b[0;31mTypeError\u001b[0m: can only assign an iterable"
     ]
    }
   ],
   "source": [
    "a = [1, 2, 3]\n",
    "a[:] = 1\n",
    "a"
   ]
  },
  {
   "cell_type": "code",
   "execution_count": 26,
   "metadata": {},
   "outputs": [
    {
     "name": "stdout",
     "output_type": "stream",
     "text": [
      "<MFEA_lib.EA.SubPopulation object at 0x7f64841576a0>\n",
      "<MFEA_lib.EA.SubPopulation object at 0x7f64840e7910>\n",
      "<MFEA_lib.EA.SubPopulation object at 0x7f64840e7520>\n",
      "<MFEA_lib.EA.SubPopulation object at 0x7f64942887f0>\n",
      "<MFEA_lib.EA.SubPopulation object at 0x7f64840e7cd0>\n",
      "<MFEA_lib.EA.SubPopulation object at 0x7f64840e74f0>\n",
      "<MFEA_lib.EA.SubPopulation object at 0x7f64840e78b0>\n",
      "<MFEA_lib.EA.SubPopulation object at 0x7f64844d4e50>\n",
      "<MFEA_lib.EA.SubPopulation object at 0x7f64840e76d0>\n",
      "<MFEA_lib.EA.SubPopulation object at 0x7f64840e71c0>\n"
     ]
    }
   ],
   "source": [
    "for subpop in popTest:\n",
    "    print(subpop)"
   ]
  },
  {
   "cell_type": "code",
   "execution_count": 16,
   "metadata": {},
   "outputs": [
    {
     "name": "stdout",
     "output_type": "stream",
     "text": [
      "20\n",
      "20\n",
      "40\n"
     ]
    }
   ],
   "source": [
    "print(len(popTest))\n",
    "print(len(popTest2))\n",
    "print(len(c))"
   ]
  },
  {
   "cell_type": "code",
   "execution_count": 17,
   "metadata": {},
   "outputs": [
    {
     "data": {
      "text/plain": [
       "[Genes: [0.45947111 0.65439664 0.18994956 0.13192798 0.84896402 0.06942177\n",
       "  0.82264809 0.57749498 0.88322693 0.87137015 0.93131322 0.78772747\n",
       "  0.5864816  0.65998857 0.6177119  0.31168854 0.60898381 0.80852219\n",
       "  0.61594408 0.09004769 0.25306111 0.62354365 0.10167681 0.88323335\n",
       "  0.29370913 0.86177707 0.16559398 0.11647316 0.47582964 0.59440099\n",
       "  0.08891621 0.01011002 0.47686353 0.82054785 0.77870723 0.46198477\n",
       "  0.29583552 0.73124243 0.36576184 0.48025064 0.85467614 0.29701332\n",
       "  0.21951394 0.826859   0.85778467 0.10248773 0.04497189 0.70075426\n",
       "  0.11153138 0.0286998 ]\n",
       " Skill_factor: 0,\n",
       " Genes: [2.60070481e-01 3.42692977e-01 6.77034952e-04 1.07286135e-01\n",
       "  6.44066692e-01 7.43382789e-01 4.34341401e-01 3.15315189e-01\n",
       "  6.79056198e-01 3.04511088e-01 6.59737391e-01 8.12879716e-01\n",
       "  8.13717480e-01 3.41721908e-01 6.51667835e-02 4.62001612e-01\n",
       "  7.92285701e-01 9.34100879e-01 7.80713454e-01 5.78264910e-01\n",
       "  2.99406822e-01 9.09629429e-01 7.85257711e-01 1.22852189e-01\n",
       "  6.65296498e-01 3.54226295e-01 4.21791083e-01 5.76140829e-01\n",
       "  1.99422018e-01 9.96309769e-02 5.11536693e-01 1.89152670e-01\n",
       "  7.20247332e-01 5.75363896e-01 1.72505818e-01 2.23745688e-01\n",
       "  4.53194875e-01 7.67406342e-01 4.41245767e-01 4.21717761e-01\n",
       "  6.85638409e-01 2.51948099e-01 3.89802661e-01 1.00007431e-01\n",
       "  4.99000865e-01 7.05688668e-01 8.49805341e-01 2.47657561e-01\n",
       "  4.46511511e-01 6.98038167e-01]\n",
       " Skill_factor: 0]"
      ]
     },
     "execution_count": 17,
     "metadata": {},
     "output_type": "execute_result"
    }
   ],
   "source": [
    "popTest[0][:]"
   ]
  },
  {
   "cell_type": "code",
   "execution_count": 18,
   "metadata": {},
   "outputs": [
    {
     "data": {
      "text/plain": [
       "[Genes: [0.82892775 0.79816369 0.56022747 0.03021418 0.5024879  0.18200236\n",
       "  0.84528297 0.77074019 0.54366947 0.65131891 0.65634436 0.6479757\n",
       "  0.23394993 0.08217486 0.55098001 0.85189555 0.69363443 0.69677835\n",
       "  0.0752396  0.84169931 0.31404796 0.87900121 0.74040185 0.7235703\n",
       "  0.86846199 0.38311545 0.57692931 0.23112128 0.41424989 0.7171158\n",
       "  0.69490907 0.51992646 0.09952947 0.61006526 0.92069939 0.90221661\n",
       "  0.56570379 0.41955928 0.73212179 0.03102349 0.85860445 0.82236038\n",
       "  0.70989038 0.07671339 0.44575211 0.53183818 0.416701   0.1652926\n",
       "  0.57103226 0.59227731]\n",
       " Skill_factor: 0,\n",
       " Genes: [0.56967613 0.38899932 0.22729011 0.80218592 0.73740521 0.78327004\n",
       "  0.40968835 0.78085118 0.09016254 0.09964342 0.43008867 0.88246874\n",
       "  0.51255303 0.15435262 0.44542364 0.67864957 0.73727347 0.53330822\n",
       "  0.38787257 0.38359849 0.63086707 0.29967474 0.52894932 0.49638093\n",
       "  0.37845643 0.35675932 0.67911513 0.11033451 0.92937792 0.61108682\n",
       "  0.19083378 0.05109215 0.28743289 0.35543157 0.59104417 0.65838215\n",
       "  0.73415512 0.11578711 0.27196845 0.17006715 0.56739161 0.58119989\n",
       "  0.51116471 0.35751026 0.47877763 0.98874677 0.43386979 0.32116222\n",
       "  0.36553684 0.62036366]\n",
       " Skill_factor: 0]"
      ]
     },
     "execution_count": 18,
     "metadata": {},
     "output_type": "execute_result"
    }
   ],
   "source": [
    "popTest2[0][:]"
   ]
  },
  {
   "cell_type": "code",
   "execution_count": 19,
   "metadata": {},
   "outputs": [
    {
     "data": {
      "text/plain": [
       "[Genes: [0.45947111 0.65439664 0.18994956 0.13192798 0.84896402 0.06942177\n",
       "  0.82264809 0.57749498 0.88322693 0.87137015 0.93131322 0.78772747\n",
       "  0.5864816  0.65998857 0.6177119  0.31168854 0.60898381 0.80852219\n",
       "  0.61594408 0.09004769 0.25306111 0.62354365 0.10167681 0.88323335\n",
       "  0.29370913 0.86177707 0.16559398 0.11647316 0.47582964 0.59440099\n",
       "  0.08891621 0.01011002 0.47686353 0.82054785 0.77870723 0.46198477\n",
       "  0.29583552 0.73124243 0.36576184 0.48025064 0.85467614 0.29701332\n",
       "  0.21951394 0.826859   0.85778467 0.10248773 0.04497189 0.70075426\n",
       "  0.11153138 0.0286998 ]\n",
       " Skill_factor: 0,\n",
       " Genes: [2.60070481e-01 3.42692977e-01 6.77034952e-04 1.07286135e-01\n",
       "  6.44066692e-01 7.43382789e-01 4.34341401e-01 3.15315189e-01\n",
       "  6.79056198e-01 3.04511088e-01 6.59737391e-01 8.12879716e-01\n",
       "  8.13717480e-01 3.41721908e-01 6.51667835e-02 4.62001612e-01\n",
       "  7.92285701e-01 9.34100879e-01 7.80713454e-01 5.78264910e-01\n",
       "  2.99406822e-01 9.09629429e-01 7.85257711e-01 1.22852189e-01\n",
       "  6.65296498e-01 3.54226295e-01 4.21791083e-01 5.76140829e-01\n",
       "  1.99422018e-01 9.96309769e-02 5.11536693e-01 1.89152670e-01\n",
       "  7.20247332e-01 5.75363896e-01 1.72505818e-01 2.23745688e-01\n",
       "  4.53194875e-01 7.67406342e-01 4.41245767e-01 4.21717761e-01\n",
       "  6.85638409e-01 2.51948099e-01 3.89802661e-01 1.00007431e-01\n",
       "  4.99000865e-01 7.05688668e-01 8.49805341e-01 2.47657561e-01\n",
       "  4.46511511e-01 6.98038167e-01]\n",
       " Skill_factor: 0,\n",
       " Genes: [0.82892775 0.79816369 0.56022747 0.03021418 0.5024879  0.18200236\n",
       "  0.84528297 0.77074019 0.54366947 0.65131891 0.65634436 0.6479757\n",
       "  0.23394993 0.08217486 0.55098001 0.85189555 0.69363443 0.69677835\n",
       "  0.0752396  0.84169931 0.31404796 0.87900121 0.74040185 0.7235703\n",
       "  0.86846199 0.38311545 0.57692931 0.23112128 0.41424989 0.7171158\n",
       "  0.69490907 0.51992646 0.09952947 0.61006526 0.92069939 0.90221661\n",
       "  0.56570379 0.41955928 0.73212179 0.03102349 0.85860445 0.82236038\n",
       "  0.70989038 0.07671339 0.44575211 0.53183818 0.416701   0.1652926\n",
       "  0.57103226 0.59227731]\n",
       " Skill_factor: 0,\n",
       " Genes: [0.56967613 0.38899932 0.22729011 0.80218592 0.73740521 0.78327004\n",
       "  0.40968835 0.78085118 0.09016254 0.09964342 0.43008867 0.88246874\n",
       "  0.51255303 0.15435262 0.44542364 0.67864957 0.73727347 0.53330822\n",
       "  0.38787257 0.38359849 0.63086707 0.29967474 0.52894932 0.49638093\n",
       "  0.37845643 0.35675932 0.67911513 0.11033451 0.92937792 0.61108682\n",
       "  0.19083378 0.05109215 0.28743289 0.35543157 0.59104417 0.65838215\n",
       "  0.73415512 0.11578711 0.27196845 0.17006715 0.56739161 0.58119989\n",
       "  0.51116471 0.35751026 0.47877763 0.98874677 0.43386979 0.32116222\n",
       "  0.36553684 0.62036366]\n",
       " Skill_factor: 0]"
      ]
     },
     "execution_count": 19,
     "metadata": {},
     "output_type": "execute_result"
    }
   ],
   "source": [
    "c[0][:]"
   ]
  },
  {
   "cell_type": "markdown",
   "metadata": {},
   "source": [
    "#### SubPop"
   ]
  },
  {
   "cell_type": "code",
   "execution_count": 20,
   "metadata": {},
   "outputs": [
    {
     "data": {
      "text/plain": [
       "<MFEA_lib.EA.SubPopulation at 0x7f2ac55a77f0>"
      ]
     },
     "execution_count": 20,
     "metadata": {},
     "output_type": "execute_result"
    }
   ],
   "source": [
    "subPopTest = SubPopulation(\n",
    "    skill_factor= 0,\n",
    "    num_inds= 100,\n",
    "    dim= 50,\n",
    "    task= cec17[0]\n",
    ")\n",
    "subPopTest"
   ]
  },
  {
   "cell_type": "code",
   "execution_count": 21,
   "metadata": {},
   "outputs": [
    {
     "data": {
      "text/plain": [
       "<MFEA_lib.EA.SubPopulation at 0x7f2ac55bfbe0>"
      ]
     },
     "execution_count": 21,
     "metadata": {},
     "output_type": "execute_result"
    }
   ],
   "source": [
    "i = 0\n",
    "subPopTest1 = SubPopulation(\n",
    "    skill_factor= i,\n",
    "    num_inds= 100,\n",
    "    dim= 50,\n",
    "    task= cec17[i]\n",
    ")\n",
    "subPopTest1"
   ]
  },
  {
   "cell_type": "code",
   "execution_count": 22,
   "metadata": {},
   "outputs": [
    {
     "data": {
      "text/plain": [
       "[Genes: [0.45401143 0.48308908 0.74537716 0.33642418 0.78191076 0.95148028\n",
       "  0.71787959 0.98605442 0.99550558 0.72638121 0.3217523  0.97994968\n",
       "  0.70997773 0.84276777 0.88705273 0.71878093 0.44904558 0.7438054\n",
       "  0.34228124 0.46227372 0.30307873 0.23203655 0.68498679 0.79678691\n",
       "  0.83050336 0.92591799 0.42288656 0.52200825 0.15108608 0.45584142\n",
       "  0.70273784 0.99362511 0.81953476 0.53480827 0.08570323 0.73631016\n",
       "  0.48866039 0.87363827 0.99267286 0.67891569 0.98817744 0.62647053\n",
       "  0.46030713 0.55752415 0.14039502 0.92236823 0.58326103 0.42075589\n",
       "  0.68413919 0.05964112]\n",
       " Skill_factor: 0,\n",
       " Genes: [0.26445608 0.22813851 0.15484065 0.29827476 0.5741057  0.23343898\n",
       "  0.47719628 0.12539063 0.73043621 0.60755955 0.78826291 0.70817742\n",
       "  0.38279451 0.5671446  0.18791924 0.53619209 0.83387832 0.65439037\n",
       "  0.24023266 0.69144594 0.14931052 0.05662877 0.00423042 0.12608399\n",
       "  0.94602655 0.16951778 0.46717255 0.35085479 0.94484531 0.53912587\n",
       "  0.75627336 0.47040701 0.72285895 0.28227974 0.72924548 0.99201371\n",
       "  0.31113889 0.52872048 0.90519716 0.40385548 0.66012564 0.73693985\n",
       "  0.23862515 0.97785983 0.18469637 0.87434661 0.54824635 0.19156652\n",
       "  0.86092919 0.56694825]\n",
       " Skill_factor: 0]"
      ]
     },
     "execution_count": 22,
     "metadata": {},
     "output_type": "execute_result"
    }
   ],
   "source": [
    "subPopTest[[1, 3]]"
   ]
  },
  {
   "cell_type": "code",
   "execution_count": 23,
   "metadata": {},
   "outputs": [
    {
     "data": {
      "text/plain": [
       "<MFEA_lib.EA.SubPopulation at 0x7f2ac568a8b0>"
      ]
     },
     "execution_count": 23,
     "metadata": {},
     "output_type": "execute_result"
    }
   ],
   "source": [
    "c = subPopTest + subPopTest1\n",
    "c"
   ]
  },
  {
   "cell_type": "code",
   "execution_count": 24,
   "metadata": {},
   "outputs": [
    {
     "data": {
      "text/plain": [
       "200"
      ]
     },
     "execution_count": 24,
     "metadata": {},
     "output_type": "execute_result"
    }
   ],
   "source": [
    "len(c)"
   ]
  },
  {
   "cell_type": "code",
   "execution_count": 25,
   "metadata": {},
   "outputs": [],
   "source": [
    "a = subPopTest.ls_inds"
   ]
  },
  {
   "cell_type": "code",
   "execution_count": 26,
   "metadata": {},
   "outputs": [
    {
     "data": {
      "text/plain": [
       "array([ 48, 104,   7,  59, 154,  29, 183,  65, 185,   4, 198,  90,  22,\n",
       "        68,  37, 118, 171,  74, 106, 190, 153, 158,  49,  27,  89,  38,\n",
       "        36,  52, 142, 122,   6,  18, 199,  41,  45,  63,  39, 126, 175,\n",
       "        23, 155, 149, 135,  60,  25,  53, 140, 176,  34,  93,  79,  87,\n",
       "       117, 152, 127,  17,  95,  10,  71, 179,  97,   3, 121,  72,  14,\n",
       "       191, 124,  61,  83, 193, 173,   9,   8,  69, 163, 196,  13, 120,\n",
       "        11, 166, 132,  98, 141, 160,  81,  43, 186, 123, 170, 144,  80,\n",
       "        51, 180, 159,  20,  19, 136,  96, 172,  33,  66, 131,  94, 165,\n",
       "       108,  91,   1, 100, 148, 115, 138,   5,  26, 143, 112, 133,  77,\n",
       "       107, 164, 110, 147,  44, 114,  76, 181,  73,  46, 162,  86, 130,\n",
       "       167,  67, 116, 195, 109,  78,  99,  56,  31,  64, 113,  58, 169,\n",
       "        42, 197, 161,  50,  75,  12,  16,  62, 102,  40, 119, 134,  70,\n",
       "        54,  28,  55, 189, 156, 137, 125, 103, 192,  32,  47,  84, 128,\n",
       "       139, 187,  57, 174, 188, 145,  85, 111,   2,  30, 168,  15, 178,\n",
       "        35, 184,  82, 200, 151,  24,  92,  88, 129,  21, 105, 194, 177,\n",
       "       157, 182, 150, 101, 146])"
      ]
     },
     "execution_count": 26,
     "metadata": {},
     "output_type": "execute_result"
    }
   ],
   "source": [
    "c.factorial_rank"
   ]
  },
  {
   "cell_type": "markdown",
   "metadata": {},
   "source": [
    "#### Individual"
   ]
  },
  {
   "cell_type": "code",
   "execution_count": 2,
   "metadata": {},
   "outputs": [],
   "source": [
    "a = Individual(np.arange(10))\n",
    "a.skill_factor = 0\n",
    "a.fcost = 1"
   ]
  },
  {
   "cell_type": "code",
   "execution_count": 4,
   "metadata": {},
   "outputs": [
    {
     "data": {
      "text/plain": [
       "10"
      ]
     },
     "execution_count": 4,
     "metadata": {},
     "output_type": "execute_result"
    }
   ],
   "source": [
    "a.dim"
   ]
  },
  {
   "cell_type": "code",
   "execution_count": 33,
   "metadata": {},
   "outputs": [],
   "source": [
    "b = Individual(np.arange(10, 20))\n",
    "b.skill_factor = 0\n",
    "b.fcost = 1"
   ]
  },
  {
   "cell_type": "code",
   "execution_count": 34,
   "metadata": {},
   "outputs": [],
   "source": [
    "c = Individual(np.arange(5, 15))\n",
    "c.skill_factor  = 1\n",
    "c.fcost = 1"
   ]
  },
  {
   "cell_type": "code",
   "execution_count": 35,
   "metadata": {},
   "outputs": [
    {
     "data": {
      "text/plain": [
       "True"
      ]
     },
     "execution_count": 35,
     "metadata": {},
     "output_type": "execute_result"
    }
   ],
   "source": [
    "a == b"
   ]
  },
  {
   "cell_type": "code",
   "execution_count": 37,
   "metadata": {},
   "outputs": [
    {
     "data": {
      "text/plain": [
       "False"
      ]
     },
     "execution_count": 37,
     "metadata": {},
     "output_type": "execute_result"
    }
   ],
   "source": [
    "a is b"
   ]
  },
  {
   "cell_type": "code",
   "execution_count": 36,
   "metadata": {},
   "outputs": [
    {
     "data": {
      "text/plain": [
       "False"
      ]
     },
     "execution_count": 36,
     "metadata": {},
     "output_type": "execute_result"
    }
   ],
   "source": [
    "a == c"
   ]
  },
  {
   "cell_type": "code",
   "execution_count": 38,
   "metadata": {},
   "outputs": [
    {
     "data": {
      "text/plain": [
       "Genes: [0 1 2 3 4 5 6 7 8 9]\n",
       "Skill_factor: 0"
      ]
     },
     "execution_count": 38,
     "metadata": {},
     "output_type": "execute_result"
    }
   ],
   "source": [
    "a"
   ]
  },
  {
   "cell_type": "code",
   "execution_count": 39,
   "metadata": {},
   "outputs": [
    {
     "data": {
      "text/plain": [
       "Genes: [10 11 12 13 14 15 16 17 18 19]\n",
       "Skill_factor: 1"
      ]
     },
     "execution_count": 39,
     "metadata": {},
     "output_type": "execute_result"
    }
   ],
   "source": [
    "b"
   ]
  },
  {
   "cell_type": "code",
   "execution_count": 40,
   "metadata": {},
   "outputs": [
    {
     "data": {
      "text/plain": [
       "Genes: [ 5  6  7  8  9 10 11 12 13 14]\n",
       "Skill_factor: 0"
      ]
     },
     "execution_count": 40,
     "metadata": {},
     "output_type": "execute_result"
    }
   ],
   "source": [
    "c"
   ]
  },
  {
   "cell_type": "code",
   "execution_count": 41,
   "metadata": {},
   "outputs": [
    {
     "data": {
      "text/plain": [
       "Genes: [10 12 14 16 18 20 22 24 26 28]\n",
       "Skill_factor: 0"
      ]
     },
     "execution_count": 41,
     "metadata": {},
     "output_type": "execute_result"
    }
   ],
   "source": [
    "a + b"
   ]
  },
  {
   "cell_type": "code",
   "execution_count": 42,
   "metadata": {},
   "outputs": [
    {
     "data": {
      "text/plain": [
       "Genes: [-10 -10 -10 -10 -10 -10 -10 -10 -10 -10]\n",
       "Skill_factor: 0"
      ]
     },
     "execution_count": 42,
     "metadata": {},
     "output_type": "execute_result"
    }
   ],
   "source": [
    "a - b"
   ]
  },
  {
   "cell_type": "code",
   "execution_count": 43,
   "metadata": {},
   "outputs": [
    {
     "data": {
      "text/plain": [
       "Genes: [  0  11  24  39  56  75  96 119 144 171]\n",
       "Skill_factor: 0"
      ]
     },
     "execution_count": 43,
     "metadata": {},
     "output_type": "execute_result"
    }
   ],
   "source": [
    "a * b"
   ]
  },
  {
   "cell_type": "code",
   "execution_count": 44,
   "metadata": {},
   "outputs": [
    {
     "data": {
      "text/plain": [
       "Genes: [0.         0.09090909 0.16666667 0.23076923 0.28571429 0.33333333\n",
       " 0.375      0.41176471 0.44444444 0.47368421]\n",
       "Skill_factor: 0"
      ]
     },
     "execution_count": 44,
     "metadata": {},
     "output_type": "execute_result"
    }
   ],
   "source": [
    "a / b"
   ]
  },
  {
   "cell_type": "code",
   "execution_count": 45,
   "metadata": {},
   "outputs": [
    {
     "data": {
      "text/plain": [
       "Genes: [0 0 0 0 0 0 0 0 0 0]\n",
       "Skill_factor: 0"
      ]
     },
     "execution_count": 45,
     "metadata": {},
     "output_type": "execute_result"
    }
   ],
   "source": [
    "a // b"
   ]
  },
  {
   "cell_type": "code",
   "execution_count": 46,
   "metadata": {},
   "outputs": [
    {
     "data": {
      "text/plain": [
       "Genes: [0 1 2 3 4 5 6 7 8 9]\n",
       "Skill_factor: 0"
      ]
     },
     "execution_count": 46,
     "metadata": {},
     "output_type": "execute_result"
    }
   ],
   "source": [
    "a % b"
   ]
  },
  {
   "cell_type": "code",
   "execution_count": 47,
   "metadata": {},
   "outputs": [
    {
     "data": {
      "text/plain": [
       "Genes: [                  0                   1                4096\n",
       "             1594323           268435456         30517578125\n",
       "       2821109907456     232630513987207   18014398509481984\n",
       " 1350851717672992089]\n",
       "Skill_factor: 0"
      ]
     },
     "execution_count": 47,
     "metadata": {},
     "output_type": "execute_result"
    }
   ],
   "source": [
    "a ** b"
   ]
  },
  {
   "cell_type": "code",
   "execution_count": 48,
   "metadata": {},
   "outputs": [
    {
     "data": {
      "text/plain": [
       "False"
      ]
     },
     "execution_count": 48,
     "metadata": {},
     "output_type": "execute_result"
    }
   ],
   "source": [
    "a < b"
   ]
  },
  {
   "cell_type": "code",
   "execution_count": 49,
   "metadata": {},
   "outputs": [
    {
     "data": {
      "text/plain": [
       "True"
      ]
     },
     "execution_count": 49,
     "metadata": {},
     "output_type": "execute_result"
    }
   ],
   "source": [
    "a < c"
   ]
  },
  {
   "cell_type": "code",
   "execution_count": 50,
   "metadata": {},
   "outputs": [
    {
     "data": {
      "text/plain": [
       "array([7, 8, 5])"
      ]
     },
     "execution_count": 50,
     "metadata": {},
     "output_type": "execute_result"
    }
   ],
   "source": [
    "idx = np.random.choice(10, 3)\n",
    "idx"
   ]
  },
  {
   "cell_type": "code",
   "execution_count": 51,
   "metadata": {},
   "outputs": [
    {
     "data": {
      "text/plain": [
       "Genes: [0 1 2 3 4 5 6 7 8 9]\n",
       "Skill_factor: 0"
      ]
     },
     "execution_count": 51,
     "metadata": {},
     "output_type": "execute_result"
    }
   ],
   "source": [
    "a"
   ]
  },
  {
   "cell_type": "code",
   "execution_count": 52,
   "metadata": {},
   "outputs": [
    {
     "data": {
      "text/plain": [
       "Genes: [10 11 12 13 14 15 16 17 18 19]\n",
       "Skill_factor: 1"
      ]
     },
     "execution_count": 52,
     "metadata": {},
     "output_type": "execute_result"
    }
   ],
   "source": [
    "b"
   ]
  },
  {
   "cell_type": "code",
   "execution_count": 53,
   "metadata": {},
   "outputs": [
    {
     "data": {
      "text/plain": [
       "array([7, 8, 5])"
      ]
     },
     "execution_count": 53,
     "metadata": {},
     "output_type": "execute_result"
    }
   ],
   "source": [
    "a[idx]"
   ]
  },
  {
   "cell_type": "code",
   "execution_count": 54,
   "metadata": {},
   "outputs": [
    {
     "data": {
      "text/plain": [
       "array([17, 18, 15])"
      ]
     },
     "execution_count": 54,
     "metadata": {},
     "output_type": "execute_result"
    }
   ],
   "source": [
    "b[idx]"
   ]
  },
  {
   "cell_type": "code",
   "execution_count": 55,
   "metadata": {},
   "outputs": [
    {
     "ename": "TypeError",
     "evalue": "only integer scalar arrays can be converted to a scalar index",
     "output_type": "error",
     "traceback": [
      "\u001b[0;31m---------------------------------------------------------------------------\u001b[0m",
      "\u001b[0;31mTypeError\u001b[0m                                 Traceback (most recent call last)",
      "\u001b[0;32m/tmp/ipykernel_276043/100404518.py\u001b[0m in \u001b[0;36m<module>\u001b[0;34m\u001b[0m\n\u001b[0;32m----> 1\u001b[0;31m \u001b[0ma\u001b[0m\u001b[0;34m[\u001b[0m\u001b[0midx\u001b[0m\u001b[0;34m]\u001b[0m \u001b[0;34m=\u001b[0m \u001b[0mb\u001b[0m\u001b[0;34m[\u001b[0m\u001b[0midx\u001b[0m\u001b[0;34m]\u001b[0m\u001b[0;34m\u001b[0m\u001b[0;34m\u001b[0m\u001b[0m\n\u001b[0m",
      "\u001b[0;31mTypeError\u001b[0m: only integer scalar arrays can be converted to a scalar index"
     ]
    }
   ],
   "source": [
    "a[idx] = b[idx]"
   ]
  },
  {
   "cell_type": "code",
   "execution_count": null,
   "metadata": {},
   "outputs": [],
   "source": [
    "a.genes[idx] = b.genes[idx]"
   ]
  },
  {
   "cell_type": "code",
   "execution_count": null,
   "metadata": {},
   "outputs": [
    {
     "data": {
      "text/plain": [
       "Genes: [10  1  2  3  4  5  6  7 18 19]\n",
       "Skill_factor: 0"
      ]
     },
     "execution_count": 93,
     "metadata": {},
     "output_type": "execute_result"
    }
   ],
   "source": [
    "a"
   ]
  }
 ],
 "metadata": {
  "kernelspec": {
   "display_name": "Python 3.10.4 64-bit",
   "language": "python",
   "name": "python3"
  },
  "language_info": {
   "codemirror_mode": {
    "name": "ipython",
    "version": 3
   },
   "file_extension": ".py",
   "mimetype": "text/x-python",
   "name": "python",
   "nbconvert_exporter": "python",
   "pygments_lexer": "ipython3",
   "version": "3.10.4"
  },
  "orig_nbformat": 4,
  "vscode": {
   "interpreter": {
    "hash": "27f6fea6f47ae512550f0b8facdbd035a93e1dd89633f7bf2dd00a2502c71d0d"
   }
  }
 },
 "nbformat": 4,
 "nbformat_minor": 2
}
