{
 "cells": [
  {
   "cell_type": "code",
   "execution_count": 1,
   "metadata": {},
   "outputs": [],
   "source": [
    "from MFEA_lib.tasks.Benchmark.IDPC_EDU import IDPC_EDU_benchmark\n",
    "from MFEA_lib.model import MFEA_base\n",
    "from MFEA_lib.model.utils import *\n",
    "from MFEA_lib.operators.Crossover import *\n",
    "from MFEA_lib.operators.Mutation import *\n",
    "from MFEA_lib.operators.Selection import *"
   ]
  },
  {
   "cell_type": "code",
   "execution_count": 2,
   "metadata": {},
   "outputs": [
    {
     "name": "stderr",
     "output_type": "stream",
     "text": [
      "  0%|          | 0/24 [00:00<?, ?it/s]"
     ]
    },
    {
     "name": "stdout",
     "output_type": "stream",
     "text": [
      "Reading data...\n"
     ]
    },
    {
     "name": "stderr",
     "output_type": "stream",
     "text": [
      "100%|██████████| 24/24 [00:07<00:00,  3.20it/s]\n"
     ]
    }
   ],
   "source": [
    "tasks, IndClass = IDPC_EDU_benchmark.get_tasks(1)"
   ]
  },
  {
   "cell_type": "code",
   "execution_count": 3,
   "metadata": {},
   "outputs": [
    {
     "data": {
      "text/plain": [
       "[<MFEA_lib.tasks.task.IDPC_EDU_FUNC at 0x7fa386309fd0>,\n",
       " <MFEA_lib.tasks.task.IDPC_EDU_FUNC at 0x7fa36ec969a0>,\n",
       " <MFEA_lib.tasks.task.IDPC_EDU_FUNC at 0x7fa36ec96ac0>,\n",
       " <MFEA_lib.tasks.task.IDPC_EDU_FUNC at 0x7fa36ecb0fd0>,\n",
       " <MFEA_lib.tasks.task.IDPC_EDU_FUNC at 0x7fa38631d970>,\n",
       " <MFEA_lib.tasks.task.IDPC_EDU_FUNC at 0x7fa38631d280>,\n",
       " <MFEA_lib.tasks.task.IDPC_EDU_FUNC at 0x7fa36ea22460>,\n",
       " <MFEA_lib.tasks.task.IDPC_EDU_FUNC at 0x7fa38631d220>,\n",
       " <MFEA_lib.tasks.task.IDPC_EDU_FUNC at 0x7fa36ea22df0>,\n",
       " <MFEA_lib.tasks.task.IDPC_EDU_FUNC at 0x7fa38631d820>,\n",
       " <MFEA_lib.tasks.task.IDPC_EDU_FUNC at 0x7fa36ea221c0>,\n",
       " <MFEA_lib.tasks.task.IDPC_EDU_FUNC at 0x7fa385c464f0>,\n",
       " <MFEA_lib.tasks.task.IDPC_EDU_FUNC at 0x7fa385c46130>,\n",
       " <MFEA_lib.tasks.task.IDPC_EDU_FUNC at 0x7fa35bbd7280>,\n",
       " <MFEA_lib.tasks.task.IDPC_EDU_FUNC at 0x7fa35bbd7f70>,\n",
       " <MFEA_lib.tasks.task.IDPC_EDU_FUNC at 0x7fa35bbd7fa0>,\n",
       " <MFEA_lib.tasks.task.IDPC_EDU_FUNC at 0x7fa385c46a00>,\n",
       " <MFEA_lib.tasks.task.IDPC_EDU_FUNC at 0x7fa35bb89880>,\n",
       " <MFEA_lib.tasks.task.IDPC_EDU_FUNC at 0x7fa35bb899a0>,\n",
       " <MFEA_lib.tasks.task.IDPC_EDU_FUNC at 0x7fa35bb898e0>,\n",
       " <MFEA_lib.tasks.task.IDPC_EDU_FUNC at 0x7fa35bb89850>,\n",
       " <MFEA_lib.tasks.task.IDPC_EDU_FUNC at 0x7fa35bb89970>,\n",
       " <MFEA_lib.tasks.task.IDPC_EDU_FUNC at 0x7fa35bb89a90>,\n",
       " <MFEA_lib.tasks.task.IDPC_EDU_FUNC at 0x7fa35bb89b80>]"
      ]
     },
     "execution_count": 3,
     "metadata": {},
     "output_type": "execute_result"
    }
   ],
   "source": [
    "tasks"
   ]
  },
  {
   "cell_type": "code",
   "execution_count": 4,
   "metadata": {},
   "outputs": [
    {
     "name": "stdout",
     "output_type": "stream",
     "text": [
      "Time: 00m 14.15s    7 % [=>                  ]  Cost: 4.60E+01  2.10E+01  4.20E+01  4.90E+01  2.60E+01  1.20E+01  3.90E+01  1.80E+01  3.20E+01  4.60E+01  4.60E+01  3.90E+01  3.60E+01  2.50E+01  1.30E+01  3.30E+01  4.20E+01  1.60E+01  1.60E+01  4.60E+01  1.20E+01  2.60E+01  2.10E+01  2.80E+01  ,  "
     ]
    },
    {
     "ename": "KeyboardInterrupt",
     "evalue": "",
     "output_type": "error",
     "traceback": [
      "\u001b[0;31m---------------------------------------------------------------------------\u001b[0m",
      "\u001b[0;31mKeyboardInterrupt\u001b[0m                         Traceback (most recent call last)",
      "\u001b[0;32m/tmp/ipykernel_334588/1928829637.py\u001b[0m in \u001b[0;36m<module>\u001b[0;34m\u001b[0m\n\u001b[1;32m      8\u001b[0m     \u001b[0mselection\u001b[0m\u001b[0;34m=\u001b[0m \u001b[0mElitismSelection\u001b[0m\u001b[0;34m(\u001b[0m\u001b[0;34m)\u001b[0m\u001b[0;34m\u001b[0m\u001b[0;34m\u001b[0m\u001b[0m\n\u001b[1;32m      9\u001b[0m )\n\u001b[0;32m---> 10\u001b[0;31m solve = baseModel.fit(\n\u001b[0m\u001b[1;32m     11\u001b[0m     \u001b[0mnb_generations\u001b[0m \u001b[0;34m=\u001b[0m \u001b[0;36m1000\u001b[0m\u001b[0;34m,\u001b[0m \u001b[0mrmp\u001b[0m \u001b[0;34m=\u001b[0m \u001b[0;36m0.3\u001b[0m\u001b[0;34m,\u001b[0m \u001b[0mnb_inds_each_task\u001b[0m\u001b[0;34m=\u001b[0m \u001b[0;36m100\u001b[0m\u001b[0;34m,\u001b[0m\u001b[0;34m\u001b[0m\u001b[0;34m\u001b[0m\u001b[0m\n\u001b[1;32m     12\u001b[0m     \u001b[0mbound_pop\u001b[0m\u001b[0;34m=\u001b[0m \u001b[0;34m[\u001b[0m\u001b[0;36m0\u001b[0m\u001b[0;34m,\u001b[0m \u001b[0;36m1\u001b[0m\u001b[0;34m]\u001b[0m\u001b[0;34m,\u001b[0m \u001b[0mevaluate_initial_skillFactor\u001b[0m\u001b[0;34m=\u001b[0m \u001b[0;32mTrue\u001b[0m\u001b[0;34m\u001b[0m\u001b[0;34m\u001b[0m\u001b[0m\n",
      "\u001b[0;32m/mnt/ee1bd79c-6956-419b-951b-4699528687d7/MFEA_MSO/MFEA_lib/model/MFEA_base.py\u001b[0m in \u001b[0;36mfit\u001b[0;34m(self, nb_generations, rmp, nb_inds_each_task, evaluate_initial_skillFactor, *args, **kwargs)\u001b[0m\n\u001b[1;32m     43\u001b[0m             \u001b[0;32mwhile\u001b[0m \u001b[0mlen\u001b[0m\u001b[0;34m(\u001b[0m\u001b[0moffsprings\u001b[0m\u001b[0;34m)\u001b[0m \u001b[0;34m<\u001b[0m \u001b[0mlen\u001b[0m\u001b[0;34m(\u001b[0m\u001b[0mpopulation\u001b[0m\u001b[0;34m)\u001b[0m\u001b[0;34m:\u001b[0m\u001b[0;34m\u001b[0m\u001b[0;34m\u001b[0m\u001b[0m\n\u001b[1;32m     44\u001b[0m                 \u001b[0;31m# choose parent\u001b[0m\u001b[0;34m\u001b[0m\u001b[0;34m\u001b[0m\u001b[0;34m\u001b[0m\u001b[0m\n\u001b[0;32m---> 45\u001b[0;31m                 \u001b[0mpa\u001b[0m\u001b[0;34m,\u001b[0m \u001b[0mpb\u001b[0m \u001b[0;34m=\u001b[0m \u001b[0mpopulation\u001b[0m\u001b[0;34m.\u001b[0m\u001b[0m__getRandomInds__\u001b[0m\u001b[0;34m(\u001b[0m\u001b[0;36m2\u001b[0m\u001b[0;34m)\u001b[0m\u001b[0;34m\u001b[0m\u001b[0;34m\u001b[0m\u001b[0m\n\u001b[0m\u001b[1;32m     46\u001b[0m \u001b[0;34m\u001b[0m\u001b[0m\n\u001b[1;32m     47\u001b[0m                 \u001b[0;32mif\u001b[0m \u001b[0mpa\u001b[0m\u001b[0;34m.\u001b[0m\u001b[0mskill_factor\u001b[0m \u001b[0;34m==\u001b[0m \u001b[0mpb\u001b[0m\u001b[0;34m.\u001b[0m\u001b[0mskill_factor\u001b[0m \u001b[0;32mor\u001b[0m \u001b[0mnp\u001b[0m\u001b[0;34m.\u001b[0m\u001b[0mrandom\u001b[0m\u001b[0;34m.\u001b[0m\u001b[0mrand\u001b[0m\u001b[0;34m(\u001b[0m\u001b[0;34m)\u001b[0m \u001b[0;34m<\u001b[0m \u001b[0mrmp\u001b[0m\u001b[0;34m:\u001b[0m\u001b[0;34m\u001b[0m\u001b[0;34m\u001b[0m\u001b[0m\n",
      "\u001b[0;32m/mnt/ee1bd79c-6956-419b-951b-4699528687d7/MFEA_MSO/MFEA_lib/EA.py\u001b[0m in \u001b[0;36m__getRandomInds__\u001b[0;34m(self, size, replace)\u001b[0m\n\u001b[1;32m    292\u001b[0m             \u001b[0mres\u001b[0m \u001b[0;34m=\u001b[0m \u001b[0;34m[\u001b[0m\u001b[0;34m]\u001b[0m\u001b[0;34m\u001b[0m\u001b[0;34m\u001b[0m\u001b[0m\n\u001b[1;32m    293\u001b[0m             \u001b[0;32mfor\u001b[0m \u001b[0midx\u001b[0m\u001b[0;34m,\u001b[0m \u001b[0mnb_inds\u001b[0m \u001b[0;32min\u001b[0m \u001b[0menumerate\u001b[0m\u001b[0;34m(\u001b[0m\u001b[0mnb_randInds\u001b[0m\u001b[0;34m)\u001b[0m\u001b[0;34m:\u001b[0m\u001b[0;34m\u001b[0m\u001b[0;34m\u001b[0m\u001b[0m\n\u001b[0;32m--> 294\u001b[0;31m                 \u001b[0mres\u001b[0m \u001b[0;34m+=\u001b[0m \u001b[0mself\u001b[0m\u001b[0;34m.\u001b[0m\u001b[0mls_subPop\u001b[0m\u001b[0;34m[\u001b[0m\u001b[0midx\u001b[0m\u001b[0;34m]\u001b[0m\u001b[0;34m.\u001b[0m\u001b[0m__getRandomItems__\u001b[0m\u001b[0;34m(\u001b[0m\u001b[0msize\u001b[0m \u001b[0;34m=\u001b[0m \u001b[0mnb_inds\u001b[0m\u001b[0;34m,\u001b[0m \u001b[0mreplace\u001b[0m\u001b[0;34m=\u001b[0m \u001b[0mreplace\u001b[0m\u001b[0;34m)\u001b[0m\u001b[0;34m\u001b[0m\u001b[0;34m\u001b[0m\u001b[0m\n\u001b[0m\u001b[1;32m    295\u001b[0m \u001b[0;34m\u001b[0m\u001b[0m\n\u001b[1;32m    296\u001b[0m             \u001b[0;32mreturn\u001b[0m \u001b[0mres\u001b[0m\u001b[0;34m\u001b[0m\u001b[0;34m\u001b[0m\u001b[0m\n",
      "\u001b[0;31mKeyboardInterrupt\u001b[0m: "
     ]
    }
   ],
   "source": [
    "baseModel = MFEA_base.model()\n",
    "baseModel.compile(\n",
    "    IndClass= IndClass,\n",
    "    tasks= tasks,\n",
    "    # crossover= newSBX(nc = 2, gamma= 0.4, alpha= 6),\n",
    "    crossover= NoCrossover(nc = 2),\n",
    "    mutation= NoMutation(nm = 5),\n",
    "    selection= ElitismSelection()\n",
    ")\n",
    "solve = baseModel.fit(\n",
    "    nb_generations = 1000, rmp = 0.3, nb_inds_each_task= 100, \n",
    "    bound_pop= [0, 1], evaluate_initial_skillFactor= True\n",
    ")"
   ]
  }
 ],
 "metadata": {
  "interpreter": {
   "hash": "dc29121b710160dedfab00cfa4b6e365131445888a2b6fa6d728e4138a62e26f"
  },
  "kernelspec": {
   "display_name": "Python 3.9.7 ('base')",
   "language": "python",
   "name": "python3"
  },
  "language_info": {
   "codemirror_mode": {
    "name": "ipython",
    "version": 3
   },
   "file_extension": ".py",
   "mimetype": "text/x-python",
   "name": "python",
   "nbconvert_exporter": "python",
   "pygments_lexer": "ipython3",
   "version": "3.9.5"
  },
  "orig_nbformat": 4
 },
 "nbformat": 4,
 "nbformat_minor": 2
}
