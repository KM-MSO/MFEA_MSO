{
 "cells": [
  {
   "cell_type": "code",
   "execution_count": 1,
   "metadata": {},
   "outputs": [],
   "source": [
    "from MFEA_lib.tasks.Benchmark.IDPC_EDU import IDPC_EDU_benchmark\n",
    "from MFEA_lib.model import MFEA_base\n",
    "from MFEA_lib.model.utils import *\n",
    "from MFEA_lib.operators.Crossover import *\n",
    "from MFEA_lib.operators.Mutation import *\n",
    "from MFEA_lib.operators.Selection import *"
   ]
  },
  {
   "cell_type": "code",
   "execution_count": 2,
   "metadata": {},
   "outputs": [
    {
     "name": "stderr",
     "output_type": "stream",
     "text": [
      "  0%|          | 0/24 [00:00<?, ?it/s]"
     ]
    },
    {
     "name": "stdout",
     "output_type": "stream",
     "text": [
      "Reading data...\n"
     ]
    },
    {
     "name": "stderr",
     "output_type": "stream",
     "text": [
      "100%|██████████| 24/24 [00:08<00:00,  2.94it/s]\n"
     ]
    }
   ],
   "source": [
    "tasks, IndClass = IDPC_EDU_benchmark.get_tasks(1)"
   ]
  },
  {
   "cell_type": "code",
   "execution_count": 3,
   "metadata": {},
   "outputs": [
    {
     "data": {
      "text/plain": [
       "45"
      ]
     },
     "execution_count": 3,
     "metadata": {},
     "output_type": "execute_result"
    }
   ],
   "source": [
    "tasks[0].num_nodes"
   ]
  },
  {
   "cell_type": "code",
   "execution_count": 5,
   "metadata": {},
   "outputs": [
    {
     "name": "stdout",
     "output_type": "stream",
     "text": [
      "Time: 00m 1.98s    0 % [>                   ]  Cost: 5.00E+01  2.10E+01  4.20E+01  4.90E+01  2.60E+01  1.20E+01  3.40E+01  1.80E+01  3.20E+01  4.60E+01  4.60E+01  3.70E+01  3.60E+01  2.50E+01  1.30E+01  3.30E+01  4.20E+01  1.60E+01  1.60E+01  4.70E+01  1.20E+01  2.60E+01  2.10E+01  2.80E+01  ,  "
     ]
    }
   ],
   "source": [
    "baseModel = MFEA_base.model()\n",
    "baseModel.compile(\n",
    "    IndClass= IndClass,\n",
    "    tasks= tasks,\n",
    "    # crossover= newSBX(nc = 2, gamma= 0.4, alpha= 6),\n",
    "    crossover= IDPCEDU_Crossover(),\n",
    "    mutation= IDPCEDU_Mutation(),\n",
    "    selection= ElitismSelection()\n",
    ")\n",
    "solve = baseModel.fit(\n",
    "    nb_generations = 1000, rmp = 0.3, nb_inds_each_task= 100, \n",
    "    bound_pop= [0, 1], evaluate_initial_skillFactor= True\n",
    ")"
   ]
  }
 ],
 "metadata": {
  "interpreter": {
   "hash": "dc29121b710160dedfab00cfa4b6e365131445888a2b6fa6d728e4138a62e26f"
  },
  "kernelspec": {
   "display_name": "Python 3.9.7 ('base')",
   "language": "python",
   "name": "python3"
  },
  "language_info": {
   "codemirror_mode": {
    "name": "ipython",
    "version": 3
   },
   "file_extension": ".py",
   "mimetype": "text/x-python",
   "name": "python",
   "nbconvert_exporter": "python",
   "pygments_lexer": "ipython3",
   "version": "3.9.5"
  },
  "orig_nbformat": 4
 },
 "nbformat": 4,
 "nbformat_minor": 2
}
